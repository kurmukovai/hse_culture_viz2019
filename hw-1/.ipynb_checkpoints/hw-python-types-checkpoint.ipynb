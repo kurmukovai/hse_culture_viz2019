{
 "cells": [
  {
   "cell_type": "markdown",
   "metadata": {},
   "source": [
    "## Первое домашнее задание будет состоять из 2 частей,\n",
    "## Это первая часть, сдать до 23:59 Понедельника 7 Октября.\n",
    "## Присылать на почту kurmukovai@gmail.com с темой hw1-Culture-Name-Surname\n",
    "\n",
    "## Первое домашнее задание:\n",
    "\n",
    "1. Отработать навыки работы с основными типами данных в Python. Попрактиковаться в написании функций.\n",
    "2. Отработать навыки работы с основными структурами данных в Python (будет выдано в понедельник).\n",
    "\n",
    "## Прежде чем начать:\n",
    "\n",
    "1. http://pythontutor.com/live.html#mode=edit\n",
    "2. Чтобы получить подсказку для любой функции:\n",
    "    - наберите название функции, а затем ()\n",
    "    - поместите курсор внутрь круглых скобок\n",
    "    - нажмите `Shift + Tab`\n",
    "3. Чтобы выполнить ячейку используйте комбинацию клавиш `Shift + Enter`.\n",
    "4. Чтобы получить подсказку по другим горячим клавишам нажмите `Esc` затем `h`\n",
    "5. Будут вопросы, задавайте вопросы. Любые. В общем чате."
   ]
  },
  {
   "cell_type": "markdown",
   "metadata": {},
   "source": [
    "### 1\n",
    "- Создайте две переменные `a` и `b` и присвойте им значение `100` и `25`, соответственно.\n",
    "- Какой тип имеют эти переменные?\n",
    "\n",
    "**Hint** используйте встроенную функцию `type()`"
   ]
  },
  {
   "cell_type": "code",
   "execution_count": null,
   "metadata": {},
   "outputs": [],
   "source": []
  },
  {
   "cell_type": "markdown",
   "metadata": {},
   "source": [
    "### 2\n",
    "Посчитайте:\n",
    "   - разность `a - b`\n",
    "   - сумму `a + b`"
   ]
  },
  {
   "cell_type": "code",
   "execution_count": null,
   "metadata": {},
   "outputs": [],
   "source": []
  },
  {
   "cell_type": "markdown",
   "metadata": {},
   "source": [
    "### 3\n",
    "Посчитайте значения:\n",
    "  - произведение `a * b`\n",
    "  - частное `b / а`\n",
    "  - напечатайте какой тип имеет произведение?\n",
    "  - напечатайте какой тип имеет частное?\n",
    "  \n",
    "**Hint** используйте функцию `print()`"
   ]
  },
  {
   "cell_type": "code",
   "execution_count": null,
   "metadata": {},
   "outputs": [],
   "source": []
  },
  {
   "cell_type": "markdown",
   "metadata": {},
   "source": [
    "### 4\n",
    "\n",
    "Создайте переменную со значением `8097.0` (цена 1 BTC в Долларах США)\n",
    "- Какого она типа?\n",
    "- Измените ее тип на тип целое число `int`\n",
    "\n",
    "**Hint** для этого воспользуйтесь функцией `int()` которая на вход принимает переменную и приводит ее к типу целое число, если это возможно."
   ]
  },
  {
   "cell_type": "code",
   "execution_count": null,
   "metadata": {},
   "outputs": [],
   "source": []
  },
  {
   "cell_type": "markdown",
   "metadata": {},
   "source": [
    "### 5\n",
    "Создайте переменную со значением 524162.92 (цена 1 BTC в Российских рублях)\n",
    "- Какого она типа? \n",
    "- Попробуйте изменить ее тип на тип `int`. Какой вы получили результат?\n",
    "- Воспользуйтесь функцией `round()`, что она делает?"
   ]
  },
  {
   "cell_type": "code",
   "execution_count": null,
   "metadata": {},
   "outputs": [],
   "source": []
  },
  {
   "cell_type": "markdown",
   "metadata": {},
   "source": [
    "### 6\n",
    "\n",
    "- Посчитайте курс доллара на основе цены на Биткоин в Рублях и в Долларах (Сколько рублей стоит 1 доллар?)\n"
   ]
  },
  {
   "cell_type": "code",
   "execution_count": null,
   "metadata": {},
   "outputs": [],
   "source": []
  },
  {
   "cell_type": "markdown",
   "metadata": {},
   "source": [
    "### 7 \n",
    "- На сколько **рублей** цена 1 доллара рассчитанная таким образом, отличается от курса (продажи) Сбербанка?\n",
    "- На сколько **процентов** цена 1 доллара рассчитанная таким образом, отличается от курса (продажи) Сбербанка?\n",
    "\n",
    "**Hint** текущий курс покупки/продажи можно посмотреть здесь https://www.sberbank.ru/ru/quotes/currencies"
   ]
  },
  {
   "cell_type": "code",
   "execution_count": null,
   "metadata": {},
   "outputs": [],
   "source": []
  },
  {
   "cell_type": "markdown",
   "metadata": {},
   "source": [
    "### 8\n",
    "Каковы будут ваши **потери** если вы продадите Сбербанку 1 BTC (в долларах), а затем купите (в рублях)?\n",
    "\n",
    "- В рублях?\n",
    "- В процентах?\n",
    "\n",
    "*В предположении что за время покупки/продажи взаимные курсы валют не изменились (Рубль к Биткоину, Биткоин к Доллару, Доллар к Рублю)*"
   ]
  },
  {
   "cell_type": "code",
   "execution_count": null,
   "metadata": {},
   "outputs": [],
   "source": []
  },
  {
   "cell_type": "markdown",
   "metadata": {},
   "source": [
    "### 9\n",
    "\n",
    "3 года назад (30 Сентября 2016 года) когда цена `1 BTC` составляла `38721.31` Рубль, прозорливый дядя Фёдер закупил `10 BTC`.\n",
    "- Сможет ли дядя Фёдор купить себе квартиру на Выхино за `5000000` рублей сегодня?"
   ]
  },
  {
   "cell_type": "code",
   "execution_count": null,
   "metadata": {},
   "outputs": [],
   "source": []
  },
  {
   "cell_type": "code",
   "execution_count": null,
   "metadata": {},
   "outputs": [],
   "source": []
  },
  {
   "cell_type": "markdown",
   "metadata": {},
   "source": [
    "### 10\n",
    "\n",
    "- Напишите функцию которая на вход принимает число - доход, и возвращает сумму НДФЛ для этого дохода (13%).\n",
    "\n",
    "**Hint** \n",
    "\n",
    "`\n",
    "def add_numbers(a,b):\n",
    "    return a + b\n",
    "`\n",
    "\n",
    "`\n",
    "c = add_numbers(3, 4)\n",
    "print(c)\n",
    "7\n",
    "`"
   ]
  },
  {
   "cell_type": "code",
   "execution_count": null,
   "metadata": {},
   "outputs": [],
   "source": []
  },
  {
   "cell_type": "markdown",
   "metadata": {},
   "source": [
    "### 11\n",
    "К дяде Фёдору пришла налоговая и потребовала заплатить НДФЛ.\n",
    "\n",
    "- Сможет ли дядя Фёдор купить себе квартиру на Выхино за `5000000` рублей после оплаты налога?\n",
    "\n",
    "**Hint** налог платится с суммы дохода (цена `10 BTC` сегодня минус цена `10 BTC` 3 года назад в момент покупки).\n",
    "\n",
    "**Hint 2** https://journal.tinkoff.ru/ask/prodal-usd-sdai-3ndfl/"
   ]
  },
  {
   "cell_type": "code",
   "execution_count": null,
   "metadata": {},
   "outputs": [],
   "source": []
  },
  {
   "cell_type": "markdown",
   "metadata": {},
   "source": [
    "### 12\n",
    "\n",
    " - Создайте две переменные типа `str` (строка) со значениями `hello` и `world` (например `s1` и `s2`).\n",
    " - Сложите их (используя оператор `+`) и напечатайте результат."
   ]
  },
  {
   "cell_type": "code",
   "execution_count": null,
   "metadata": {},
   "outputs": [],
   "source": []
  },
  {
   "cell_type": "markdown",
   "metadata": {},
   "source": [
    "### 13\n",
    "\n",
    "Используйте на переменную со значением `hello` методы строк:\n",
    "   - .capitalize()\n",
    "   - .lower()\n",
    "   - .upper()\n",
    "   - Опишите что они делают\n",
    "\n",
    "**Hint** для того чтобы применить метод, напишите название переменной, затем оператор `.` затем название метода,\n",
    "например `s1.method()`"
   ]
  },
  {
   "cell_type": "code",
   "execution_count": null,
   "metadata": {},
   "outputs": [],
   "source": []
  },
  {
   "cell_type": "code",
   "execution_count": null,
   "metadata": {},
   "outputs": [],
   "source": []
  },
  {
   "cell_type": "markdown",
   "metadata": {},
   "source": [
    "### 14\n",
    "\n",
    "- Используйте метод `.join()` для того чтобы получить строку `hello`, `world` из строк `hello` и `World`\n",
    "\n",
    "**Hint** обратите внимание на то, к какой строке необходимо применять метод `.join()`, попробуйте выполнить:\n",
    "\n",
    "`\n",
    "' '.join(['2','3'])\n",
    "`\n",
    "\n",
    "**Hint 2**  не забудьте привести строку `world` к `World`"
   ]
  },
  {
   "cell_type": "code",
   "execution_count": null,
   "metadata": {},
   "outputs": [],
   "source": []
  },
  {
   "cell_type": "code",
   "execution_count": null,
   "metadata": {},
   "outputs": [],
   "source": []
  },
  {
   "cell_type": "markdown",
   "metadata": {},
   "source": [
    "### 15\n",
    "- Создайте переменные `answer` и `pi` со значениями `42`, `3.14` \n",
    "- Какого они типа?\n",
    "- Посчитайте их сумму и напечатайте результат.\n",
    "- Измените их тип на тип `str` и сохраните изменения в новые переменные (`answer_str` и `pi_str`).\n",
    "- Посчитайте их сумму и напечатайте результат.\n",
    "\n",
    "**Hint** Для изменения типа переменной на тип строка, существует функция `str()`"
   ]
  },
  {
   "cell_type": "code",
   "execution_count": null,
   "metadata": {},
   "outputs": [],
   "source": []
  },
  {
   "cell_type": "markdown",
   "metadata": {},
   "source": [
    "### 16\n",
    "На переменных answer_str и pi_str воспользуйтесь методом:\n",
    "- .isdecimal()\n",
    "- Сравните результаты.\n",
    "\n",
    "**Hint** у строк есть целых 3 метода проверяющие что строка это строковое представление числа `.isdigit()`, `.isdecimal()`, `.isnumeric()` отличия между ними невелики и чаще всего они выдают одинаковый результат, см. https://stackoverflow.com/questions/44891070/whats-the-difference-between-str-isdigit-isnumeric-and-isdecimal-in-python/44891278"
   ]
  },
  {
   "cell_type": "code",
   "execution_count": null,
   "metadata": {},
   "outputs": [],
   "source": []
  },
  {
   "cell_type": "markdown",
   "metadata": {},
   "source": [
    "### 17\n",
    "\n",
    "- Воспользуйтесь функцией `len()` для того чтобы посчитать длину (количество **символов**) детской песни Солнечный круг \n",
    "- Посчитайте длину (количество символов) в песне Let it be\n",
    "- Какая из песен длиннее и на сколько **символов**?\n",
    "\n",
    "**Hint** тексты обеих песен приведены ниже.\n",
    "\n",
    "**Hint 2** `len()` это не метод, а функция"
   ]
  },
  {
   "cell_type": "code",
   "execution_count": null,
   "metadata": {},
   "outputs": [],
   "source": [
    "sun_circle  = '''Солнечный круг, небо вокруг\n",
    "Это рисунок мальчишки\n",
    "Нарисовал он на листке\n",
    "И подписал в уголке\n",
    "Пусть всегда будет солнце\n",
    "Пусть всегда будет небо\n",
    "Пусть всегда будет мама\n",
    "Пусть всегда буду я\n",
    "Пусть всегда будет солнце\n",
    "Пусть всегда будет небо\n",
    "Пусть всегда будет мама\n",
    "Пусть всегда буду я\n",
    "Милый мой друг, добрый мой друг\n",
    "Людям так хочется мира\n",
    "И в тридцать пять сердце опять\n",
    "Не устаёт повторять\n",
    "Пусть всегда будет солнце\n",
    "Пусть всегда будет небо\n",
    "Пусть всегда будет мама\n",
    "Пусть всегда буду я\n",
    "Пусть всегда будет солнце\n",
    "Пусть всегда будет небо\n",
    "Пусть всегда будет мама\n",
    "Пусть всегда буду я\n",
    "Тише солдат, слышишь солдат\n",
    "Люди пугаются взрывов\n",
    "Тысячи глаз в небо глядят\n",
    "Губы упрямо твердят\n",
    "Пусть всегда будет солнце\n",
    "Пусть всегда будет небо\n",
    "Пусть всегда будет мама\n",
    "Пусть всегда буду я\n",
    "Пусть всегда будет солнце\n",
    "Пусть всегда будет небо\n",
    "Пусть всегда будет мама\n",
    "Пусть всегда буду я\n",
    "Против беды, против войны\n",
    "Станем за наших мальчишек\n",
    "Солнце навек, счастье навек\n",
    "Так повелел человек\n",
    "Пусть всегда будет солнце\n",
    "Пусть всегда будет небо\n",
    "Пусть всегда будет мама\n",
    "Пусть всегда буду я\n",
    "Пусть всегда будет солнце\n",
    "Пусть всегда будет небо\n",
    "Пусть всегда будет мама\n",
    "Пусть всегда буду я'''\n",
    "\n",
    "\n",
    "\n",
    "\n",
    "let_it_be = '''\n",
    "When I find myself in times of trouble, Mother Mary comes to me\n",
    "Speaking words of wisdom, let it be\n",
    "And in my hour of darkness she is standing right in front of me\n",
    "Speaking words of wisdom, let it be\n",
    "Let it be, let it be, let it be, let it be\n",
    "Whisper words of wisdom, let it be\n",
    "And when the broken-hearted people living in the world agree\n",
    "There will be an answer, let it be\n",
    "For though they may be parted, there is still a chance that they will see\n",
    "There will be an answer, let it be\n",
    "Let it be, let it be, let it be, let it be\n",
    "Yeah, there will be an answer, let it be\n",
    "Let it be, let it be, let it be, let it be\n",
    "Whisper words of wisdom, let it be\n",
    "Let it be, let it be, let it be, yeah, let it be\n",
    "Whisper words of wisdom, let it be\n",
    "And when the night is cloudy there is still a light that shines on me\n",
    "Shine until tomorrow, let it be\n",
    "I wake up to the sound of music, Mother Mary comes to me\n",
    "Speaking words of wisdom, let it be\n",
    "Let it be, let it be, let it be, yeah, let it be\n",
    "There will be an answer, let it be\n",
    "Let it be, let it be, let it be, yeah, let it be\n",
    "There will be an answer, let it be\n",
    "Let it be, let it be, let it be, yeah, let it be\n",
    "Whisper words of wisdom, let it be\n",
    "'''"
   ]
  },
  {
   "cell_type": "code",
   "execution_count": null,
   "metadata": {},
   "outputs": [],
   "source": []
  },
  {
   "cell_type": "code",
   "execution_count": null,
   "metadata": {},
   "outputs": [],
   "source": []
  },
  {
   "cell_type": "markdown",
   "metadata": {},
   "source": [
    "### 18\n",
    "\n",
    "- Чего больше: слов \"Пусть всегда\" в детской песне или слов \"Let it be\" в песне ливерпульской четверки?\n",
    "\n",
    "**Hint** Воспользуйтесь методом `.count()`\n",
    "\n",
    "**Hint 2** Слова \"Let it be\" встречаются в песня как с заглавной так и со строчной буквы, учтите это при подсчете"
   ]
  },
  {
   "cell_type": "code",
   "execution_count": null,
   "metadata": {},
   "outputs": [],
   "source": []
  },
  {
   "cell_type": "code",
   "execution_count": null,
   "metadata": {},
   "outputs": [],
   "source": []
  },
  {
   "cell_type": "markdown",
   "metadata": {},
   "source": [
    "### 19\n",
    "\n",
    "- Посчитайте количество **слов** в песнях Солнечный круг и Let it be\n",
    "\n",
    "**Hint** воспользуйтесь методом .split() для того чтобы разбить длинную строку\n",
    "на список отдельных строк разделенных **пробелом**, пример:\n",
    "\n",
    "`\n",
    "'Какой красивый день!'.split(' ')\n",
    "`\n",
    "\n",
    "**Hint 2** Длину списка можно узнать так же как и длину строки (используя ту же функцию)"
   ]
  },
  {
   "cell_type": "code",
   "execution_count": null,
   "metadata": {},
   "outputs": [],
   "source": []
  },
  {
   "cell_type": "code",
   "execution_count": null,
   "metadata": {},
   "outputs": [],
   "source": []
  },
  {
   "cell_type": "markdown",
   "metadata": {},
   "source": [
    "### 20 \n",
    "\n",
    "Подкопив немного денег, дядя Фёдор все-таки купил квартиру на Выхино и\n",
    "установил в нее умный звонок, звонок озвучивает имя того кто в него звонит.\n",
    "\n",
    "- Напишите функцию которая на вход принимает два параметра **имя** и **профессию**, а на выходе возвращает фразу:\n",
    "\n",
    "**Это я, <профессия> <имя>!**\n",
    "\n",
    "**Hint** для подстановки подстроки в строку, используйте правила форматирования строк, попробуйте:\n",
    "\n",
    "`\n",
    "message = 'World!'\n",
    "s1 = f'hello, {message}'\n",
    "print(s1)\n",
    "`"
   ]
  },
  {
   "cell_type": "code",
   "execution_count": null,
   "metadata": {},
   "outputs": [],
   "source": []
  },
  {
   "cell_type": "markdown",
   "metadata": {},
   "source": [
    "### 21\n",
    "\n",
    "- Воспользуйтесь методом `.strip()` для того чтобы удалить символы пробела и переноса строки, из начала и конца куплета песни Солнечный круг.\n",
    "- Сравните длину строки до и после применения метода `.strip()`"
   ]
  },
  {
   "cell_type": "code",
   "execution_count": 1,
   "metadata": {},
   "outputs": [],
   "source": [
    "chor = ''' Пусть всегда будет солнце\n",
    "Пусть всегда будет небо\n",
    "Пусть всегда будет мама\n",
    "Пусть всегда буду я \n",
    "'''"
   ]
  },
  {
   "cell_type": "code",
   "execution_count": null,
   "metadata": {},
   "outputs": [],
   "source": []
  },
  {
   "cell_type": "code",
   "execution_count": null,
   "metadata": {},
   "outputs": [],
   "source": []
  },
  {
   "cell_type": "markdown",
   "metadata": {},
   "source": [
    "### 22\n",
    "\n",
    "- Напишите функцию котороя будет принимать на вход строку, и возвращать среднюю длину слова в этой строке. Слова в строке разделены пробелами.\n",
    "- В какой из песен (Солнечный круг или Let it be) слова в среднем длиннее?\n",
    "\n",
    "**Hint** средняя длина слова = (длина всей строки - количество пробелов) / количество слов\n",
    "\n",
    "**Hint 2** Используйте `len()`, `.split()`, `.count()`"
   ]
  },
  {
   "cell_type": "code",
   "execution_count": null,
   "metadata": {},
   "outputs": [],
   "source": []
  },
  {
   "cell_type": "code",
   "execution_count": null,
   "metadata": {},
   "outputs": [],
   "source": []
  },
  {
   "cell_type": "code",
   "execution_count": null,
   "metadata": {},
   "outputs": [],
   "source": []
  },
  {
   "cell_type": "code",
   "execution_count": null,
   "metadata": {},
   "outputs": [],
   "source": []
  }
 ],
 "metadata": {
  "kernelspec": {
   "display_name": "Python 3",
   "language": "python",
   "name": "python3"
  },
  "language_info": {
   "codemirror_mode": {
    "name": "ipython",
    "version": 3
   },
   "file_extension": ".py",
   "mimetype": "text/x-python",
   "name": "python",
   "nbconvert_exporter": "python",
   "pygments_lexer": "ipython3",
   "version": "3.7.3"
  }
 },
 "nbformat": 4,
 "nbformat_minor": 2
}
