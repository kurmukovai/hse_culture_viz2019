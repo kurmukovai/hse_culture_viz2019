{
 "cells": [
  {
   "cell_type": "markdown",
   "metadata": {},
   "source": [
    "## Первое домашнее задание состоит из 2 частей,\n",
    "## Это вторая часть, сдать до 23:59 ~Пятницы 11 Октября.~ Понедельника 14 Октября\n",
    "## Присылать на почту kurmukovai@gmail.com с темой hw1-Culture-Name-Surname\n",
    "\n",
    "## Первое домашнее задание:\n",
    "\n",
    "1. Отработать навыки работы с основными типами данных в Python. Попрактиковаться в написании функций.\n",
    "2. Отработать навыки работы с основными структурами данных в Python.\n",
    "\n",
    "## Прежде чем начать:\n",
    "\n",
    "\n",
    "В процессе выполнения домашнего задания поэксперементируйте с **pythontutor**\n",
    "1. http://pythontutor.com/live.html#code=a%20%3D%20%5B1,2,3,4,5,6%5D%0A%0Afor%20i%20in%20a%3A%0A%20%20%20%20print%28i%29&cumulative=false&curInstr=10&heapPrimitives=nevernest&mode=display&origin=opt-live.js&py=3&rawInputLstJSON=%5B%5D&textReferences=false\n",
    "2. Будут вопросы, задавайте вопросы. Любые. В общем чате."
   ]
  },
  {
   "cell_type": "markdown",
   "metadata": {},
   "source": [
    "## Контейнеры\n",
    "https://docs.python.org/3/tutorial/datastructures.html\n",
    "\n",
    "- list\n",
    "- tuple\n",
    "- set\n",
    "- dictionary"
   ]
  },
  {
   "cell_type": "markdown",
   "metadata": {},
   "source": [
    "# LIST"
   ]
  },
  {
   "cell_type": "markdown",
   "metadata": {},
   "source": [
    "### 1\n",
    "\n",
    "Существует много способов создавать list:\n",
    "- `[0, 1, 2, 3, 4]`\n",
    "- `list([0, 1, 2, 3, 4])`\n",
    "- `list(range(5))`\n",
    "- `[i for i in range(5)]`\n",
    "\n",
    "---\n",
    "\n",
    "- Создайте list состоящий из 10 последовательных целых чисел начиная с 0.\n",
    "- Напечатайте 5ый элемент именно этого листа. Какой у него индекс?\n",
    "\n",
    "**Hint** Доступ к элементу листа пожно получить используя `[]`"
   ]
  },
  {
   "cell_type": "code",
   "execution_count": null,
   "metadata": {},
   "outputs": [],
   "source": []
  },
  {
   "cell_type": "markdown",
   "metadata": {},
   "source": [
    "### 2 \n",
    "\n",
    "Самым удобным способом создавать списки последовательных целых чисел является функция `range()`:\n",
    "- Создайте список состоящий из 10 последовательных чисел начиная с 0, используя функцию `range()`\n",
    "- Напечатайте последний элемент этого списка. Чему он равен?\n",
    "- Создайте список состоящий из элементов [0, 2, 4, 6, ..., 42] (четные числа от 0 до 42) используя функцию `range()`\n",
    "\n",
    "**Hint 1** Функция `range()` может вызываться с разным набором параметров, если у вас возникнут трудности с решением этого задания, вызовите подсказку для range() (используя shift+tab) и прочтите его **ВСЛУХ**.\n",
    "\n",
    "**Hint 2** Сама по себе функция `range()` не возвращает `list()`"
   ]
  },
  {
   "cell_type": "code",
   "execution_count": null,
   "metadata": {},
   "outputs": [],
   "source": []
  },
  {
   "cell_type": "code",
   "execution_count": null,
   "metadata": {},
   "outputs": [],
   "source": []
  },
  {
   "cell_type": "code",
   "execution_count": null,
   "metadata": {},
   "outputs": [],
   "source": []
  },
  {
   "cell_type": "markdown",
   "metadata": {},
   "source": [
    "### 3\n",
    "\n",
    "Следующий способ создания list, называется List Comprehension:\n",
    "\n",
    "- `[i for i in range(5)]`\n",
    "\n",
    "важная фича List Comprehension заключается в том, что вы можете применять функции внутри него, например:\n",
    "\n",
    "`[3*i for i in range(5)]`\n",
    "\n",
    "Как вы думаете что вернет это строка? (сначала попробуйте догадаться и только потом выполните).\n",
    "\n",
    "---\n",
    "\n",
    "- Создайте список состоящий из элементов `[0.1, 0.15,, 0.2, 0.25, ... 1.0]`\n",
    "\n",
    "**Hint 1** Вы можете использовать вызов `range(start, stop, step)` внутри List Comprehension\n",
    "\n",
    "**Hint 2** Чему равно `0.1 * 100`, `0.15 * 100` ?"
   ]
  },
  {
   "cell_type": "code",
   "execution_count": null,
   "metadata": {},
   "outputs": [],
   "source": []
  },
  {
   "cell_type": "code",
   "execution_count": null,
   "metadata": {},
   "outputs": [],
   "source": []
  },
  {
   "cell_type": "markdown",
   "metadata": {},
   "source": [
    "### 4\n",
    "\n",
    "Создайте еще несколько листов:\n",
    "- `[3, 4, 5, ... 14]`\n",
    "- `[2, 5, 8, ... 29]`\n",
    "- `[0, 1, 4, 9, 16, 25, ...100]` \n",
    "- `[10, 9, 8, .. 0]`\n",
    "\n",
    "**Hint 1** Возведение в степень (в частности в квадрат) производится с помощью оператора `**`, например:\n",
    "`9**2` - > `81`\n",
    "\n",
    "**Hint 2** Умеете ли вы считать от большего к меньшему? Например с 10 до 0? С чего вы начинате такой счет (`start`)? Чем заканчиваете (`stop`)? Что вы делаете при переходе от большего числа к меньшему на каждом шаге при счете (`step`)?\n"
   ]
  },
  {
   "cell_type": "code",
   "execution_count": null,
   "metadata": {},
   "outputs": [],
   "source": []
  },
  {
   "cell_type": "code",
   "execution_count": null,
   "metadata": {},
   "outputs": [],
   "source": []
  },
  {
   "cell_type": "markdown",
   "metadata": {},
   "source": [
    "### 5\n",
    "\n",
    "Как вы знаете, доступ к элементам `list` осуществляется по индексу, с использованием оператора `[]`:\n",
    "\n",
    "`a = [1, 2, 3]; a[1]` --> `2`\n",
    "\n",
    "Для удобства доступа к элементам листа в Python существует механизм `slice` (это похоже на то как работают параметры `range()`):\n",
    "\n",
    "`a = list(range(20))`\n",
    "\n",
    "1. `a[5]` --> `4` доступ по индексу\n",
    "\n",
    "2. `a[3: 7]` --> `[2, 3, 4, 5, 6]` все элементы начиная с 3 (включая), до 7 (не включая)\n",
    "\n",
    "3. `a[10:16:2]` --> `[10, 12, 14]` все элементы начиная с 10 (включая), до 16 (не включая), с шагом 2\n",
    "\n",
    "---\n",
    "\n",
    "\n",
    "Создайте следующий лист: `[3, 2, 1, 7, 4, 1]`. Ваша задача получить из него листы:\n",
    "- `[3, 2, 1]`\n",
    "- `[2, 1, 7, 4]`\n",
    "- `[3, 1, 4]`\n",
    "- `[2, 7, 1]`\n",
    "- `[4, 2]`\n",
    "\n",
    "используя `slice`.\n",
    "\n",
    "**Hint 1** чему равен элемент листа `list(range(10))[-2]`. Попробуйте догадаться перед тем как проверить.\n",
    "\n",
    "**Hint 2** все элементы `slice`:`start`, `stop`, `step`  могут быть отрицательными."
   ]
  },
  {
   "cell_type": "code",
   "execution_count": null,
   "metadata": {},
   "outputs": [],
   "source": []
  },
  {
   "cell_type": "code",
   "execution_count": null,
   "metadata": {},
   "outputs": [],
   "source": []
  },
  {
   "cell_type": "markdown",
   "metadata": {},
   "source": [
    "### 6\n",
    "\n",
    "`list` это контейнер, который может содержать элементы произвольного типа, например `str`:\n",
    "\n",
    "`a = ['Hello', ', ', 'World', '!']`\n",
    "\n",
    "правила обращения к элементам листа, **НЕ изменяются** какие бы элементы этот лист не содержал:\n",
    "\n",
    "`a[0]` --> `'Hello'`\n",
    "\n",
    "`a[1: 3]` --> `[', ', 'World']`\n",
    "\n",
    "---\n",
    "\n",
    "Создайте list\n",
    "\n",
    "`months = [\n",
    "'Декабрь', 'Январь', 'Февраль',\n",
    "'Март', 'Апрель', 'Май',\n",
    "'Июнь', 'Июль', 'Август',\n",
    "'Сентябрь', 'Октябрь', 'Ноябрь'\n",
    "]`\n",
    "\n",
    "Используя slice перечислите:\n",
    "- самый короткий месяц в году\n",
    "- все зимние месяцы\n",
    "- все летние месяцы\n",
    "- каждый второй месяц года начиная с Января\n",
    "- первые месяцы каждого сезона (4 штуки)"
   ]
  },
  {
   "cell_type": "code",
   "execution_count": null,
   "metadata": {},
   "outputs": [],
   "source": []
  },
  {
   "cell_type": "code",
   "execution_count": null,
   "metadata": {},
   "outputs": [],
   "source": []
  },
  {
   "cell_type": "markdown",
   "metadata": {},
   "source": [
    "### 7\n",
    "\n",
    "`a = [1,2,3]`\n",
    "\n",
    "`list` относится к **изменяемым** (**mutable** англ. изменчивый) типам, это значит:\n",
    "1. Элементы листа можно изменять, получая доступ по индексу:\n",
    "\n",
    " `a[0] = 10`\n",
    " \n",
    " \n",
    "2. В лист можно добавлять новые элементы в конец листа:\n",
    "\n",
    " `a.append(40)`\n",
    " \n",
    " \n",
    "3. Или по индексу:\n",
    "\n",
    " `a.insert(0, 'Кракозябра')`\n",
    " \n",
    " \n",
    "4. Из листа можно удалять существующие элементы по индексу:\n",
    "\n",
    "  `a.pop(0)`\n",
    "\n",
    "\n",
    "5. Или по значению (будет удален первый элемент с таким значением):\n",
    "\n",
    "  `a.remove('Кракозябра')`\n",
    "  \n",
    "\n",
    "Я рекомендую **избегать** использования методов `.insert()`, `.pop()`, и `.remove()`\n",
    "\n",
    "Проведем аналогию с рабочей тетрадью (list):\n",
    "- вы можете зачеркнуть/стереть ластиком запись на одной из страниц и написать там что то новое (`запись по индексу`), это просто.\n",
    "- можете подклеить в конец новый лист (`.append()`), это несколько сложнее, но тоже не трудно\n",
    "- можно вырвать страницу из тетради, (`.remove()`, `.pop()`) но вы рискуете тем что вся тетрадь может рассыпаться (в случае с листом, вы ломаете всю существующую индексацию)\n",
    "- точно так же, вставить лист куда то в середину тетради (`.insert()`) - дело не из легких + вы сломаете нумерацию страниц своей тетради.\n",
    "\n",
    "---\n",
    "\n",
    "\n",
    "Создайте list `['Понедельник', 2, 'Cреда', 'Четверг', 5]`:\n",
    "\n",
    "- Исправьте числа 2 и 5 на Вторник и Пятницу соответственно\n",
    "- Добавьте недостающие дни в конец списка\n",
    "- Посчитайте длину итогового листа\n",
    "- Напечатайте названия будних дней (используя slice)\n",
    "- Напечатайте названия выходных дней (используя slice)\n",
    "- Напечатайте дни используемые в названии повести \"Понедельник начинается в субботу\" (используя slice)\n",
    "\n",
    "**Hint 1** Какая функция возвращает **длину** любого контейнера?"
   ]
  },
  {
   "cell_type": "code",
   "execution_count": null,
   "metadata": {},
   "outputs": [],
   "source": []
  },
  {
   "cell_type": "code",
   "execution_count": null,
   "metadata": {},
   "outputs": [],
   "source": []
  },
  {
   "cell_type": "markdown",
   "metadata": {},
   "source": [
    "### 8\n",
    "- Создайте `list` `[3, 5, 1, 2, 3, 8, 9, 6, 7, 1, 2, 5]`\n",
    "- воспользуйтесь методом `.sort()` \n",
    "- воспользуйтесь методом `.reverse()`\n",
    "- воспользуйтесь методом `.clear()`\n",
    "- какой вы ожидаете увидеть результат?\n",
    "- изменяют ли эти методы существующий лист или создают новый?"
   ]
  },
  {
   "cell_type": "code",
   "execution_count": null,
   "metadata": {},
   "outputs": [],
   "source": []
  },
  {
   "cell_type": "code",
   "execution_count": null,
   "metadata": {},
   "outputs": [],
   "source": []
  },
  {
   "cell_type": "markdown",
   "metadata": {},
   "source": [
    "### 9\n",
    "\n",
    "У методов `.sort()` и `.reverse()` есть аналоги ввиде функций\n",
    "- Создайте `list` `[3, 5, 1, 2, 3, 8, 9, 6, 7, 1, 2, 5]`\n",
    "- примените функцию `sorted()` к созданному листу\n",
    "- примените функцию `reversed()` к созданному листу\n",
    "- в чем отличие этих функций от методов из вопроса 8?\n",
    "\n",
    "**Hint** функция `reversed()` возвращает не `list`, а что то другое, просто сделайте это листом используя функцию `list()`"
   ]
  },
  {
   "cell_type": "code",
   "execution_count": null,
   "metadata": {},
   "outputs": [],
   "source": []
  },
  {
   "cell_type": "code",
   "execution_count": null,
   "metadata": {},
   "outputs": [],
   "source": []
  },
  {
   "cell_type": "code",
   "execution_count": null,
   "metadata": {},
   "outputs": [],
   "source": []
  },
  {
   "cell_type": "markdown",
   "metadata": {},
   "source": [
    "### 10\n",
    "\n",
    "Вы можете создавать list из объектов другого типа (главное требования чтобы этот объект был **iterable**, чтобы это ни значило), например:\n",
    "\n",
    "- `list((1,2,3))`\n",
    "\n",
    "- `list({1,2,3})`\n",
    "\n",
    "Как вы думаете что произойдет если выполнить\n",
    "\n",
    "- `list('qwerty')`\n",
    "\n",
    "Попробуйте сначала догадаться, и только потом исполните команду."
   ]
  },
  {
   "cell_type": "code",
   "execution_count": null,
   "metadata": {},
   "outputs": [],
   "source": []
  },
  {
   "cell_type": "code",
   "execution_count": null,
   "metadata": {},
   "outputs": [],
   "source": []
  },
  {
   "cell_type": "code",
   "execution_count": null,
   "metadata": {},
   "outputs": [],
   "source": []
  },
  {
   "cell_type": "markdown",
   "metadata": {},
   "source": [
    "### 11\n",
    "\n",
    "Создайте строку (str) `'йтцыу фочтмлзирчйнбою асапырйафвялгяшещшоьрскяу!й'`\n",
    "\n",
    "- Превратите ее в лист символов\n",
    "- Расшифруйте закодированное в ней сообщение, выбрав из всех символов только символы с **нечетным** индексом\n",
    "- Превратите полученный лист обратно в строку и напечатайте результат\n",
    "\n",
    "**Hint** вспомните как работает функция `.join()`"
   ]
  },
  {
   "cell_type": "code",
   "execution_count": null,
   "metadata": {},
   "outputs": [],
   "source": []
  },
  {
   "cell_type": "code",
   "execution_count": null,
   "metadata": {},
   "outputs": [],
   "source": []
  },
  {
   "cell_type": "markdown",
   "metadata": {},
   "source": [
    "### 12\n",
    "\n",
    "Частым способом создания листов является использование метода `.split()` на какую-нибудь строку.\n",
    "\n",
    "- Создайте строку: `'Мама, Папа, Кот Матроскин, Дядя Федор, Шарик'`\n",
    "- Используйте метод `.split()` передав ему нужный аргумент, чтобы получить лист имен персонажей детского мультфильма.\n",
    "- Добавьте в полученный лист пропущенного персонажа мультфильма, который несколько раз приносил \"заметку про вашего мальчика\"\n",
    "- Напечатайте имена персонажей животных"
   ]
  },
  {
   "cell_type": "code",
   "execution_count": null,
   "metadata": {},
   "outputs": [],
   "source": []
  },
  {
   "cell_type": "code",
   "execution_count": null,
   "metadata": {},
   "outputs": [],
   "source": []
  },
  {
   "cell_type": "markdown",
   "metadata": {},
   "source": [
    "# TUPLE"
   ]
  },
  {
   "cell_type": "markdown",
   "metadata": {},
   "source": [
    "### 13\n",
    "\n",
    "Важным отличием контейнера **tuple** от контейнера **list** является то, что **tuple** - неизменяемая структура данных (immutable) это значит что однажды создав **tuple** в него  уже \n",
    "- невозможно добавить новый элемент\n",
    "- невозможно удалить существующий элемент\n",
    "- невозможно (за  некоторым исключением)  изменить существующий\n",
    "\n",
    "Создание **tuple**:\n",
    "\n",
    "1. `a = (1,2,3)`\n",
    "\n",
    "2. `a = tuple([1,2,3])`\n",
    "\n",
    "3. `a = (i for i in range(5))`\n",
    "\n",
    "Доступ к элементам **tuple** осуществляется по индексу (так же как **list**, в том числе и `slice`)\n",
    "\n",
    "---\n",
    "\n",
    "Cоздайте **tuple** содержащий название месяцев года (скопируйте из задачи 6)\n",
    "\n",
    "- посмотрите количество методов tuple (используя клавишу `Tab`)\n",
    "- сравните количество этих методов с количеством методов у контейнера **list**, у кого методов больше?\n",
    "\n",
    "**tuple** используется в случаях если вам нужен контейнер, который никто гарантированно не изменит, например:\n",
    "- список названий месяцев года\n",
    "- список названий дней недели\n",
    "- список дат написания произведений А.С. Пушкина\n",
    "- и так далее\n"
   ]
  },
  {
   "cell_type": "code",
   "execution_count": null,
   "metadata": {},
   "outputs": [],
   "source": []
  },
  {
   "cell_type": "code",
   "execution_count": null,
   "metadata": {},
   "outputs": [],
   "source": []
  },
  {
   "cell_type": "code",
   "execution_count": null,
   "metadata": {},
   "outputs": [],
   "source": []
  },
  {
   "cell_type": "markdown",
   "metadata": {},
   "source": [
    "### 14\n",
    "\n",
    "Используйте **tuple** из предыдующего задания:\n",
    "- Примените к нему функцию `sorted()`\n",
    "- Что произошло, какой тип имеет возвращаемый результат?\n",
    "- В каком порядке идут элементы?\n",
    "- Примените к нему функцию `reversed()`\n",
    "- Что произошло, какой тип имеет возвращаемый результат?\n",
    "\n",
    "**Hint** помните про функцию `type()`"
   ]
  },
  {
   "cell_type": "code",
   "execution_count": null,
   "metadata": {},
   "outputs": [],
   "source": []
  },
  {
   "cell_type": "code",
   "execution_count": null,
   "metadata": {},
   "outputs": [],
   "source": []
  },
  {
   "cell_type": "markdown",
   "metadata": {},
   "source": [
    "# SET"
   ]
  },
  {
   "cell_type": "markdown",
   "metadata": {},
   "source": [
    "\n",
    "### 15\n",
    "\n",
    "`set` - множества, это контейнер состоящий из **неупорядоченных** (в отличие от `list` и `tuple`) и **уникальных** элементов. Это значит:\n",
    "- что вы **не сможете** получить доступ к элементам  `set` используя индексы\n",
    "- в `set` не может быть двух одинаковых элементов\n",
    "\n",
    "Так же как `list`, `set` являются **mutable** (изменяемым) контейнером, поэтому в него можно добавлять новые элементы.\n",
    "\n",
    "В основном `set` используется для того чтобы использовать теоретико-множественные операции (звучит страшно, да?):\n",
    "- искать пересечение двух множеств\n",
    "- искать разность двух множеств\n",
    "- превращать уникальные элементы в списках\n",
    "- и другие\n",
    "\n",
    "Например вам даны два множества::\n",
    "\n",
    "1. Список писателей 20ого века и список имен людей в чью честь назвали улицы Москвы, пересечение (`intersection`) двух этих множеств это Писатели 20ого века в чью честь были названы улицы Москвы.\n",
    "2. Список актеров сыгравших роль в кинофильме \"Убить Билла\" и список актеров  сыгравших в кинофильме \"Криминальное чтиво\", пересечение (`intersection`) этих двух множеств, это множество актеров сыгравших роли не менее чем в двух фильмах Квентина Тарантино. \n",
    "3. Список продуктов в вашем холодильнике и список продуктов в пакете который вы принесли из магазина, их объединение (`union`) даст вам список продуктов из которого вы сможете приготовить сегодня ужин.\n",
    "4. и другие.\n",
    "\n",
    "Создание `set`:\n",
    "1. `a = {1,2,3}`\n",
    "2. `a = set([1,2,3])`\n",
    "3. `a = {i for i in range(5)}`\n",
    "----\n",
    "\n",
    "- Создайте два множества: \n",
    "    - последовательных целых чисел от 0 до 20\n",
    "    - последовательных целых чисел от 10 до 30 \n",
    "- изучите чем равно пересечение этих множеств (метод `.intersection()`)\n",
    "- объединение этих множеств (метод `.union()`)\n",
    "- разность первого и второго множества (`.difference()`)\n",
    "- разность второго и первого множества, в чем отличие?"
   ]
  },
  {
   "cell_type": "code",
   "execution_count": null,
   "metadata": {},
   "outputs": [],
   "source": []
  },
  {
   "cell_type": "markdown",
   "metadata": {},
   "source": [
    "### 16\n",
    "\n",
    "- Приведите 3 примера использования операции разности двух множеств (как мои примеры с писателями, актерами и продуктами)\n",
    "- Придумайте пример двух множеств для которых было бы осмысленным использовать операции пересечения, объединения и разности. Создайте необходимые переменные и примените эти операции."
   ]
  },
  {
   "cell_type": "code",
   "execution_count": null,
   "metadata": {},
   "outputs": [],
   "source": []
  },
  {
   "cell_type": "code",
   "execution_count": null,
   "metadata": {},
   "outputs": [],
   "source": []
  },
  {
   "cell_type": "code",
   "execution_count": null,
   "metadata": {},
   "outputs": [],
   "source": []
  },
  {
   "cell_type": "markdown",
   "metadata": {},
   "source": [
    "# DICTIONARY"
   ]
  },
  {
   "cell_type": "markdown",
   "metadata": {},
   "source": [
    "### 17\n",
    "\n",
    "`dict` (словарь) это еще один важный (**mutable**) вид контейнера, в отличие от `tuple`, `list` и `set`, элементами словаря являются пары:\n",
    "- ключ - значение (key - value)\n",
    "\n",
    "Примеры:\n",
    "- Слово в словаре (ключ) и его перевод (значние)\n",
    "- Артикул товара в магазине(ключ) и его цена(значние)\n",
    "- Название страны (ключ) - столица (значение)\n",
    "- Имена персонажей художественного произведения (ключ) - их пол/возраст/и пр. (значение)\n",
    "- и так далее\n",
    "\n",
    "Создание словаря:\n",
    "- `d = {'a': 1, 'b':2, 'c':3}`\n",
    "- `d = dict([('a', 1), ('b', 2), ('c',3)])`\n",
    "- `d = dict(zip(['a', 'b', 'c'], [1,2,3])`\n",
    "- `d = {2*i:i for i in range(5)}`\n",
    "\n",
    "Обратите внимание, что **ключи** в словаре должны быть **уникальны** (нет товаров с одинаковым артикулом), но значения хранящиеся по этим ключам могут повторяться (два товара могут стоить одинаково).\n",
    "\n",
    "Доступ к элементам словаря осуществляется по ключю с использованием `[]`, например:\n",
    "- `d['a']`\n",
    "\n",
    "----\n",
    "\n",
    "- Создайте словарь характеристик Дяди Федора, укажите его:\n",
    "    - пол\n",
    "    - возраст\n",
    "    - рост (на глаз)\n",
    "    - семейное положение (на ваше усмотрение)\n",
    "    - имя матери\n",
    "    - имя отца\n",
    "    \n",
    "    \n",
    "Данные о Дяде Федоре можно взять отсюда: https://ru.wikipedia.org/wiki/%D0%94%D1%8F%D0%B4%D1%8F_%D0%A4%D1%91%D0%B4%D0%BE%D1%80"
   ]
  },
  {
   "cell_type": "code",
   "execution_count": null,
   "metadata": {},
   "outputs": [],
   "source": []
  },
  {
   "cell_type": "code",
   "execution_count": null,
   "metadata": {},
   "outputs": [],
   "source": []
  },
  {
   "cell_type": "code",
   "execution_count": null,
   "metadata": {},
   "outputs": [],
   "source": []
  },
  {
   "cell_type": "markdown",
   "metadata": {},
   "source": [
    "### 18\n",
    "\n"
   ]
  },
  {
   "cell_type": "markdown",
   "metadata": {},
   "source": [
    "Основными методами при работе со словарями являются:\n",
    "- `.keys()` (вернуть список ключей словаря),\n",
    "- `.values()` (вернуть список значений хранящихся в словаре)\n",
    "- `.items()` (вернуть список пар: ключ-значение)\n",
    "\n",
    "Все эти методы возвращают не `list` а что то другое, но его (**при необходимости**) легко превратить в `list`\n",
    "\n",
    "---\n",
    "Используя словарь currencies:\n",
    "- Сколько элементов содержит этот словарь?\n",
    "- Напечатайте все ключи этого словаря.\n",
    "- Напечатайте значения по ключу `RUB`.\n",
    "- Напечатайте название валюты использующей `id` - `HKD`.\n",
    "- Какой символ используется для обозначения Чешской Кроны (`CZK`)?\n",
    "- Какая валюта имеет самое длинное название?\n",
    "\n",
    "\n",
    "**Hint** вспомните как работает цикл `for` https://www.w3schools.com/python/python_for_loops.asp"
   ]
  },
  {
   "cell_type": "code",
   "execution_count": null,
   "metadata": {},
   "outputs": [],
   "source": [
    "currencies = {\n",
    "    'GBP': {'currencyName': 'British Pound', 'currencySymbol': '£', 'id': 'GBP'},\n",
    "    'BTC': {'currencyName': 'Bitcoin', 'currencySymbol': 'BTC', 'id': 'BTC'},\n",
    "    'RUB': {'currencyName': 'Russian Ruble', 'currencySymbol': 'руб', 'id': 'RUB'},\n",
    "    'HKD': {'currencyName': 'Hong Kong Dollar', 'currencySymbol': '$',  'id': 'HKD'},\n",
    "    'CHF': {'currencyName': 'Swiss Franc', 'currencySymbol': 'Fr.', 'id': 'CHF'},\n",
    "    'CZK': {'currencyName': 'Czech Koruna', 'currencySymbol': 'Kč', 'id': 'CZK'},\n",
    "    'RUB': {'currencyName': 'Russian Ruble', 'currencySymbol': 'руб', 'id': 'RUB'},\n",
    "    'EUR': {'currencyName': 'Euro', 'currencySymbol': '€', 'id': 'EUR'},\n",
    "    'USD': {'currencyName': 'United States Dollar', 'currencySymbol': '$', 'id': 'USD'},\n",
    "}"
   ]
  },
  {
   "cell_type": "code",
   "execution_count": null,
   "metadata": {},
   "outputs": [],
   "source": []
  },
  {
   "cell_type": "code",
   "execution_count": null,
   "metadata": {},
   "outputs": [],
   "source": []
  },
  {
   "cell_type": "code",
   "execution_count": null,
   "metadata": {},
   "outputs": [],
   "source": []
  },
  {
   "cell_type": "markdown",
   "metadata": {},
   "source": [
    "### 19\n",
    "\n",
    "Вам предстоит получить информацию о взаимных курсах валют.\n",
    "\n",
    "- Получите бесплатный ключ API https://free.currencyconverterapi.com/free-api-key \n",
    "- Сам ключ прийдет на указанную почту, но **не забудьте перейти по ссылке в письме**, чтобы его активировать\n",
    "- Используя функцию `get_exchange_rate` получите информацию о курсе Биткоина к Российскому Рублю\n",
    "- В каком виде функция `get_exchange_rate` возвращает результат (какой он имеет тип)?\n"
   ]
  },
  {
   "cell_type": "code",
   "execution_count": null,
   "metadata": {},
   "outputs": [],
   "source": [
    "import requests"
   ]
  },
  {
   "cell_type": "code",
   "execution_count": null,
   "metadata": {},
   "outputs": [],
   "source": [
    "def get_exchange_rate(source, target, api_key=None):\n",
    "    '''\n",
    "    Return exchange rate between two currencies\n",
    "    \n",
    "    Parameters\n",
    "    -------\n",
    "    \n",
    "    source - str,\n",
    "     source currency id, (3 capital letters)\n",
    "     \n",
    "    target - str,\n",
    "     target currency id, (3 capital letters)\n",
    "     \n",
    "    api_key - str,\n",
    "     free api key for `https://www.currencyconverterapi.com/`\n",
    "     \n",
    "    Returns\n",
    "    -------\n",
    "    \n",
    "    result - dict, \n",
    "     key = source_target\n",
    "     value = exchange rate\n",
    "     \n",
    "    Example\n",
    "    -------\n",
    "    \n",
    "    get_exchange_rate('BTC', 'USD', api_key='Your_API_key')\n",
    "    >>> {'BTC_USD': 8175.131}\n",
    "    '''\n",
    "    url = f'https://free.currconv.com/api/v7/convert?apiKey={api_key}&q={source}_{target}&compact=ultra'\n",
    "    result = requests.get(url).json()\n",
    "    return result"
   ]
  },
  {
   "cell_type": "code",
   "execution_count": null,
   "metadata": {},
   "outputs": [],
   "source": []
  },
  {
   "cell_type": "code",
   "execution_count": null,
   "metadata": {},
   "outputs": [],
   "source": []
  },
  {
   "cell_type": "markdown",
   "metadata": {},
   "source": [
    "### 20\n",
    "\n",
    "- Как формируется `ключ` возвращаемого результата? (функции `get_exchange_rate`)\n",
    "- Используя функцию `get_exchange_rate` получите информацию о курсах валют:\n",
    "    - Российский Рубль к Американскому доллару (и наоборот)\n",
    "    - Российский Рубль к Евро (и наоборот)\n",
    "    - Евро к Американскому доллару (и наоборот)\n",
    "\n",
    "- Сохраните все 6 результатов в отдельный словарь (в нем должно быть 6 ключей)\n",
    "\n",
    "**Hint** Вы можете вызвать функцию `get_exchange_rate` 6 раз, или написать двойной (вложенный/nested) цикл. Пример с вложенным циклом ниже:"
   ]
  },
  {
   "cell_type": "code",
   "execution_count": null,
   "metadata": {},
   "outputs": [],
   "source": [
    "for i in [2, 5]:\n",
    "    for j in [20, 50]:\n",
    "        print(i + j)"
   ]
  },
  {
   "cell_type": "code",
   "execution_count": null,
   "metadata": {},
   "outputs": [],
   "source": []
  },
  {
   "cell_type": "code",
   "execution_count": null,
   "metadata": {},
   "outputs": [],
   "source": []
  },
  {
   "cell_type": "code",
   "execution_count": null,
   "metadata": {},
   "outputs": [],
   "source": []
  },
  {
   "cell_type": "code",
   "execution_count": null,
   "metadata": {},
   "outputs": [],
   "source": []
  },
  {
   "cell_type": "markdown",
   "metadata": {},
   "source": [
    "### 21\n",
    "- Получите информацию о взаимных курсах валют:\n",
    "    - Российский рубль\n",
    "    - Британский Фунт\n",
    "    - Евро\n",
    "    \n",
    "- Сохраните все 6 результатов в отдельный словарь (в нем должно быть 6 ключей)"
   ]
  },
  {
   "cell_type": "code",
   "execution_count": null,
   "metadata": {},
   "outputs": [],
   "source": []
  },
  {
   "cell_type": "code",
   "execution_count": null,
   "metadata": {},
   "outputs": [],
   "source": []
  },
  {
   "cell_type": "markdown",
   "metadata": {},
   "source": [
    "### 22\n",
    "\n",
    "- Воспользуйте методом .update() чтобы объединить словари из задания 20 и из задания 21\n",
    "- Какой из словарей изменился?\n",
    "- Сколько ключей имеет словарь из задания 21?\n",
    "- Сколько ключей имеет словарь из задания 20?\n",
    "- Объясните почему ни один из них не имеет 12 ключей"
   ]
  },
  {
   "cell_type": "code",
   "execution_count": null,
   "metadata": {},
   "outputs": [],
   "source": []
  },
  {
   "cell_type": "code",
   "execution_count": null,
   "metadata": {},
   "outputs": [],
   "source": []
  },
  {
   "cell_type": "code",
   "execution_count": null,
   "metadata": {},
   "outputs": [],
   "source": []
  },
  {
   "cell_type": "code",
   "execution_count": null,
   "metadata": {},
   "outputs": [],
   "source": []
  },
  {
   "cell_type": "code",
   "execution_count": null,
   "metadata": {},
   "outputs": [],
   "source": []
  }
 ],
 "metadata": {
  "kernelspec": {
   "display_name": "Python 3",
   "language": "python",
   "name": "python3"
  },
  "language_info": {
   "codemirror_mode": {
    "name": "ipython",
    "version": 3
   },
   "file_extension": ".py",
   "mimetype": "text/x-python",
   "name": "python",
   "nbconvert_exporter": "python",
   "pygments_lexer": "ipython3",
   "version": "3.7.3"
  }
 },
 "nbformat": 4,
 "nbformat_minor": 2
}
