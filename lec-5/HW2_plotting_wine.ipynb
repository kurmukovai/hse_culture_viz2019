{
 "cells": [
  {
   "cell_type": "markdown",
   "metadata": {},
   "source": [
    "# Домашнее задание 2. Визуализация данных.\n",
    "\n",
    "Вам предлагается визуализировать информацию о различных винах. Данные содержат информацию о\n",
    "\n",
    "- Стране производства\n",
    "- Описание вкусовых качеств\n",
    "- Рейтинг\n",
    "- Цена\n",
    "- Имя сомелье\n",
    "- Вид вина\n",
    "- и некоторые другие\n",
    "\n",
    "\n",
    "> Оригинальные данные взяты отсюда https://www.kaggle.com/zynicide/wine-reviews и содержат информацию ~130 000 вин (в том числе премиальных с ценой > 1000$ за бутылку), специально для вас я их почистил и сохранил таблицу содержащую информацию о ~20 000 вин. \n",
    "\n",
    "> Я оставил только вина с ценой менее 30$ за бутылку, а так же удалил вина очень редких сортов, редких сомелье, редкие страны, удалил записи с пропусками. Полную информацию о том что я удалил можно найти здесь **clear_data.py**\n",
    "\n",
    "----\n",
    "\n",
    "Поскольку мы с вами не учились работать с табличными данными, всю работу связанную с вытаскиванием нужной информации из таблицы я сделаю за вас, а вам останется только **нарисовать и кастомизировать график.**\n",
    "\n",
    "----\n",
    "\n",
    "Лекция посвященная визуализации данных хранится вот тут `4.2. Data_vizualization.ipynb` (https://github.com/kurmukovai/hse_culture_viz2019/tree/master/lec-4)\n",
    "\n",
    "Также рекомендую к просмотру серию уроков по визуализации данных (суммарно около 3-4 часов - 11 коротких уроков)\n",
    "https://www.youtube.com/watch?v=UO98lJQ3QGI&list=PL-osiE80TeTvipOqomVEeZ1HRrcEvtZB_\n",
    "\n",
    "---\n",
    "\n",
    "Приступим.\n",
    "\n",
    "ps Это домашнее задание нужно сдать до полуночи четверга 24.10.2019 23:59"
   ]
  },
  {
   "cell_type": "code",
   "execution_count": 1,
   "metadata": {},
   "outputs": [],
   "source": [
    "import pandas as pd # Библиотека для чтения табличных данных\n",
    "import matplotlib.pyplot as plt # Библиотека для построения графиков\n",
    "%matplotlib inline\n",
    "import seaborn as sns"
   ]
  },
  {
   "cell_type": "markdown",
   "metadata": {},
   "source": [
    "# 1. Загрузим данные\n",
    "\n",
    "Специально для вас я сохранил данные в формате .xlsx так чтобы вы при желании могли безболезненно открыть эту таблицу в Excel. Для чтения `xlsx` формата в pandas есть специальная функция `read_excel`"
   ]
  },
  {
   "cell_type": "code",
   "execution_count": 2,
   "metadata": {},
   "outputs": [],
   "source": [
    "data = pd.read_excel('wine-data-20k.xlsx')"
   ]
  },
  {
   "cell_type": "code",
   "execution_count": 3,
   "metadata": {},
   "outputs": [
    {
     "data": {
      "text/html": [
       "<div>\n",
       "<style scoped>\n",
       "    .dataframe tbody tr th:only-of-type {\n",
       "        vertical-align: middle;\n",
       "    }\n",
       "\n",
       "    .dataframe tbody tr th {\n",
       "        vertical-align: top;\n",
       "    }\n",
       "\n",
       "    .dataframe thead th {\n",
       "        text-align: right;\n",
       "    }\n",
       "</style>\n",
       "<table border=\"1\" class=\"dataframe\">\n",
       "  <thead>\n",
       "    <tr style=\"text-align: right;\">\n",
       "      <th></th>\n",
       "      <th>country</th>\n",
       "      <th>description</th>\n",
       "      <th>designation</th>\n",
       "      <th>points</th>\n",
       "      <th>price</th>\n",
       "      <th>province</th>\n",
       "      <th>region_1</th>\n",
       "      <th>taster_name</th>\n",
       "      <th>taster_twitter_handle</th>\n",
       "      <th>title</th>\n",
       "      <th>variety</th>\n",
       "      <th>winery</th>\n",
       "    </tr>\n",
       "  </thead>\n",
       "  <tbody>\n",
       "    <tr>\n",
       "      <td>0</td>\n",
       "      <td>France</td>\n",
       "      <td>This has great depth of flavor with its fresh ...</td>\n",
       "      <td>Les Natures</td>\n",
       "      <td>87</td>\n",
       "      <td>27</td>\n",
       "      <td>Alsace</td>\n",
       "      <td>Alsace</td>\n",
       "      <td>Roger Voss</td>\n",
       "      <td>@vossroger</td>\n",
       "      <td>Jean-Baptiste Adam 2012 Les Natures Pinot Gris...</td>\n",
       "      <td>Pinot Gris</td>\n",
       "      <td>Jean-Baptiste Adam</td>\n",
       "    </tr>\n",
       "    <tr>\n",
       "      <td>1</td>\n",
       "      <td>US</td>\n",
       "      <td>Soft, supple plum envelopes an oaky structure ...</td>\n",
       "      <td>Mountain Cuvée</td>\n",
       "      <td>87</td>\n",
       "      <td>19</td>\n",
       "      <td>California</td>\n",
       "      <td>Napa Valley</td>\n",
       "      <td>Virginie Boone</td>\n",
       "      <td>@vboone</td>\n",
       "      <td>Kirkland Signature 2011 Mountain Cuvée Caberne...</td>\n",
       "      <td>Cabernet Sauvignon</td>\n",
       "      <td>Kirkland Signature</td>\n",
       "    </tr>\n",
       "    <tr>\n",
       "      <td>2</td>\n",
       "      <td>Argentina</td>\n",
       "      <td>Baked plum, molasses, balsamic vinegar and che...</td>\n",
       "      <td>Felix</td>\n",
       "      <td>87</td>\n",
       "      <td>30</td>\n",
       "      <td>Other</td>\n",
       "      <td>Cafayate</td>\n",
       "      <td>Michael Schachner</td>\n",
       "      <td>@wineschach</td>\n",
       "      <td>Felix Lavaque 2010 Felix Malbec (Cafayate)</td>\n",
       "      <td>Malbec</td>\n",
       "      <td>Felix Lavaque</td>\n",
       "    </tr>\n",
       "    <tr>\n",
       "      <td>3</td>\n",
       "      <td>Argentina</td>\n",
       "      <td>Raw black-cherry aromas are direct and simple ...</td>\n",
       "      <td>Winemaker Selection</td>\n",
       "      <td>87</td>\n",
       "      <td>13</td>\n",
       "      <td>Mendoza Province</td>\n",
       "      <td>Mendoza</td>\n",
       "      <td>Michael Schachner</td>\n",
       "      <td>@wineschach</td>\n",
       "      <td>Gaucho Andino 2011 Winemaker Selection Malbec ...</td>\n",
       "      <td>Malbec</td>\n",
       "      <td>Gaucho Andino</td>\n",
       "    </tr>\n",
       "    <tr>\n",
       "      <td>4</td>\n",
       "      <td>Spain</td>\n",
       "      <td>Desiccated blackberry, leather, charred wood a...</td>\n",
       "      <td>Vendimia Seleccionada Finca Valdelayegua Singl...</td>\n",
       "      <td>87</td>\n",
       "      <td>28</td>\n",
       "      <td>Northern Spain</td>\n",
       "      <td>Ribera del Duero</td>\n",
       "      <td>Michael Schachner</td>\n",
       "      <td>@wineschach</td>\n",
       "      <td>Pradorey 2010 Vendimia Seleccionada Finca Vald...</td>\n",
       "      <td>Tempranillo Blend</td>\n",
       "      <td>Pradorey</td>\n",
       "    </tr>\n",
       "  </tbody>\n",
       "</table>\n",
       "</div>"
      ],
      "text/plain": [
       "     country                                        description  \\\n",
       "0     France  This has great depth of flavor with its fresh ...   \n",
       "1         US  Soft, supple plum envelopes an oaky structure ...   \n",
       "2  Argentina  Baked plum, molasses, balsamic vinegar and che...   \n",
       "3  Argentina  Raw black-cherry aromas are direct and simple ...   \n",
       "4      Spain  Desiccated blackberry, leather, charred wood a...   \n",
       "\n",
       "                                         designation  points  price  \\\n",
       "0                                        Les Natures      87     27   \n",
       "1                                     Mountain Cuvée      87     19   \n",
       "2                                              Felix      87     30   \n",
       "3                                Winemaker Selection      87     13   \n",
       "4  Vendimia Seleccionada Finca Valdelayegua Singl...      87     28   \n",
       "\n",
       "           province          region_1        taster_name  \\\n",
       "0            Alsace            Alsace         Roger Voss   \n",
       "1        California       Napa Valley     Virginie Boone   \n",
       "2             Other          Cafayate  Michael Schachner   \n",
       "3  Mendoza Province           Mendoza  Michael Schachner   \n",
       "4    Northern Spain  Ribera del Duero  Michael Schachner   \n",
       "\n",
       "  taster_twitter_handle                                              title  \\\n",
       "0            @vossroger  Jean-Baptiste Adam 2012 Les Natures Pinot Gris...   \n",
       "1               @vboone  Kirkland Signature 2011 Mountain Cuvée Caberne...   \n",
       "2           @wineschach         Felix Lavaque 2010 Felix Malbec (Cafayate)   \n",
       "3           @wineschach  Gaucho Andino 2011 Winemaker Selection Malbec ...   \n",
       "4           @wineschach  Pradorey 2010 Vendimia Seleccionada Finca Vald...   \n",
       "\n",
       "              variety              winery  \n",
       "0          Pinot Gris  Jean-Baptiste Adam  \n",
       "1  Cabernet Sauvignon  Kirkland Signature  \n",
       "2              Malbec       Felix Lavaque  \n",
       "3              Malbec       Gaucho Andino  \n",
       "4   Tempranillo Blend            Pradorey  "
      ]
     },
     "execution_count": 3,
     "metadata": {},
     "output_type": "execute_result"
    }
   ],
   "source": [
    "# Посмотрим на 5 первых записей в таблице\n",
    "\n",
    "data.head(5)"
   ]
  },
  {
   "cell_type": "code",
   "execution_count": 4,
   "metadata": {},
   "outputs": [
    {
     "data": {
      "text/plain": [
       "Index(['country', 'description', 'designation', 'points', 'price', 'province',\n",
       "       'region_1', 'taster_name', 'taster_twitter_handle', 'title', 'variety',\n",
       "       'winery'],\n",
       "      dtype='object')"
      ]
     },
     "execution_count": 4,
     "metadata": {},
     "output_type": "execute_result"
    }
   ],
   "source": [
    "# Посмотрим на названия всех колонок в нашей таблице\n",
    "\n",
    "data.columns"
   ]
  },
  {
   "cell_type": "code",
   "execution_count": 5,
   "metadata": {},
   "outputs": [],
   "source": [
    "# Доступ к данным в любой колонке можно получить 2 способами:\n",
    "# Используя квадртаные скобки и название столбца (как со словарем)"
   ]
  },
  {
   "cell_type": "code",
   "execution_count": 6,
   "metadata": {},
   "outputs": [
    {
     "data": {
      "text/plain": [
       "0           France\n",
       "1               US\n",
       "2        Argentina\n",
       "3        Argentina\n",
       "4            Spain\n",
       "           ...    \n",
       "22429       France\n",
       "22430        Spain\n",
       "22431       France\n",
       "22432       France\n",
       "22433       France\n",
       "Name: country, Length: 22434, dtype: object"
      ]
     },
     "execution_count": 6,
     "metadata": {},
     "output_type": "execute_result"
    }
   ],
   "source": [
    "data['country']"
   ]
  },
  {
   "cell_type": "code",
   "execution_count": 7,
   "metadata": {},
   "outputs": [],
   "source": [
    "# Используя оператор . (точка)"
   ]
  },
  {
   "cell_type": "code",
   "execution_count": 8,
   "metadata": {},
   "outputs": [
    {
     "data": {
      "text/plain": [
       "0           France\n",
       "1               US\n",
       "2        Argentina\n",
       "3        Argentina\n",
       "4            Spain\n",
       "           ...    \n",
       "22429       France\n",
       "22430        Spain\n",
       "22431       France\n",
       "22432       France\n",
       "22433       France\n",
       "Name: country, Length: 22434, dtype: object"
      ]
     },
     "execution_count": 8,
     "metadata": {},
     "output_type": "execute_result"
    }
   ],
   "source": [
    "data.country"
   ]
  },
  {
   "cell_type": "code",
   "execution_count": 9,
   "metadata": {},
   "outputs": [
    {
     "data": {
      "text/plain": [
       "0        27\n",
       "1        19\n",
       "2        30\n",
       "3        13\n",
       "4        28\n",
       "         ..\n",
       "22429    30\n",
       "22430    17\n",
       "22431    28\n",
       "22432    30\n",
       "22433    21\n",
       "Name: price, Length: 22434, dtype: int64"
      ]
     },
     "execution_count": 9,
     "metadata": {},
     "output_type": "execute_result"
    }
   ],
   "source": [
    "# Теперь доступ к элементу из этого столбца можно получить по индексу, используя квадратные скобки\n",
    "\n",
    "data.price"
   ]
  },
  {
   "cell_type": "code",
   "execution_count": 10,
   "metadata": {},
   "outputs": [
    {
     "data": {
      "text/plain": [
       "30"
      ]
     },
     "execution_count": 10,
     "metadata": {},
     "output_type": "execute_result"
    }
   ],
   "source": [
    "data.price[2]"
   ]
  },
  {
   "cell_type": "code",
   "execution_count": 11,
   "metadata": {},
   "outputs": [
    {
     "data": {
      "text/plain": [
       "19"
      ]
     },
     "execution_count": 11,
     "metadata": {},
     "output_type": "execute_result"
    }
   ],
   "source": [
    "data['price'][1]"
   ]
  },
  {
   "cell_type": "code",
   "execution_count": 12,
   "metadata": {},
   "outputs": [],
   "source": [
    "# Старайтесь все время держать в голове что это обычная экселевская таблица"
   ]
  },
  {
   "cell_type": "code",
   "execution_count": null,
   "metadata": {},
   "outputs": [],
   "source": []
  },
  {
   "cell_type": "markdown",
   "metadata": {},
   "source": [
    "# Список того что мы будем визуализировать\n",
    "\n",
    "1. Какое распределение вин по цене (сколько вин с ценой выше/ниже 10 долларов за бутылку, выше/ниже 18 долларов за бутылку и т.д.)\n",
    "2. Какое распределение вин по рейтингу (сколько вин с рейтингов выше/ниже 85, выше/ниже 90)\n",
    "3. В каких странах (`country`) производят вино\n",
    "4. В каких странах цена (`price`) на вино в среднем выше\n",
    "5. В каких странах рейтинг (`points`) вина в среднем выше\n",
    "6. В каких странах хорошее соотношения цена-рейтинг\n",
    "7. В какой стране больше всего областей (`province`) производящих вино\n",
    "8. Сколько сомелье (`taster_name`) в разных странах\n",
    "---\n",
    "\n",
    "\n",
    "\n",
    "\n",
    "\n",
    "7. Отличаются ли оценки (рейтинг) которые ставят разные сомелье (может быть какой то сомелье систематически завышает или занижает рейтинг вин)\n",
    "\n",
    "10. В каких провинциях (`province`) больше всего регионов (`region_1`) производящих вино.  Например в провинции Bordeaux, есть такие регионы как Bordeaux, Blaye Côtes de Bordeaux, Bordeaux Blanc, Bordeaux Rose, в которых производятся разные виды Бордо.\n",
    "11. Какие сорта вин (`variety`) чаще других производят в каких странах/регионах"
   ]
  },
  {
   "cell_type": "code",
   "execution_count": null,
   "metadata": {},
   "outputs": [],
   "source": []
  },
  {
   "cell_type": "markdown",
   "metadata": {},
   "source": [
    "# 1. Визуализация цен\n",
    "\n",
    "Колонка `price`.\n",
    "Для визуализации цены мы воспользуемся столбчатой диаграммой:\n",
    "- столбчатая диаграмма (каждый столбец соответсвует цене, высота столбца - количество вин с такой ценой)"
   ]
  },
  {
   "cell_type": "code",
   "execution_count": 13,
   "metadata": {},
   "outputs": [
    {
     "data": {
      "text/plain": [
       "0        27\n",
       "1        19\n",
       "2        30\n",
       "3        13\n",
       "4        28\n",
       "         ..\n",
       "22429    30\n",
       "22430    17\n",
       "22431    28\n",
       "22432    30\n",
       "22433    21\n",
       "Name: price, Length: 22434, dtype: int64"
      ]
     },
     "execution_count": 13,
     "metadata": {},
     "output_type": "execute_result"
    }
   ],
   "source": [
    "# Цена вина хранится в столбце price\n",
    "\n",
    "data.price"
   ]
  },
  {
   "cell_type": "markdown",
   "metadata": {},
   "source": [
    "# Нам нужно узнать сколько есть вин по каждой цене\n",
    "Для этого есть удобная функция `.value_counts()`. Для каждого значения в столбце (value) она считает сколько раз это значение встречается (counts).  Тип возвращаемого объекта - Series это еще один вид контейнера, который очень похож на словарь (dict). Можно получать доступ к элементам по ключу, при этом ключ это - `values`, а значение это `counts`\n",
    "\n"
   ]
  },
  {
   "cell_type": "code",
   "execution_count": 14,
   "metadata": {},
   "outputs": [
    {
     "data": {
      "text/plain": [
       "20    2181\n",
       "15    1942\n",
       "25    1926\n",
       "30    1806\n",
       "18    1411\n",
       "22    1101\n",
       "12    1062\n",
       "16    1024\n",
       "13    1003\n",
       "28    1003\n",
       "24     924\n",
       "14     900\n",
       "10     890\n",
       "17     884\n",
       "19     836\n",
       "26     600\n",
       "11     543\n",
       "23     529\n",
       "29     524\n",
       "27     406\n",
       "21     398\n",
       "9      280\n",
       "8      184\n",
       "7       53\n",
       "6       13\n",
       "5        7\n",
       "4        4\n",
       "Name: price, dtype: int64"
      ]
     },
     "execution_count": 14,
     "metadata": {},
     "output_type": "execute_result"
    }
   ],
   "source": [
    "data.price.value_counts()"
   ]
  },
  {
   "cell_type": "code",
   "execution_count": 15,
   "metadata": {},
   "outputs": [
    {
     "data": {
      "text/plain": [
       "pandas.core.series.Series"
      ]
     },
     "execution_count": 15,
     "metadata": {},
     "output_type": "execute_result"
    }
   ],
   "source": [
    "type(data.price.value_counts())"
   ]
  },
  {
   "cell_type": "code",
   "execution_count": 16,
   "metadata": {},
   "outputs": [
    {
     "data": {
      "text/plain": [
       "2181"
      ]
     },
     "execution_count": 16,
     "metadata": {},
     "output_type": "execute_result"
    }
   ],
   "source": [
    "# Чтобы узнать сколько вин стоят 20$\n",
    "\n",
    "data.price.value_counts()[20]"
   ]
  },
  {
   "cell_type": "code",
   "execution_count": 17,
   "metadata": {},
   "outputs": [
    {
     "data": {
      "text/plain": [
       "1003"
      ]
     },
     "execution_count": 17,
     "metadata": {},
     "output_type": "execute_result"
    }
   ],
   "source": [
    "# Чтобы узнать сколько вин стоят 13$\n",
    "\n",
    "data.price.value_counts()[13]"
   ]
  },
  {
   "cell_type": "code",
   "execution_count": 18,
   "metadata": {},
   "outputs": [],
   "source": [
    "# его можно превратить в обычный словарь\n",
    "\n",
    "price_frequency = dict(data.price.value_counts())"
   ]
  },
  {
   "cell_type": "code",
   "execution_count": 19,
   "metadata": {},
   "outputs": [
    {
     "data": {
      "text/plain": [
       "{20: 2181,\n",
       " 15: 1942,\n",
       " 25: 1926,\n",
       " 30: 1806,\n",
       " 18: 1411,\n",
       " 22: 1101,\n",
       " 12: 1062,\n",
       " 16: 1024,\n",
       " 13: 1003,\n",
       " 28: 1003,\n",
       " 24: 924,\n",
       " 14: 900,\n",
       " 10: 890,\n",
       " 17: 884,\n",
       " 19: 836,\n",
       " 26: 600,\n",
       " 11: 543,\n",
       " 23: 529,\n",
       " 29: 524,\n",
       " 27: 406,\n",
       " 21: 398,\n",
       " 9: 280,\n",
       " 8: 184,\n",
       " 7: 53,\n",
       " 6: 13,\n",
       " 5: 7,\n",
       " 4: 4}"
      ]
     },
     "execution_count": 19,
     "metadata": {},
     "output_type": "execute_result"
    }
   ],
   "source": [
    "price_frequency"
   ]
  },
  {
   "cell_type": "markdown",
   "metadata": {},
   "source": [
    "## 1.1 Столбчатая диаграмма цен\n",
    "\n",
    "Построим столбчатую диаграмму цен (каждый столбец соответсвует цене, высота столбца - количество вин с такой ценой).\n",
    "\n",
    "Функция которая строит столбчатую диаграмму - `plt.bar` и `plt.barh`\n",
    "\n",
    "1. Постройте столбчатую диаграмму распределения цены.\n",
    "2. В чем отличие `plt.bar` от `plt.barh`?\n",
    "3. Оформите график\n",
    "    - Добавьте подпись к оси X (`plt.xlabel`) \"Цена за бутылку, $\"\n",
    "    - Добавьте подпитсь к оси Y (`plt.ylabel`) \"Количество сортов, шт.\"\n",
    "    - Добавьте название к графику (`plt.title`) \"Распределение цен на вино\"\n",
    "    - Измените цвет столбцов на розовый (параметр `color=\"pink\"` функции bar или barh) \n",
    "    \n",
    "**Подсказка** будьте внимательны, xlabel и ylabel зависят от того какой график вы строите bar или barh"
   ]
  },
  {
   "cell_type": "code",
   "execution_count": 20,
   "metadata": {},
   "outputs": [],
   "source": [
    "price_counts = dict(data.price.value_counts())\n",
    "\n",
    "price = list(price_counts.keys())\n",
    "counts = list(price_counts.values())"
   ]
  },
  {
   "cell_type": "code",
   "execution_count": 21,
   "metadata": {
    "scrolled": true
   },
   "outputs": [
    {
     "name": "stdout",
     "output_type": "stream",
     "text": [
      "{20: 2181, 15: 1942, 25: 1926, 30: 1806, 18: 1411, 22: 1101, 12: 1062, 16: 1024, 13: 1003, 28: 1003, 24: 924, 14: 900, 10: 890, 17: 884, 19: 836, 26: 600, 11: 543, 23: 529, 29: 524, 27: 406, 21: 398, 9: 280, 8: 184, 7: 53, 6: 13, 5: 7, 4: 4}\n"
     ]
    }
   ],
   "source": [
    "print(price_counts)"
   ]
  },
  {
   "cell_type": "code",
   "execution_count": 22,
   "metadata": {},
   "outputs": [
    {
     "name": "stdout",
     "output_type": "stream",
     "text": [
      "[20, 15, 25, 30, 18, 22, 12, 16, 13, 28, 24, 14, 10, 17, 19, 26, 11, 23, 29, 27, 21, 9, 8, 7, 6, 5, 4]\n"
     ]
    }
   ],
   "source": [
    "print(price)"
   ]
  },
  {
   "cell_type": "code",
   "execution_count": 23,
   "metadata": {},
   "outputs": [
    {
     "name": "stdout",
     "output_type": "stream",
     "text": [
      "[2181, 1942, 1926, 1806, 1411, 1101, 1062, 1024, 1003, 1003, 924, 900, 890, 884, 836, 600, 543, 529, 524, 406, 398, 280, 184, 53, 13, 7, 4]\n"
     ]
    }
   ],
   "source": [
    "print(counts)"
   ]
  },
  {
   "cell_type": "code",
   "execution_count": 24,
   "metadata": {},
   "outputs": [],
   "source": [
    "# Решение\n",
    "# Постройте столбчатую диаграмму plt.bar или plt.barh\n",
    "# Добавьте подписи осей и название\n",
    "# Измените цвет столбцов на розовый\n",
    "\n"
   ]
  },
  {
   "cell_type": "markdown",
   "metadata": {},
   "source": [
    "## 1.2 Добавим цвета\n",
    "\n",
    "Обратите внимание на характерные пики в районе круглых цен: 10, 15, 20, 25, 30 долларов за бутылку. Давайте обратим внимание стороннего наблюдателя на эти пики. Для этого столбцы соответствующие этим круглым значениям мы нарисуем другим цветом (например красным):\n",
    "\n",
    "1. Используйте функцию `bar`\n",
    "2. Измените размер графика `plt.figure(figsize=(10,6))` первое число - ширина, второе число - высота.\n",
    "3. Поверх столбчатой диаграммы со всеми ценами (нарисованной розовым цветом) постройте столбчатую диагрмму для цен кратных `5` красным цветом (color=\"red\")\n",
    "\n",
    "**Указание** просто вызовите функцию bar два раза с разными аргументами"
   ]
  },
  {
   "cell_type": "code",
   "execution_count": 25,
   "metadata": {},
   "outputs": [],
   "source": [
    "price_counts5 = dict()\n",
    "for p, v in price_counts.items():\n",
    "    if p%5 == 0:\n",
    "        price_counts5[p] = v"
   ]
  },
  {
   "cell_type": "code",
   "execution_count": 26,
   "metadata": {},
   "outputs": [],
   "source": [
    "price5 = list(price_counts5.keys())\n",
    "counts5 = list(price_counts5.values())"
   ]
  },
  {
   "cell_type": "code",
   "execution_count": 27,
   "metadata": {},
   "outputs": [],
   "source": [
    "# Решение\n",
    "# Увеличьте размер графика\n",
    "# Поверх столбчатой диагрммы со всеми ценами, построите столбчатую диаграмму с ценами кратными 5$\n",
    "\n"
   ]
  },
  {
   "cell_type": "markdown",
   "metadata": {},
   "source": [
    "## 1.3 Сохраним полученный график\n",
    "\n",
    "Для сохрания вы можете \n",
    "- Щелкнуть на полученный график правой кнопкой мыши и нажать кнопку Сохранить или Сохранить как\n",
    "- Воспользоваться функцией `plt.savefig` это позволит сохранить график в любом стандартном формате (`png`, `pdf`, `jpg`, `svg`) и в высоком разрешении (`dpi` - количество пикселей на дюйм) \n",
    "---\n",
    "\n",
    "1. Увеличьте размер шрифта используемый по умолчанию `plt.rcParams.update({'font.size': 18})`\n",
    "2. Вомпользуйтесь функцией `plt.savefig` и сохраните график в формате .png (имя файла должно заканчиваться на .png)  с параметром dpi=30 и с параметром dpi=300, не забудьте сохранить их с **разными** именами.\n",
    "3. Сохраните график щелкнув на график правой кнопкой мыши.\n",
    "3. Откройте изображения в просмотрщике изображений установленном на вашем компьютере. Сравните получившиеся изображения, видите ли вы разницу?"
   ]
  },
  {
   "cell_type": "code",
   "execution_count": 28,
   "metadata": {},
   "outputs": [],
   "source": [
    "# google: matplotlib increase font size\n",
    "\n",
    "plt.rcParams.update({'font.size': 18})"
   ]
  },
  {
   "cell_type": "code",
   "execution_count": 29,
   "metadata": {},
   "outputs": [],
   "source": [
    "# Сохраните изображение savefig dpi = 30\n",
    "\n"
   ]
  },
  {
   "cell_type": "code",
   "execution_count": 30,
   "metadata": {},
   "outputs": [],
   "source": [
    "# Сохраните изображение savefig dpi = 300\n",
    "\n"
   ]
  },
  {
   "cell_type": "code",
   "execution_count": null,
   "metadata": {},
   "outputs": [],
   "source": []
  },
  {
   "cell_type": "code",
   "execution_count": null,
   "metadata": {},
   "outputs": [],
   "source": []
  },
  {
   "cell_type": "code",
   "execution_count": null,
   "metadata": {},
   "outputs": [],
   "source": []
  },
  {
   "cell_type": "markdown",
   "metadata": {},
   "source": [
    "# 2. Визуализация рейтингов\n",
    "\n",
    "Вам нужно повторить все **тоже самое** но теперь со столбцом `points`.\n",
    "\n",
    "1. Подготовьте необходимые переменные\n",
    "    - Воспользуйтесь методом value_counts на столбец `points`\n",
    "    - превратите результат в словарь\n",
    "    - сохраните ключи и значения словаря в отдельные листы (`list`)\n",
    "2. Постройте столбчатую диаграмму распределения рейтингов вин\n",
    "    - воспользуйтесь функцией `bar`\n",
    "    - кастомизируйте ваш график, добавьте подписи осей и название\n",
    "    - Увеличьте размеры графика plt.figure(figsize=(15, 6))\n",
    "3. Воспользуйтесь методом `plt.xticks` чтобы установить отсечки по оси X под **каждым столбцом**\n",
    "4. Наблюдаете ли вы аномальные пики напротив каких то значений рейтинга? Какую форму имеет распределение оценок вин?\n",
    "5. Сохраните получившийся график."
   ]
  },
  {
   "cell_type": "code",
   "execution_count": 31,
   "metadata": {},
   "outputs": [],
   "source": [
    "points_counts = dict(data.points.value_counts())\n",
    "points = list(points_counts.keys())\n",
    "counts = list(points_counts.values())"
   ]
  },
  {
   "cell_type": "code",
   "execution_count": 32,
   "metadata": {},
   "outputs": [],
   "source": [
    "# Решение\n"
   ]
  },
  {
   "cell_type": "code",
   "execution_count": null,
   "metadata": {},
   "outputs": [],
   "source": []
  },
  {
   "cell_type": "code",
   "execution_count": null,
   "metadata": {},
   "outputs": [],
   "source": []
  },
  {
   "cell_type": "code",
   "execution_count": null,
   "metadata": {},
   "outputs": [],
   "source": []
  },
  {
   "cell_type": "markdown",
   "metadata": {},
   "source": [
    "# 3. В каких странах сколько вина производят\n",
    "\n",
    "Столбец данных `country`, делаем все то же, но на этот раз добавим информацию о доле рынка (процент вин производимых в каждой стране) непосредственно на картинку.\n",
    "\n",
    "1. Подготовьте необходимые переменные\n",
    "    - Воспользуйтесь методом value_counts на столбец `country`\n",
    "    - превратите результат в словарь\n",
    "    - сохраните ключи и значения словаря в отдельные листы (`list`)\n",
    "2. Постройте столбчатую диаграмму распределения рейтингов вин\n",
    "    - воспользуйтесь функцией `barh`\n",
    "    - кастомизируйте ваш график, добавьте подписи осей и название\n",
    "    - Увеличьте размеры `plt.figure(figsize=(8, 10))`\n",
    "    - Увеличьте границы графика по оси X `plt.xlim(0, 9000) `\n",
    "3. К каждому столбцу добавьте подпись с долей это страны в процентах\n",
    "    - для этого воспользуйтесь функцией `plt.text()`\n",
    "    - Для того чтобы посчитать долю вин в процентах напишите функцию `return_percentage`\n",
    "4. Сохраните получившийся график."
   ]
  },
  {
   "cell_type": "code",
   "execution_count": 33,
   "metadata": {},
   "outputs": [],
   "source": [
    "country_counts = dict(data.country.value_counts())\n",
    "countries = list(country_counts.keys())\n",
    "counts = list(country_counts.values())"
   ]
  },
  {
   "cell_type": "code",
   "execution_count": 34,
   "metadata": {},
   "outputs": [
    {
     "data": {
      "text/plain": [
       "['US', 'France', 'Spain', 'Italy', 'Argentina', 'Australia']"
      ]
     },
     "execution_count": 34,
     "metadata": {},
     "output_type": "execute_result"
    }
   ],
   "source": [
    "countries"
   ]
  },
  {
   "cell_type": "code",
   "execution_count": 35,
   "metadata": {},
   "outputs": [
    {
     "data": {
      "text/plain": [
       "[7833, 5398, 3454, 2851, 2148, 750]"
      ]
     },
     "execution_count": 35,
     "metadata": {},
     "output_type": "execute_result"
    }
   ],
   "source": [
    "counts"
   ]
  },
  {
   "cell_type": "code",
   "execution_count": 36,
   "metadata": {},
   "outputs": [
    {
     "data": {
      "text/plain": [
       "['Australia', 'Argentina', 'Italy', 'Spain', 'France', 'US']"
      ]
     },
     "execution_count": 36,
     "metadata": {},
     "output_type": "execute_result"
    }
   ],
   "source": [
    "countries[::-1]"
   ]
  },
  {
   "cell_type": "code",
   "execution_count": 37,
   "metadata": {},
   "outputs": [
    {
     "data": {
      "text/plain": [
       "[750, 2148, 2851, 3454, 5398, 7833]"
      ]
     },
     "execution_count": 37,
     "metadata": {},
     "output_type": "execute_result"
    }
   ],
   "source": [
    "counts[::-1]"
   ]
  },
  {
   "cell_type": "code",
   "execution_count": 38,
   "metadata": {},
   "outputs": [],
   "source": [
    "def return_percentage(share, summ):\n",
    "    '''\n",
    "    Возвращает долю в процентах\n",
    "    \n",
    "    ---\n",
    "    Параметры:\n",
    "    \n",
    "    share - float,\n",
    "     Абсолютное значение показателя\n",
    "     \n",
    "    summ - float,\n",
    "     Сумма всех значений показателя\n",
    "     \n",
    "    ---\n",
    "    Результат:\n",
    "    \n",
    "    Долю share от summ в виде строки\n",
    "    \n",
    "    ---\n",
    "    Пример:\n",
    "    \n",
    "    return_percentage(20, 100)\n",
    "    >> 20%\n",
    "    \n",
    "    return_percentage(240, 800)\n",
    "    >> 30%    \n",
    "    '''\n",
    "    \n",
    "    # Решение\n",
    "    ..."
   ]
  },
  {
   "cell_type": "code",
   "execution_count": 39,
   "metadata": {},
   "outputs": [],
   "source": [
    "# Рещение\n"
   ]
  },
  {
   "cell_type": "code",
   "execution_count": null,
   "metadata": {},
   "outputs": [],
   "source": []
  },
  {
   "cell_type": "markdown",
   "metadata": {},
   "source": [
    "## 3.2. Тоже только piechart\n",
    "\n",
    "Одну и ту же информацию можно представить по разному.\n",
    "Те же самые данные о странах теперь визуализируем ввиде `piechart`:\n",
    "\n",
    "1. Воспользуйтесь функцией plt.pie и постройте круговую диаграмму доли рынка вина по странам\n",
    "2. Кастомизируйте свой график:\n",
    "    - Увеличьте размеры `plt.figure(figsize=(8, 8))`\n",
    "    - Измените размер текста (например на 15)\n",
    "    - Добавьте название\n",
    "    - Измените стартовый угол на 90 (параметр `startangle`)\n",
    "3. Добавьте подпись на секторы с долей рынка каждой страны в процентах/абсолютным числом\n",
    "    - Для этого воспользуйтесь параметром `autopct`. Это работает следующим образом, в этот параметр нужно передать функцию, которая будет обрабатывать число - процент сектора. Для начала попробуйте передать в него очень глупую функцию которая возвращает тоже число которое принимает на вход\n",
    "    ```\n",
    "    def dummy_percentage(percentage):\n",
    "        return percentage\n",
    "    ```\n",
    "4. Удалите серединку круговой диагрыммы (чтобы получился бублик вместо круга):\n",
    "    - Воспользуйтесь параметром `wedgeprops={'width': width}` величина width контролирует радиус вырезанного круга. Радиус всего \"пирога\" = 1.\n",
    "    \n",
    "5. Еще немного кастомизации:\n",
    "     - Воспользуйтесь параметром `pctdistance` чтобы подправить положение отметок с процентами\n",
    "     - Вопспользуйтесь параметром `labeldistance` чтобы подправить положение надписей со странами\n",
    "     - На полной круговой диаграмме (не на бублике) воспользуйтесь параметром `explode` чтобы немного вытащить сектор соответствующий Америке."
   ]
  },
  {
   "cell_type": "code",
   "execution_count": 40,
   "metadata": {},
   "outputs": [],
   "source": [
    "def return_percentage(percentage):\n",
    "    return f'{int(round(percentage))}%'"
   ]
  },
  {
   "cell_type": "code",
   "execution_count": 41,
   "metadata": {},
   "outputs": [],
   "source": [
    "plt.rcParams.update({'font.size': 15})\n",
    "\n",
    "# Решение\n"
   ]
  },
  {
   "cell_type": "code",
   "execution_count": 42,
   "metadata": {},
   "outputs": [],
   "source": [
    "plt.rcParams.update({'font.size': 15})\n",
    "\n",
    "# Решение\n"
   ]
  },
  {
   "cell_type": "code",
   "execution_count": null,
   "metadata": {},
   "outputs": [],
   "source": []
  },
  {
   "cell_type": "markdown",
   "metadata": {},
   "source": [
    "# 4. Распределение цен на вино по странам\n",
    "\n",
    "интересующие нас столбцы `price` и `country`.\n",
    "\n",
    "Для этого воспользуемся boxplot (ящик с усами хи-хи).\n",
    "\n",
    "1. Постройте boxplot для визуализации распределения цены для одной страны (например France). Воспользуйтесь функцией plt.boxplot\n",
    "2. Постройте boxplot для визуализации распределения цена для всех стран в таблице\n",
    "3. Кастомизируйте получившийся график\n",
    "    - Увеличьте его размеры (plt.figure)\n",
    "    - Добавьте подписи к осям и название\n",
    "4. Еще немного кастомизации\n",
    "    - Нарисуйте еще один график, но теперь в ручную создайте параметр `x` таким образом чтобы страны шли по убыванию цены, например:\n",
    "    ```\n",
    "    plt.boxplot([data.price[data.country=='US'],\n",
    "                 data.price[data.country=='Italy']],\n",
    "                 label =['US', 'Italy'])\n",
    "    ```\n",
    "    - Вам нужно нарисовать такой график со всеми странами.\n",
    "    - Установите параметр showcaps=False\n",
    "5. Сохраните получившийся график"
   ]
  },
  {
   "cell_type": "code",
   "execution_count": 43,
   "metadata": {},
   "outputs": [],
   "source": [
    "france_price = data.price[data.country=='France']"
   ]
  },
  {
   "cell_type": "code",
   "execution_count": 44,
   "metadata": {},
   "outputs": [],
   "source": [
    "# Решение\n"
   ]
  },
  {
   "cell_type": "code",
   "execution_count": 45,
   "metadata": {},
   "outputs": [],
   "source": [
    "price = [data.price[data.country==country] for country in data.country.unique()]"
   ]
  },
  {
   "cell_type": "code",
   "execution_count": 46,
   "metadata": {},
   "outputs": [],
   "source": [
    "# Решение\n"
   ]
  },
  {
   "cell_type": "code",
   "execution_count": 47,
   "metadata": {},
   "outputs": [],
   "source": [
    "# Решение\n"
   ]
  },
  {
   "cell_type": "code",
   "execution_count": null,
   "metadata": {},
   "outputs": [],
   "source": []
  },
  {
   "cell_type": "code",
   "execution_count": null,
   "metadata": {},
   "outputs": [],
   "source": []
  },
  {
   "cell_type": "markdown",
   "metadata": {},
   "source": [
    "# 5. Распределение рейтинга на вино по странам\n",
    "\n",
    "интересующие нас столбцы `points` и `country`.\n",
    "\n",
    "Нужно сделать все то же самое но теперь для столбца `points`\n",
    "\n",
    "1. Постройте boxplot для визуализации распределения рейтинга вина для одной страны (например France). Воспользуйтесь функцией plt.boxplot\n",
    "2. Постройте boxplot для визуализации распределения рейтинга вина для всех стран в таблице\n",
    "3. Кастомизируйте получившийся график\n",
    "    - Увеличьте его размеры (plt.figure)\n",
    "    - Добавьте подписи к осям и название\n",
    "4. Еще немного кастомизации\n",
    "    - Нарисуйте еще один график, но теперь вручную создайте параметр `x` таким образом чтобы страны шли по убыванию цены (Не рейтинга!)\n",
    "    - Установите параметр showcaps=False\n",
    "    - Воспользуйтесь функцией plt.grid() чтобы добавить сетку на свой график\n",
    "5. Сохраните получившийся график\n",
    "6. Что вы можете сказать об Австралийском вине по сравнению с Французским и об Испанском вине по сравнению с Аргентинским (откройте графики распределения цены и рейтинга рядом и сравните их)."
   ]
  },
  {
   "cell_type": "code",
   "execution_count": 48,
   "metadata": {},
   "outputs": [],
   "source": [
    "points = [data.points[data.country==country] for country in data.country.unique()]"
   ]
  },
  {
   "cell_type": "code",
   "execution_count": null,
   "metadata": {},
   "outputs": [],
   "source": []
  },
  {
   "cell_type": "code",
   "execution_count": 49,
   "metadata": {},
   "outputs": [],
   "source": [
    "# Решение\n"
   ]
  },
  {
   "cell_type": "code",
   "execution_count": null,
   "metadata": {},
   "outputs": [],
   "source": []
  },
  {
   "cell_type": "markdown",
   "metadata": {},
   "source": [
    "###  5.1 Нарисовать цену и рейтинг друг под другом\n",
    "\n",
    "Ниже приведен пример того как можно нарисовать несколько графиков.\n",
    "\n",
    "Функция plt.subplots принимает на вход два параметра `nrows` `ncols` количество строк и столбцов с отдельными областями для графика.\n",
    "\n",
    "Ваша задача нарисовать боксплоты которые мы рисовали выше, но воспользоваться:\n",
    "\n",
    "    - `plt.subplots(nrows=2, sharey=True)`\n",
    "    \n",
    "    - для того чтобы построить график в ячейке i,j нужно написать ax[i][j] если у вас один из параметров (nrows или ncols) равен 1, тогда просто ax[i], например:\n",
    "    \n",
    "    ```\n",
    "    fig, ax = plt.subplots(nrows=2, sharex=True, figsize=(5,3))\n",
    "    ax[0].plot([0,1], [0,1])\n",
    "    ax[1].scatter([0,1], [0,1])\n",
    "    ```\n",
    "    \n",
    "  ### Пример использования plt.subplots"
   ]
  },
  {
   "cell_type": "code",
   "execution_count": 50,
   "metadata": {},
   "outputs": [
    {
     "data": {
      "image/png": "[encoded data removed]",
      "text/plain": [
       "<Figure size 720x360 with 6 Axes>"
      ]
     },
     "metadata": {
      "needs_background": "light"
     },
     "output_type": "display_data"
    }
   ],
   "source": [
    "fig, ax = plt.subplots(nrows=2, ncols=3, sharex='col', sharey='row', figsize=(10,5))"
   ]
  },
  {
   "cell_type": "code",
   "execution_count": 51,
   "metadata": {},
   "outputs": [
    {
     "data": {
      "image/png": "[encoded data removed]",
      "text/plain": [
       "<Figure size 864x720 with 2 Axes>"
      ]
     },
     "metadata": {
      "needs_background": "light"
     },
     "output_type": "display_data"
    }
   ],
   "source": [
    "fig, ax = plt.subplots(nrows=2, sharex=True, figsize=(12,10))\n",
    "\n",
    "ax[0].boxplot([data.points[data.country=='France'],\n",
    "             data.points[data.country=='Australia'],\n",
    "             data.points[data.country=='Argentina'],\n",
    "             data.points[data.country=='Spain']\n",
    "             ],\n",
    "            labels=['France', 'Australia', 'Argentina', 'Spain'],\n",
    "            showcaps=False);\n",
    "ax[0].set_ylabel('Рейтинг вина')\n",
    "\n",
    "ax[1].boxplot([data.price[data.country=='France'],\n",
    "             data.price[data.country=='Australia'],\n",
    "             data.price[data.country=='Argentina'],\n",
    "             data.price[data.country=='Spain']\n",
    "             ],\n",
    "            labels=['France', 'Australia', 'Argentina', 'Spain'],\n",
    "            showcaps=False);\n",
    "\n",
    "ax[1].set_ylabel('Цена на вино, $');\n",
    "\n",
    "# ax[1].set_title()\n",
    "# ax[1].set_xlabel()\n",
    "# ax[1].set_xticks()\n",
    "# и так далее\n",
    "# Полный список всего что можно `set_` можно найти тут https://matplotlib.org/3.1.1/api/axes_api.html"
   ]
  },
  {
   "cell_type": "code",
   "execution_count": null,
   "metadata": {},
   "outputs": [],
   "source": []
  },
  {
   "cell_type": "markdown",
   "metadata": {},
   "source": [
    "# 6. Построим зависимость рейтинг от цены вина\n",
    "\n",
    "Интересующие нас колонки - `price` и `points`\n",
    "\n",
    "построим диаграмму рассеяния рейтинг в зависимости от цены.\n",
    "1. Воспользуйтесь функцией plt.scatter() для того чтобы построить зависимость рейтинга (`points`) от цены (`price`)\n",
    "    - Когда говорят зависимость A от B это обычно означает что по оси x отложено B а по оси y - A.\n",
    "2. Увеличьте размеры графика если это необходимо\n",
    "3. Добавьте на ваш график подписи осей и название\n",
    "4. Наблюдаете ли вы какую нибудь зависимость рейтинга от цены?"
   ]
  },
  {
   "cell_type": "code",
   "execution_count": 52,
   "metadata": {},
   "outputs": [],
   "source": [
    "price = data.price\n",
    "points = data.points"
   ]
  },
  {
   "cell_type": "code",
   "execution_count": 53,
   "metadata": {},
   "outputs": [],
   "source": [
    "# Решение\n"
   ]
  },
  {
   "cell_type": "code",
   "execution_count": null,
   "metadata": {},
   "outputs": [],
   "source": []
  },
  {
   "cell_type": "markdown",
   "metadata": {},
   "source": [
    "### 6.1 Добавим кастомизации\n",
    "\n",
    "Постройте тот же самый график, но теперь\n",
    "1. Установите размеры графика (9, 5)\n",
    "2. Уменьшите размеры отдельных точек, установите параметр s=5\n",
    "3. Наблюдаете ли вы какую нибудь зависимость рейтинга от цены теперь?"
   ]
  },
  {
   "cell_type": "code",
   "execution_count": 54,
   "metadata": {},
   "outputs": [],
   "source": [
    "# Решение\n"
   ]
  },
  {
   "cell_type": "markdown",
   "metadata": {},
   "source": [
    "### 6.2 Heatmap\n",
    "\n",
    "Обратите внимание что точки на графике - разного размера, это произошло из-за того что на самом деле вин с некоторыми цена-рейтинг больше 1, поэтому в некоторых точках на самом деле не 1 точка а много (в отдельных случаях несколько сотен!).\n",
    "\n",
    "Давайте посмотрим а сколько их в каждой точке, для этого воспользуемся функцией pandas.crosstab\n",
    "https://pandas.pydata.org/pandas-docs/stable/reference/api/pandas.crosstab.html"
   ]
  },
  {
   "cell_type": "code",
   "execution_count": 55,
   "metadata": {},
   "outputs": [],
   "source": [
    "points_price = pd.crosstab(data.points, data.price)"
   ]
  },
  {
   "cell_type": "code",
   "execution_count": 56,
   "metadata": {},
   "outputs": [
    {
     "data": {
      "text/html": [
       "<div>\n",
       "<style scoped>\n",
       "    .dataframe tbody tr th:only-of-type {\n",
       "        vertical-align: middle;\n",
       "    }\n",
       "\n",
       "    .dataframe tbody tr th {\n",
       "        vertical-align: top;\n",
       "    }\n",
       "\n",
       "    .dataframe thead th {\n",
       "        text-align: right;\n",
       "    }\n",
       "</style>\n",
       "<table border=\"1\" class=\"dataframe\">\n",
       "  <thead>\n",
       "    <tr style=\"text-align: right;\">\n",
       "      <th>price</th>\n",
       "      <th>4</th>\n",
       "      <th>5</th>\n",
       "      <th>6</th>\n",
       "      <th>7</th>\n",
       "      <th>8</th>\n",
       "      <th>9</th>\n",
       "      <th>10</th>\n",
       "      <th>11</th>\n",
       "      <th>12</th>\n",
       "      <th>13</th>\n",
       "      <th>...</th>\n",
       "      <th>21</th>\n",
       "      <th>22</th>\n",
       "      <th>23</th>\n",
       "      <th>24</th>\n",
       "      <th>25</th>\n",
       "      <th>26</th>\n",
       "      <th>27</th>\n",
       "      <th>28</th>\n",
       "      <th>29</th>\n",
       "      <th>30</th>\n",
       "    </tr>\n",
       "    <tr>\n",
       "      <th>points</th>\n",
       "      <th></th>\n",
       "      <th></th>\n",
       "      <th></th>\n",
       "      <th></th>\n",
       "      <th></th>\n",
       "      <th></th>\n",
       "      <th></th>\n",
       "      <th></th>\n",
       "      <th></th>\n",
       "      <th></th>\n",
       "      <th></th>\n",
       "      <th></th>\n",
       "      <th></th>\n",
       "      <th></th>\n",
       "      <th></th>\n",
       "      <th></th>\n",
       "      <th></th>\n",
       "      <th></th>\n",
       "      <th></th>\n",
       "      <th></th>\n",
       "      <th></th>\n",
       "    </tr>\n",
       "  </thead>\n",
       "  <tbody>\n",
       "    <tr>\n",
       "      <td>80</td>\n",
       "      <td>0</td>\n",
       "      <td>1</td>\n",
       "      <td>0</td>\n",
       "      <td>0</td>\n",
       "      <td>9</td>\n",
       "      <td>6</td>\n",
       "      <td>14</td>\n",
       "      <td>6</td>\n",
       "      <td>12</td>\n",
       "      <td>8</td>\n",
       "      <td>...</td>\n",
       "      <td>0</td>\n",
       "      <td>3</td>\n",
       "      <td>1</td>\n",
       "      <td>0</td>\n",
       "      <td>4</td>\n",
       "      <td>1</td>\n",
       "      <td>1</td>\n",
       "      <td>1</td>\n",
       "      <td>0</td>\n",
       "      <td>3</td>\n",
       "    </tr>\n",
       "    <tr>\n",
       "      <td>81</td>\n",
       "      <td>0</td>\n",
       "      <td>1</td>\n",
       "      <td>1</td>\n",
       "      <td>3</td>\n",
       "      <td>5</td>\n",
       "      <td>8</td>\n",
       "      <td>19</td>\n",
       "      <td>11</td>\n",
       "      <td>19</td>\n",
       "      <td>7</td>\n",
       "      <td>...</td>\n",
       "      <td>3</td>\n",
       "      <td>4</td>\n",
       "      <td>0</td>\n",
       "      <td>0</td>\n",
       "      <td>4</td>\n",
       "      <td>1</td>\n",
       "      <td>0</td>\n",
       "      <td>0</td>\n",
       "      <td>3</td>\n",
       "      <td>5</td>\n",
       "    </tr>\n",
       "    <tr>\n",
       "      <td>82</td>\n",
       "      <td>1</td>\n",
       "      <td>0</td>\n",
       "      <td>0</td>\n",
       "      <td>4</td>\n",
       "      <td>11</td>\n",
       "      <td>21</td>\n",
       "      <td>45</td>\n",
       "      <td>18</td>\n",
       "      <td>32</td>\n",
       "      <td>24</td>\n",
       "      <td>...</td>\n",
       "      <td>6</td>\n",
       "      <td>12</td>\n",
       "      <td>3</td>\n",
       "      <td>10</td>\n",
       "      <td>14</td>\n",
       "      <td>5</td>\n",
       "      <td>5</td>\n",
       "      <td>6</td>\n",
       "      <td>7</td>\n",
       "      <td>12</td>\n",
       "    </tr>\n",
       "    <tr>\n",
       "      <td>83</td>\n",
       "      <td>1</td>\n",
       "      <td>2</td>\n",
       "      <td>1</td>\n",
       "      <td>9</td>\n",
       "      <td>16</td>\n",
       "      <td>23</td>\n",
       "      <td>77</td>\n",
       "      <td>46</td>\n",
       "      <td>62</td>\n",
       "      <td>73</td>\n",
       "      <td>...</td>\n",
       "      <td>9</td>\n",
       "      <td>19</td>\n",
       "      <td>10</td>\n",
       "      <td>14</td>\n",
       "      <td>35</td>\n",
       "      <td>9</td>\n",
       "      <td>5</td>\n",
       "      <td>13</td>\n",
       "      <td>5</td>\n",
       "      <td>16</td>\n",
       "    </tr>\n",
       "    <tr>\n",
       "      <td>84</td>\n",
       "      <td>1</td>\n",
       "      <td>0</td>\n",
       "      <td>2</td>\n",
       "      <td>9</td>\n",
       "      <td>39</td>\n",
       "      <td>49</td>\n",
       "      <td>134</td>\n",
       "      <td>93</td>\n",
       "      <td>131</td>\n",
       "      <td>129</td>\n",
       "      <td>...</td>\n",
       "      <td>22</td>\n",
       "      <td>36</td>\n",
       "      <td>22</td>\n",
       "      <td>32</td>\n",
       "      <td>46</td>\n",
       "      <td>14</td>\n",
       "      <td>11</td>\n",
       "      <td>23</td>\n",
       "      <td>11</td>\n",
       "      <td>37</td>\n",
       "    </tr>\n",
       "    <tr>\n",
       "      <td>85</td>\n",
       "      <td>1</td>\n",
       "      <td>2</td>\n",
       "      <td>5</td>\n",
       "      <td>9</td>\n",
       "      <td>39</td>\n",
       "      <td>48</td>\n",
       "      <td>188</td>\n",
       "      <td>113</td>\n",
       "      <td>197</td>\n",
       "      <td>166</td>\n",
       "      <td>...</td>\n",
       "      <td>26</td>\n",
       "      <td>63</td>\n",
       "      <td>23</td>\n",
       "      <td>58</td>\n",
       "      <td>90</td>\n",
       "      <td>26</td>\n",
       "      <td>18</td>\n",
       "      <td>34</td>\n",
       "      <td>30</td>\n",
       "      <td>71</td>\n",
       "    </tr>\n",
       "    <tr>\n",
       "      <td>86</td>\n",
       "      <td>0</td>\n",
       "      <td>0</td>\n",
       "      <td>1</td>\n",
       "      <td>9</td>\n",
       "      <td>24</td>\n",
       "      <td>59</td>\n",
       "      <td>170</td>\n",
       "      <td>98</td>\n",
       "      <td>204</td>\n",
       "      <td>207</td>\n",
       "      <td>...</td>\n",
       "      <td>43</td>\n",
       "      <td>106</td>\n",
       "      <td>56</td>\n",
       "      <td>84</td>\n",
       "      <td>150</td>\n",
       "      <td>46</td>\n",
       "      <td>31</td>\n",
       "      <td>68</td>\n",
       "      <td>43</td>\n",
       "      <td>120</td>\n",
       "    </tr>\n",
       "    <tr>\n",
       "      <td>87</td>\n",
       "      <td>0</td>\n",
       "      <td>1</td>\n",
       "      <td>1</td>\n",
       "      <td>6</td>\n",
       "      <td>29</td>\n",
       "      <td>45</td>\n",
       "      <td>133</td>\n",
       "      <td>99</td>\n",
       "      <td>204</td>\n",
       "      <td>172</td>\n",
       "      <td>...</td>\n",
       "      <td>55</td>\n",
       "      <td>157</td>\n",
       "      <td>98</td>\n",
       "      <td>127</td>\n",
       "      <td>274</td>\n",
       "      <td>81</td>\n",
       "      <td>54</td>\n",
       "      <td>130</td>\n",
       "      <td>53</td>\n",
       "      <td>242</td>\n",
       "    </tr>\n",
       "    <tr>\n",
       "      <td>88</td>\n",
       "      <td>0</td>\n",
       "      <td>0</td>\n",
       "      <td>2</td>\n",
       "      <td>2</td>\n",
       "      <td>9</td>\n",
       "      <td>14</td>\n",
       "      <td>80</td>\n",
       "      <td>38</td>\n",
       "      <td>126</td>\n",
       "      <td>121</td>\n",
       "      <td>...</td>\n",
       "      <td>66</td>\n",
       "      <td>215</td>\n",
       "      <td>105</td>\n",
       "      <td>161</td>\n",
       "      <td>367</td>\n",
       "      <td>113</td>\n",
       "      <td>74</td>\n",
       "      <td>196</td>\n",
       "      <td>90</td>\n",
       "      <td>288</td>\n",
       "    </tr>\n",
       "    <tr>\n",
       "      <td>89</td>\n",
       "      <td>0</td>\n",
       "      <td>0</td>\n",
       "      <td>0</td>\n",
       "      <td>2</td>\n",
       "      <td>2</td>\n",
       "      <td>5</td>\n",
       "      <td>20</td>\n",
       "      <td>16</td>\n",
       "      <td>36</td>\n",
       "      <td>53</td>\n",
       "      <td>...</td>\n",
       "      <td>54</td>\n",
       "      <td>135</td>\n",
       "      <td>64</td>\n",
       "      <td>121</td>\n",
       "      <td>285</td>\n",
       "      <td>98</td>\n",
       "      <td>54</td>\n",
       "      <td>134</td>\n",
       "      <td>72</td>\n",
       "      <td>246</td>\n",
       "    </tr>\n",
       "    <tr>\n",
       "      <td>90</td>\n",
       "      <td>0</td>\n",
       "      <td>0</td>\n",
       "      <td>0</td>\n",
       "      <td>0</td>\n",
       "      <td>0</td>\n",
       "      <td>0</td>\n",
       "      <td>9</td>\n",
       "      <td>3</td>\n",
       "      <td>30</td>\n",
       "      <td>35</td>\n",
       "      <td>...</td>\n",
       "      <td>59</td>\n",
       "      <td>183</td>\n",
       "      <td>59</td>\n",
       "      <td>158</td>\n",
       "      <td>298</td>\n",
       "      <td>81</td>\n",
       "      <td>68</td>\n",
       "      <td>167</td>\n",
       "      <td>63</td>\n",
       "      <td>279</td>\n",
       "    </tr>\n",
       "    <tr>\n",
       "      <td>91</td>\n",
       "      <td>0</td>\n",
       "      <td>0</td>\n",
       "      <td>0</td>\n",
       "      <td>0</td>\n",
       "      <td>1</td>\n",
       "      <td>2</td>\n",
       "      <td>1</td>\n",
       "      <td>2</td>\n",
       "      <td>9</td>\n",
       "      <td>5</td>\n",
       "      <td>...</td>\n",
       "      <td>31</td>\n",
       "      <td>106</td>\n",
       "      <td>51</td>\n",
       "      <td>79</td>\n",
       "      <td>197</td>\n",
       "      <td>69</td>\n",
       "      <td>42</td>\n",
       "      <td>104</td>\n",
       "      <td>79</td>\n",
       "      <td>245</td>\n",
       "    </tr>\n",
       "    <tr>\n",
       "      <td>92</td>\n",
       "      <td>0</td>\n",
       "      <td>0</td>\n",
       "      <td>0</td>\n",
       "      <td>0</td>\n",
       "      <td>0</td>\n",
       "      <td>0</td>\n",
       "      <td>0</td>\n",
       "      <td>0</td>\n",
       "      <td>0</td>\n",
       "      <td>2</td>\n",
       "      <td>...</td>\n",
       "      <td>19</td>\n",
       "      <td>46</td>\n",
       "      <td>28</td>\n",
       "      <td>47</td>\n",
       "      <td>114</td>\n",
       "      <td>42</td>\n",
       "      <td>28</td>\n",
       "      <td>86</td>\n",
       "      <td>48</td>\n",
       "      <td>159</td>\n",
       "    </tr>\n",
       "    <tr>\n",
       "      <td>93</td>\n",
       "      <td>0</td>\n",
       "      <td>0</td>\n",
       "      <td>0</td>\n",
       "      <td>0</td>\n",
       "      <td>0</td>\n",
       "      <td>0</td>\n",
       "      <td>0</td>\n",
       "      <td>0</td>\n",
       "      <td>0</td>\n",
       "      <td>1</td>\n",
       "      <td>...</td>\n",
       "      <td>5</td>\n",
       "      <td>15</td>\n",
       "      <td>9</td>\n",
       "      <td>21</td>\n",
       "      <td>31</td>\n",
       "      <td>13</td>\n",
       "      <td>13</td>\n",
       "      <td>30</td>\n",
       "      <td>16</td>\n",
       "      <td>57</td>\n",
       "    </tr>\n",
       "    <tr>\n",
       "      <td>94</td>\n",
       "      <td>0</td>\n",
       "      <td>0</td>\n",
       "      <td>0</td>\n",
       "      <td>0</td>\n",
       "      <td>0</td>\n",
       "      <td>0</td>\n",
       "      <td>0</td>\n",
       "      <td>0</td>\n",
       "      <td>0</td>\n",
       "      <td>0</td>\n",
       "      <td>...</td>\n",
       "      <td>0</td>\n",
       "      <td>1</td>\n",
       "      <td>0</td>\n",
       "      <td>11</td>\n",
       "      <td>15</td>\n",
       "      <td>1</td>\n",
       "      <td>0</td>\n",
       "      <td>9</td>\n",
       "      <td>4</td>\n",
       "      <td>20</td>\n",
       "    </tr>\n",
       "    <tr>\n",
       "      <td>95</td>\n",
       "      <td>0</td>\n",
       "      <td>0</td>\n",
       "      <td>0</td>\n",
       "      <td>0</td>\n",
       "      <td>0</td>\n",
       "      <td>0</td>\n",
       "      <td>0</td>\n",
       "      <td>0</td>\n",
       "      <td>0</td>\n",
       "      <td>0</td>\n",
       "      <td>...</td>\n",
       "      <td>0</td>\n",
       "      <td>0</td>\n",
       "      <td>0</td>\n",
       "      <td>1</td>\n",
       "      <td>2</td>\n",
       "      <td>0</td>\n",
       "      <td>0</td>\n",
       "      <td>2</td>\n",
       "      <td>0</td>\n",
       "      <td>4</td>\n",
       "    </tr>\n",
       "    <tr>\n",
       "      <td>96</td>\n",
       "      <td>0</td>\n",
       "      <td>0</td>\n",
       "      <td>0</td>\n",
       "      <td>0</td>\n",
       "      <td>0</td>\n",
       "      <td>0</td>\n",
       "      <td>0</td>\n",
       "      <td>0</td>\n",
       "      <td>0</td>\n",
       "      <td>0</td>\n",
       "      <td>...</td>\n",
       "      <td>0</td>\n",
       "      <td>0</td>\n",
       "      <td>0</td>\n",
       "      <td>0</td>\n",
       "      <td>0</td>\n",
       "      <td>0</td>\n",
       "      <td>2</td>\n",
       "      <td>0</td>\n",
       "      <td>0</td>\n",
       "      <td>2</td>\n",
       "    </tr>\n",
       "  </tbody>\n",
       "</table>\n",
       "<p>17 rows × 27 columns</p>\n",
       "</div>"
      ],
      "text/plain": [
       "price   4   5   6   7   8   9    10   11   12   13  ...  21   22   23   24  \\\n",
       "points                                              ...                      \n",
       "80       0   1   0   0   9   6   14    6   12    8  ...   0    3    1    0   \n",
       "81       0   1   1   3   5   8   19   11   19    7  ...   3    4    0    0   \n",
       "82       1   0   0   4  11  21   45   18   32   24  ...   6   12    3   10   \n",
       "83       1   2   1   9  16  23   77   46   62   73  ...   9   19   10   14   \n",
       "84       1   0   2   9  39  49  134   93  131  129  ...  22   36   22   32   \n",
       "85       1   2   5   9  39  48  188  113  197  166  ...  26   63   23   58   \n",
       "86       0   0   1   9  24  59  170   98  204  207  ...  43  106   56   84   \n",
       "87       0   1   1   6  29  45  133   99  204  172  ...  55  157   98  127   \n",
       "88       0   0   2   2   9  14   80   38  126  121  ...  66  215  105  161   \n",
       "89       0   0   0   2   2   5   20   16   36   53  ...  54  135   64  121   \n",
       "90       0   0   0   0   0   0    9    3   30   35  ...  59  183   59  158   \n",
       "91       0   0   0   0   1   2    1    2    9    5  ...  31  106   51   79   \n",
       "92       0   0   0   0   0   0    0    0    0    2  ...  19   46   28   47   \n",
       "93       0   0   0   0   0   0    0    0    0    1  ...   5   15    9   21   \n",
       "94       0   0   0   0   0   0    0    0    0    0  ...   0    1    0   11   \n",
       "95       0   0   0   0   0   0    0    0    0    0  ...   0    0    0    1   \n",
       "96       0   0   0   0   0   0    0    0    0    0  ...   0    0    0    0   \n",
       "\n",
       "price    25   26  27   28  29   30  \n",
       "points                              \n",
       "80        4    1   1    1   0    3  \n",
       "81        4    1   0    0   3    5  \n",
       "82       14    5   5    6   7   12  \n",
       "83       35    9   5   13   5   16  \n",
       "84       46   14  11   23  11   37  \n",
       "85       90   26  18   34  30   71  \n",
       "86      150   46  31   68  43  120  \n",
       "87      274   81  54  130  53  242  \n",
       "88      367  113  74  196  90  288  \n",
       "89      285   98  54  134  72  246  \n",
       "90      298   81  68  167  63  279  \n",
       "91      197   69  42  104  79  245  \n",
       "92      114   42  28   86  48  159  \n",
       "93       31   13  13   30  16   57  \n",
       "94       15    1   0    9   4   20  \n",
       "95        2    0   0    2   0    4  \n",
       "96        0    0   2    0   0    2  \n",
       "\n",
       "[17 rows x 27 columns]"
      ]
     },
     "execution_count": 56,
     "metadata": {},
     "output_type": "execute_result"
    }
   ],
   "source": [
    "points_price"
   ]
  },
  {
   "cell_type": "markdown",
   "metadata": {},
   "source": [
    "Функция crosstab создает новую таблицу, такую что в столбцах указана цена (`price`) в строках указан рейтинг (`points`) а на пересечении стоит **количество** вин с такой ценой и рейтингом.\n",
    "\n",
    "Так например посмотрите на таблицу\n",
    "вин с ценой 8 долларов и рейтингом 85 ровно 39 штук, а вин с ценой 27 долларов и тем же самым рейтингом - 18.\n",
    "\n",
    "Доступ к элементам этой новой таблицы можно получать так же как и с любой другой таблицей:\n",
    "- Чтобы получить доступ к колонке наберите название таблицы и в квадратных скобках название колонки\n",
    "- Обратите внимание что названия колонок в этой таблице это числа! Это связано с тем что уникальные значения в колонке `price` были числами.\n"
   ]
  },
  {
   "cell_type": "code",
   "execution_count": 57,
   "metadata": {},
   "outputs": [
    {
     "data": {
      "text/plain": [
       "Int64Index([ 4,  5,  6,  7,  8,  9, 10, 11, 12, 13, 14, 15, 16, 17, 18, 19, 20,\n",
       "            21, 22, 23, 24, 25, 26, 27, 28, 29, 30],\n",
       "           dtype='int64', name='price')"
      ]
     },
     "execution_count": 57,
     "metadata": {},
     "output_type": "execute_result"
    }
   ],
   "source": [
    "points_price.columns"
   ]
  },
  {
   "cell_type": "code",
   "execution_count": 58,
   "metadata": {},
   "outputs": [
    {
     "data": {
      "text/plain": [
       "points\n",
       "80     0\n",
       "81     3\n",
       "82     6\n",
       "83     9\n",
       "84    22\n",
       "85    26\n",
       "86    43\n",
       "87    55\n",
       "88    66\n",
       "89    54\n",
       "90    59\n",
       "91    31\n",
       "92    19\n",
       "93     5\n",
       "94     0\n",
       "95     0\n",
       "96     0\n",
       "Name: 21, dtype: int64"
      ]
     },
     "execution_count": 58,
     "metadata": {},
     "output_type": "execute_result"
    }
   ],
   "source": [
    "points_price[21]"
   ]
  },
  {
   "cell_type": "code",
   "execution_count": null,
   "metadata": {},
   "outputs": [],
   "source": []
  },
  {
   "cell_type": "code",
   "execution_count": null,
   "metadata": {},
   "outputs": [],
   "source": []
  },
  {
   "cell_type": "markdown",
   "metadata": {},
   "source": [
    "### Imshow example\n",
    "\n",
    "Пример использования функции imshow"
   ]
  },
  {
   "cell_type": "code",
   "execution_count": 59,
   "metadata": {},
   "outputs": [
    {
     "data": {
      "image/png": "[encoded data removed]",
      "text/plain": [
       "<Figure size 576x576 with 1 Axes>"
      ]
     },
     "metadata": {
      "needs_background": "light"
     },
     "output_type": "display_data"
    }
   ],
   "source": [
    "# Create data for example\n",
    "vegetables = [\"cucumber\", \"tomato\", \"lettuce\", \"asparagus\",\n",
    "              \"potato\", \"wheat\", \"barley\"]\n",
    "farmers = [\"Farmer Joe\", \"Upland Bros.\", \"Smith Gardening\",\n",
    "           \"Agrifun\", \"Organiculture\", \"BioGoods Ltd.\", \"Cornylee Corp.\"]\n",
    "\n",
    "harvest = [[0.8, 2.4, 2.5, 3.9, 0.0, 4.0, 0.0],\n",
    "            [2.4, 0.0, 4.0, 1.0, 2.7, 0.0, 0.0],\n",
    "            [1.1, 2.4, 0.8, 4.3, 1.9, 4.4, 0.0],\n",
    "            [0.6, 0.0, 0.3, 0.0, 3.1, 0.0, 0.0],\n",
    "            [0.7, 1.7, 0.6, 2.6, 2.2, 6.2, 0.0],\n",
    "            [1.3, 1.2, 0.0, 0.0, 0.0, 3.2, 5.1],\n",
    "            [0.1, 2.0, 0.0, 1.4, 0.0, 1.9, 6.3]]\n",
    "\n",
    "# Display harvest using heat map\n",
    "plt.figure(figsize=(8,8))\n",
    "plt.imshow(harvest)\n",
    "\n",
    "\n",
    "# Add numbers into every cell\n",
    "for i in range(len(vegetables)):\n",
    "    for j in range(len(farmers)):\n",
    "        text = plt.text(j, i, harvest[i][j],\n",
    "                       ha=\"center\", va=\"center\", color=\"w\")\n",
    "        \n",
    "# Add x, y ticks  \n",
    "# Add x, y ticks labels\n",
    "# Rotate x ticks labels\n",
    "plt.xticks(range(len(farmers)), farmers, rotation=45, ha=\"right\")\n",
    "plt.yticks(range(len(vegetables)), vegetables)\n",
    "\n",
    "# Add title\n",
    "plt.title(\"Harvest of local farmers (in tons/year)\");"
   ]
  },
  {
   "cell_type": "markdown",
   "metadata": {},
   "source": [
    "### Ваша очередь\n",
    "\n",
    "1. Воспользуйтесь функцией `plt.imshow()` для того чтобы построить тепловую карту зависимости рейтинга от цены. Я подготовил для вас необходимую переменную.\n",
    "2. Увеличьте размеры вашего графика `(15, 7)`\n",
    "3. Установите параметр `origin='lower'`. По умолчанию на изображениях начало отсчета расположено не в нижнем левом углу, а в верхнем левом углу. Есть идеи почему?\n",
    "4. Добавьте подписи к осям X и Y\n",
    "5. Измените значение отсечек по оси Y, на корректные `(80...96)` воспользовавшись функцикей `plt.xticks`, параметр ticks нужно установить равным range(17) (потому что у нас 17 уникальных рейтингов), а параметр labels нужно установить range(80, 97) потому что рейтинг изменяется от 80 до 96.\n",
    "6. Добавьте к своей тепловой карте colorbar, для этого воспользуйтесь функцией plt.colorbar(). Что она показывает?\n",
    "7. Измените color map своей тепловой карты, установите параметр cmap='Reds' или выберете любой другой cmap https://matplotlib.org/3.1.0/tutorials/colors/colormaps.html\n",
    "8. Наблюдаете ли вы какую нибудь зависимость рейтинга от цены теперь?"
   ]
  },
  {
   "cell_type": "code",
   "execution_count": 60,
   "metadata": {},
   "outputs": [],
   "source": [
    "# создадим crosstab еще раз\n",
    "points_price = pd.crosstab(data.points, data.price).values"
   ]
  },
  {
   "cell_type": "code",
   "execution_count": 61,
   "metadata": {},
   "outputs": [],
   "source": [
    "# Решение\n"
   ]
  },
  {
   "cell_type": "code",
   "execution_count": null,
   "metadata": {},
   "outputs": [],
   "source": []
  },
  {
   "cell_type": "markdown",
   "metadata": {},
   "source": [
    "# 7. Отношение рейтинг/цена в зависимости от страны\n",
    "\n",
    "Давайте посмотрим соотношения рейтинг-цена в зависимости от страны. Для этого воспользуемся boxplot.\n",
    "\n",
    "> Соотношение рейтинг/цена означает \"сколько очков рейтинга можно получить за 1 единицу цены\", значит чем больше эта величина тем лучше. Если бы мы строили график цена-качество (цена-рейтинг) все было бы наоборот \"Сколько стоит 1 очко рейтинга\" в таком случае было бы меньше - лучше.\n",
    "\n",
    "1. Постройте boxplot соотношение рейтинг/цена для каждой страны\n",
    "2. Кастомизируйте его добавьте подписи к осям и название\n",
    "3. Установите параметр `showfliers=False`\n",
    "4. Установите параметр `showcaps=False`\n",
    "5. Увеличьте размеры графика если это необходимо\n",
    "6. В какой стране наилучшее соотношение рейтинг-цена?"
   ]
  },
  {
   "cell_type": "code",
   "execution_count": 62,
   "metadata": {},
   "outputs": [],
   "source": [
    "price_country = [data.price[data.country==country] for country in data.country.unique()]\n",
    "points_country = [data.points[data.country==country] for country in data.country.unique()]\n",
    "\n",
    "price_points_country = [(points/price) for points, price in zip(points_country, price_country)]"
   ]
  },
  {
   "cell_type": "code",
   "execution_count": 63,
   "metadata": {},
   "outputs": [],
   "source": [
    "# Решение\n"
   ]
  },
  {
   "cell_type": "code",
   "execution_count": null,
   "metadata": {},
   "outputs": [],
   "source": []
  },
  {
   "cell_type": "markdown",
   "metadata": {},
   "source": [
    "### 7.1 Упорядочим боксы\n",
    "\n",
    "1. Постройте еще один график, на этот раз **упорядочив страны по убыванию** соотношения рейтинг-цена. Можно это сделать вручную как в `п.5`\n",
    "> Для вашего удобства я создал словарь, в котором ключ - название страны а значение - лист со значениями соотношения рейтинга к цене\n",
    "2. В какой стране самое выгодное отношение рейтинг к цене?\n",
    "3. В какой стране самое не выгодное?"
   ]
  },
  {
   "cell_type": "code",
   "execution_count": 64,
   "metadata": {},
   "outputs": [],
   "source": [
    "price_points_country = dict(zip( data.country.unique(), [(points/price) for points, price in zip(points_country, price_country)]))"
   ]
  },
  {
   "cell_type": "code",
   "execution_count": 65,
   "metadata": {},
   "outputs": [],
   "source": [
    "# Решение\n"
   ]
  },
  {
   "cell_type": "code",
   "execution_count": null,
   "metadata": {},
   "outputs": [],
   "source": []
  },
  {
   "cell_type": "code",
   "execution_count": null,
   "metadata": {},
   "outputs": [],
   "source": []
  },
  {
   "cell_type": "code",
   "execution_count": null,
   "metadata": {},
   "outputs": [],
   "source": []
  },
  {
   "cell_type": "markdown",
   "metadata": {},
   "source": [
    "# 8. В какой стране больше всего областей производит вино?\n",
    "\n",
    "Нас интересует колонка `province`\n",
    "\n",
    "1. Нарисуйте количество уникальных `province` в разных странах, воспользуйтесь:\n",
    "    - bar chart (столбцовая диаграмма), bar или barh\n",
    "    - pie chart (круговая диаграмма)\n",
    "2. Оформите свои графики: подписи осей если нужно, название, цвет, размеры графика, подписи к отдельным элементам (размер кругового сектора или размер столбика, в процентах или в абсолютной величине) если посчитате нужным."
   ]
  },
  {
   "cell_type": "code",
   "execution_count": 66,
   "metadata": {},
   "outputs": [
    {
     "data": {
      "text/plain": [
       "array(['California', 'Washington', 'Oregon', 'Idaho', 'New York'],\n",
       "      dtype=object)"
      ]
     },
     "execution_count": 66,
     "metadata": {},
     "output_type": "execute_result"
    }
   ],
   "source": [
    "# пример, как достать уникальные province для страны\n",
    "\n",
    "data[data.country=='US'].province.unique()"
   ]
  },
  {
   "cell_type": "code",
   "execution_count": 67,
   "metadata": {},
   "outputs": [
    {
     "data": {
      "text/plain": [
       "5"
      ]
     },
     "execution_count": 67,
     "metadata": {},
     "output_type": "execute_result"
    }
   ],
   "source": [
    "# пример, как посчитать количество уникальных province для страны\n",
    "\n",
    "len(data[data.country=='US'].province.unique())"
   ]
  },
  {
   "cell_type": "code",
   "execution_count": 68,
   "metadata": {},
   "outputs": [],
   "source": [
    "# Решение\n"
   ]
  },
  {
   "cell_type": "code",
   "execution_count": null,
   "metadata": {},
   "outputs": [],
   "source": []
  },
  {
   "cell_type": "markdown",
   "metadata": {},
   "source": [
    "# 9. В какой стране больше всего сомелье?\n",
    "\n",
    "Задание то же что и в `п. 8` только теперь для колонки `taster_name`"
   ]
  },
  {
   "cell_type": "code",
   "execution_count": 69,
   "metadata": {},
   "outputs": [
    {
     "data": {
      "text/plain": [
       "array(['Kerin O’Keefe', 'Joe Czerwinski', 'Roger Voss',\n",
       "       'Michael Schachner', 'Paul Gregutt'], dtype=object)"
      ]
     },
     "execution_count": 69,
     "metadata": {},
     "output_type": "execute_result"
    }
   ],
   "source": [
    "data[data.country=='Italy'].taster_name.unique()"
   ]
  },
  {
   "cell_type": "code",
   "execution_count": 70,
   "metadata": {},
   "outputs": [
    {
     "data": {
      "text/plain": [
       "5"
      ]
     },
     "execution_count": 70,
     "metadata": {},
     "output_type": "execute_result"
    }
   ],
   "source": [
    "len(data[data.country=='Italy'].taster_name.unique())"
   ]
  },
  {
   "cell_type": "code",
   "execution_count": 71,
   "metadata": {},
   "outputs": [],
   "source": [
    "# Решение\n"
   ]
  },
  {
   "cell_type": "code",
   "execution_count": null,
   "metadata": {},
   "outputs": [],
   "source": []
  },
  {
   "cell_type": "markdown",
   "metadata": {},
   "source": [
    "# 10. Зависимость  количества сортов вин от количества сомелье\n",
    "\n",
    "Нас интересуют колонки `country`, `taster_name`, `variety`\n",
    "\n",
    "Для этого воспользуйтесь функцией `plt.scatter()` \n",
    "1. Постройте диаграмму рассеяния зависимости количества сортов вин от количества сомелье в каждой стране.\n",
    "> Для каждой страны посчитайте количество уникальных сомелье, и количество уникальных сортов вина и постройте зависимость числа уникальных сортов вина от числа уникальных сомелье (1 точка - 1 страна).\n",
    "2. Добавьте подпись к каждой точке исползуя функцию plt.text() в качестве текста должна быть страна (`country`)"
   ]
  },
  {
   "cell_type": "code",
   "execution_count": 72,
   "metadata": {},
   "outputs": [],
   "source": [
    "num_variety = [len(data[data.country==country].variety.unique()) for country in data.country.unique()]\n",
    "num_taster = [len(data[data.country==country].taster_name.unique()) for country in data.country.unique()]\n",
    "countries = data.country.unique()"
   ]
  },
  {
   "cell_type": "code",
   "execution_count": 73,
   "metadata": {},
   "outputs": [],
   "source": [
    "# Решение\n"
   ]
  },
  {
   "cell_type": "code",
   "execution_count": null,
   "metadata": {},
   "outputs": [],
   "source": []
  },
  {
   "cell_type": "code",
   "execution_count": null,
   "metadata": {},
   "outputs": [],
   "source": []
  },
  {
   "cell_type": "markdown",
   "metadata": {},
   "source": [
    "# 11. Зависимость количества сортов вин от числа регионов производства\n",
    "\n",
    "То же что и `п.10` но теперь зависимость числа уникальных `variety`  от числа уникальных `region_1`\n",
    "\n",
    "- Что вы можете сказать о разных странах производителях вина? Как много у них разних областей? И как много видов вина они производят?\n",
    "- На этот раз вместо подписи, используйте легенду. Пример использования легенды см. ниже. В качестве label используйте название страны. На ваше усмотрение раскрасьте разные точки разным цветом."
   ]
  },
  {
   "cell_type": "code",
   "execution_count": 74,
   "metadata": {},
   "outputs": [
    {
     "data": {
      "image/png": "[encoded data removed]",
      "text/plain": [
       "<Figure size 432x288 with 1 Axes>"
      ]
     },
     "metadata": {
      "needs_background": "light"
     },
     "output_type": "display_data"
    }
   ],
   "source": [
    "# Пример использования plt.legend()\n",
    "# обратите внимание, каждый график с уникальным label должен\n",
    "# быть построен отдельно!\n",
    "\n",
    "plt.plot([5,10,20, 30], [1, 2, 3, 4],\n",
    "         color = 'darkmagenta',\n",
    "         linestyle='--',\n",
    "         label='One line')\n",
    "\n",
    "plt.plot([1,2,3, 4,], [1, 4, 9, 16],\n",
    "         color = 'red',\n",
    "         linestyle='dotted',\n",
    "         label='Another line')\n",
    "\n",
    "plt.legend()\n",
    "plt.title('Some title')\n",
    "plt.ylabel('some numbers')\n",
    "plt.xlabel('other numbers');"
   ]
  },
  {
   "cell_type": "code",
   "execution_count": 75,
   "metadata": {},
   "outputs": [],
   "source": [
    "num_variety = [len(data[data.country==country].variety.unique()) for country in data.country.unique()]\n",
    "num_region = [len(data[data.country==country].region_1.unique()) for country in data.country.unique()]\n",
    "countries = data.country.unique()"
   ]
  },
  {
   "cell_type": "code",
   "execution_count": 76,
   "metadata": {},
   "outputs": [],
   "source": [
    "# Решение\n"
   ]
  },
  {
   "cell_type": "code",
   "execution_count": null,
   "metadata": {},
   "outputs": [],
   "source": []
  },
  {
   "cell_type": "code",
   "execution_count": null,
   "metadata": {},
   "outputs": [],
   "source": []
  },
  {
   "cell_type": "markdown",
   "metadata": {},
   "source": [
    "# 12. Ваш ход\n",
    "\n",
    "Постройте любые графики которые сможете придумать, используя данные о винах.\n",
    "Каждые аккуратно оформленных 5 графиков стоят 1 итоговый балл (1 из 10 итоговой оценки), за это задание можно получить не более 2 баллов."
   ]
  },
  {
   "cell_type": "code",
   "execution_count": null,
   "metadata": {},
   "outputs": [],
   "source": []
  },
  {
   "cell_type": "markdown",
   "metadata": {},
   "source": [
    "\n",
    "Если вы захотите познакомиться с обработкой табличных данных с использованием библиотеки pandas, я рекомендую вам ознакомиться со списком туториалов:\n",
    "\n",
    "1. https://www.notion.so/Pandas-Tutorials-Articles-Videos-a19c806a31bb4b288a1909f0803fad5f\n",
    "\n",
    "Рекомендую начать вот с этих двух\n",
    "2. https://nbviewer.jupyter.org/github/justmarkham/pandas-videos/blob/master/pandas.ipynb\n",
    "3. https://github.com/guipsamora/pandas_exercises/\n"
   ]
  },
  {
   "cell_type": "code",
   "execution_count": null,
   "metadata": {},
   "outputs": [],
   "source": []
  }
 ],
 "metadata": {
  "kernelspec": {
   "display_name": "Python 3",
   "language": "python",
   "name": "python3"
  },
  "language_info": {
   "codemirror_mode": {
    "name": "ipython",
    "version": 3
   },
   "file_extension": ".py",
   "mimetype": "text/x-python",
   "name": "python",
   "nbconvert_exporter": "python",
   "pygments_lexer": "ipython3",
   "version": "3.7.0"
  }
 },
 "nbformat": 4,
 "nbformat_minor": 2
}
