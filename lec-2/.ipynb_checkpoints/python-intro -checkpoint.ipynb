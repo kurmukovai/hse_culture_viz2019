{
 "cells": [
  {
   "cell_type": "markdown",
   "metadata": {},
   "source": [
    "# Типы данных в Python\n",
    "## Числа"
   ]
  },
  {
   "cell_type": "raw",
   "metadata": {},
   "source": [
    "Объявление переменных (присваивание значений)\n",
    "с помощью оператора \"=\"\n",
    "\n",
    "Например"
   ]
  },
  {
   "cell_type": "code",
   "execution_count": 1,
   "metadata": {},
   "outputs": [
    {
     "name": "stdout",
     "output_type": "stream",
     "text": [
      "Type of a is \n",
      "Type of b is <class 'float'>\n"
     ]
    }
   ],
   "source": [
    "a = -5\n",
    "b = 5.0\n",
    "print(\"Type of a is \".format(type(a)))\n",
    "print(\"Type of b is {}\".format(type(b)))"
   ]
  },
  {
   "cell_type": "code",
   "execution_count": 2,
   "metadata": {},
   "outputs": [
    {
     "name": "stdout",
     "output_type": "stream",
     "text": [
      "11 2 13.0\n"
     ]
    }
   ],
   "source": [
    "#Числа можно складывать!\n",
    "c_1 = 5 + 6\n",
    "c_2 = a + 7\n",
    "c_3 = b + 8\n",
    "print(c_1, c_2, c_3)"
   ]
  },
  {
   "cell_type": "code",
   "execution_count": 3,
   "metadata": {},
   "outputs": [
    {
     "name": "stdout",
     "output_type": "stream",
     "text": [
      "-2 -15 541.0\n"
     ]
    }
   ],
   "source": [
    "#Числа можно вычитать!\n",
    "c_1 = 6 - 8\n",
    "c_2 = a - 10\n",
    "c_3 = 546 - b\n",
    "print(c_1, c_2, c_3)"
   ]
  },
  {
   "cell_type": "code",
   "execution_count": 4,
   "metadata": {},
   "outputs": [
    {
     "name": "stdout",
     "output_type": "stream",
     "text": [
      "36 -30 35.0\n"
     ]
    }
   ],
   "source": [
    "#Числа можно умножать и возводить в степень!\n",
    "c_1 = 6 ** 2\n",
    "c_2 = a * 6\n",
    "c_3 = b * 7\n",
    "print(c_1, c_2, c_3)"
   ]
  },
  {
   "cell_type": "code",
   "execution_count": 5,
   "metadata": {},
   "outputs": [
    {
     "name": "stdout",
     "output_type": "stream",
     "text": [
      "3.5 3 1\n"
     ]
    }
   ],
   "source": [
    "#Числа можно делить, брать остаток и целую часть!\n",
    "c_1 = 7 / 2\n",
    "c_2 = 7 // 2\n",
    "c_3 = 7 % 2\n",
    "print(c_1, c_2, c_3)"
   ]
  },
  {
   "cell_type": "code",
   "execution_count": 6,
   "metadata": {},
   "outputs": [
    {
     "data": {
      "text/plain": [
       "13.777777777777779"
      ]
     },
     "execution_count": 6,
     "metadata": {},
     "output_type": "execute_result"
    }
   ],
   "source": [
    "5 + 8.7777777777777777"
   ]
  },
  {
   "cell_type": "markdown",
   "metadata": {},
   "source": [
    "## Строки\n",
    "Строки - это тоже объект! Они неизменяемы. Создать строку можно окружив её одинарными, двойными или тройными кавычками. Перенос строки осуществляется символом \\. Подумайте почему таким? Это экранирующий символ, что он экранирует?"
   ]
  },
  {
   "cell_type": "code",
   "execution_count": 7,
   "metadata": {},
   "outputs": [
    {
     "name": "stdout",
     "output_type": "stream",
     "text": [
      "Строка 1 с одинарными кавычками\n",
      "Строка 2 с одинарными кавычками и переносом\n",
      "Строка 3 с двойными кавычками\n",
      "Строка 4 с двойнми кавычками и переносом\n",
      "Строка 5 с тройными кавычками\n",
      "Строка 6 с тройными кавычками\n",
      "и переносом, как видите при тройных кавычках знак переноса не нужен\n",
      "Строка 7 с \"текстом в кавычках\"\n"
     ]
    }
   ],
   "source": [
    "s_1 = 'Строка 1 с одинарными кавычками'\n",
    "s_2 = 'Строка 2 с одинарными кавычками \\\n",
    "и переносом'\n",
    "s_3 = \"Строка 3 с двойными кавычками\"\n",
    "s_4 = \"Строка 4 с двойнми кавычками \\\n",
    "и переносом\"\n",
    "s_5 = '''Строка 5 с тройными кавычками'''\n",
    "s_6 = '''Строка 6 с тройными кавычками\n",
    "и переносом, как видите при тройных кавычках знак переноса не нужен'''\n",
    "s_7 = '''Строка 7 с \"текстом в кавычках\"'''\n",
    "for i in range(1, 8):\n",
    "    print(globals()[\"s_\" + str(i)])"
   ]
  },
  {
   "cell_type": "code",
   "execution_count": 8,
   "metadata": {},
   "outputs": [
    {
     "data": {
      "text/plain": [
       "'\\nxcfcfasdf\\nasdfasd\\nasdfasda\\n'"
      ]
     },
     "execution_count": 8,
     "metadata": {},
     "output_type": "execute_result"
    }
   ],
   "source": [
    "\"\"\"\n",
    "xcfcfasdf\n",
    "asdfasd\n",
    "asdfasda\n",
    "\"\"\""
   ]
  },
  {
   "cell_type": "code",
   "execution_count": 9,
   "metadata": {},
   "outputs": [
    {
     "name": "stdout",
     "output_type": "stream",
     "text": [
      "Длины строки 25\n",
      "Первый символ строки Т\n"
     ]
    }
   ],
   "source": [
    "#Можно обратиться к символам строки, можно запросить длину строки\n",
    "s = \"Тестовая строка для длины\"\n",
    "print(f\"Длины строки {len(s)}\")\n",
    "print(f\"Первый символ строки {s[0]}\" )"
   ]
  },
  {
   "cell_type": "code",
   "execution_count": 10,
   "metadata": {},
   "outputs": [
    {
     "name": "stdout",
     "output_type": "stream",
     "text": [
      "Случайное число: 42\n",
      "Случайное число: 42\n",
      "Совершенно случайное число: 42\n"
     ]
    }
   ],
   "source": [
    "# Форматирование строк\n",
    "print('Случайное число: %d' % 42)\n",
    "print('Случайное число: {}'.format(42))\n",
    "print(f'Совершенно случайное число: {42}')"
   ]
  },
  {
   "cell_type": "code",
   "execution_count": 11,
   "metadata": {},
   "outputs": [
    {
     "name": "stdout",
     "output_type": "stream",
     "text": [
      "Строка прИИИИИИИИИИИмер\n"
     ]
    }
   ],
   "source": [
    "#В строках можно заменять определенные символы\n",
    "s = \"Строка пример\"\n",
    "s = s.replace(\"и\", 'ИИИИИИИИИИИ')\n",
    "print(s)"
   ]
  },
  {
   "cell_type": "code",
   "execution_count": 12,
   "metadata": {},
   "outputs": [
    {
     "name": "stdout",
     "output_type": "stream",
     "text": [
      "['Строка', 'криворукого', 'криворука']\n"
     ]
    }
   ],
   "source": [
    "#Строки можно разбивать по случайному символу\n",
    "s = \"Строка\\irкриворукого\\irкриворука\"\n",
    "print(s.split(\"\\ir\"))"
   ]
  },
  {
   "cell_type": "code",
   "execution_count": 13,
   "metadata": {},
   "outputs": [
    {
     "name": "stdout",
     "output_type": "stream",
     "text": [
      "    Строка с пробелами и табуляциями в начале и конце \t\n",
      "Строка с пробелами и табуляциями в начале и конце\n",
      "ааааааа СТрока с какими-то символами в начале и в конце ааааааааа\n",
      " СТрока с какими-то символами в начале и в конце \n"
     ]
    }
   ],
   "source": [
    "#У строк можно убирать незначащие символы с начала и конца строки\n",
    "s = \"    Строка с пробелами и табуляциями в начале и конце \\t\"\n",
    "print(s)\n",
    "print(s.strip())\n",
    "s = \"ааааааа СТрока с какими-то символами в начале и в конце ааааааааа\"\n",
    "print(s)\n",
    "print(s.strip(\"а\"))"
   ]
  },
  {
   "cell_type": "code",
   "execution_count": 14,
   "metadata": {},
   "outputs": [
    {
     "name": "stdout",
     "output_type": "stream",
     "text": [
      "СТРОКА НИЖНИМ РЕГИСТРОМ\n",
      "Строка нижним регистром\n",
      "капс странная строка\n",
      "Капс странная строка\n"
     ]
    }
   ],
   "source": [
    "#Строки можно переводить из нижнего регистра в верхний, из верхнего в нижний\n",
    "#Можно приводить к формату - заглавная первая буква\n",
    "s = \"строка нижним регистром\"\n",
    "print(s.upper())\n",
    "print(s.capitalize())\n",
    "s = \"КаПс СтРанНая СТРОКА\"\n",
    "print(s.lower())\n",
    "print(s.capitalize())"
   ]
  },
  {
   "cell_type": "code",
   "execution_count": 15,
   "metadata": {},
   "outputs": [
    {
     "name": "stdout",
     "output_type": "stream",
     "text": [
      "Привет\n",
      "тевирП\n"
     ]
    }
   ],
   "source": [
    "#Строки можно инвертировать\n",
    "s = \"Привет\"\n",
    "print(s)\n",
    "print(s[::-1])"
   ]
  },
  {
   "cell_type": "code",
   "execution_count": 16,
   "metadata": {},
   "outputs": [
    {
     "name": "stdout",
     "output_type": "stream",
     "text": [
      "True\n",
      "True\n",
      "False\n",
      "False\n"
     ]
    }
   ],
   "source": [
    "#Можно проверять содежимое строки\n",
    "s = \"12\"\n",
    "print(s.isdigit())\n",
    "print(s.isdecimal())\n",
    "print(s.isspace())\n",
    "print(s.islower())"
   ]
  },
  {
   "cell_type": "code",
   "execution_count": 17,
   "metadata": {},
   "outputs": [
    {
     "data": {
      "text/plain": [
       "12.0"
      ]
     },
     "execution_count": 17,
     "metadata": {},
     "output_type": "execute_result"
    }
   ],
   "source": [
    "s = '12.'\n",
    "float(s)"
   ]
  },
  {
   "cell_type": "code",
   "execution_count": 18,
   "metadata": {},
   "outputs": [
    {
     "name": "stdout",
     "output_type": "stream",
     "text": [
      "строка один\tприбавка с табу\n",
      "строка один\t|\tстрока два\n",
      "False\n",
      "12.5\n",
      "True\n",
      "12\n",
      "12.0\n"
     ]
    }
   ],
   "source": [
    "#Можно складывать строки!\n",
    "s = \"строка один\"\n",
    "print(s + \"\\t\" + \"прибавка с табу\")\n",
    "s_2 = \"строка два\"\n",
    "print(s + \"\\t|\\t\" + s_2)\n",
    "#Можно строки превращать в числа (MAGIC)\n",
    "s = \"12.5\"\n",
    "print(s.isdigit())\n",
    "print(float(s))\n",
    "s = \"12\"\n",
    "print(s.isdigit())\n",
    "print(int(s))\n",
    "print(float(s))"
   ]
  },
  {
   "cell_type": "markdown",
   "metadata": {},
   "source": [
    "## Массивы\n",
    "\n",
    "Массивов в python как таковых нет. Есть понятие списка, у которого под капотом лежит динамический массив. Соответственно сложность операций: вставка в конец O(1); вставка в середину O(n); выталкивание O(1); удаление O(n).\n",
    "\n",
    "У массивов есть определенный набор методов. Рассмотрим их ниже"
   ]
  },
  {
   "cell_type": "code",
   "execution_count": 19,
   "metadata": {},
   "outputs": [
    {
     "name": "stdout",
     "output_type": "stream",
     "text": [
      "[]\n",
      "[]\n",
      "[1, 2, 'яблоко']\n",
      "[0, 1, 2, 3, 4, 5, 6, 7, 8, 9]\n",
      "[[0, 1, 2, 3, 4, 5, 6, 7, 8, 9], [0, 1, 2, 3, 4, 5, 6, 7, 8, 9], [0, 1, 2, 3, 4, 5, 6, 7, 8, 9], [0, 1, 2, 3, 4, 5, 6, 7, 8, 9], [0, 1, 2, 3, 4, 5, 6, 7, 8, 9]]\n",
      "[0, 0, 0, 0, 0]\n"
     ]
    }
   ],
   "source": [
    "#Список можно создать множеством способов, вот некоторые из них\n",
    "a = []\n",
    "print(a)\n",
    "a = list()\n",
    "print(a)\n",
    "a = [1, 2, 'яблоко']\n",
    "\n",
    "print(a)\n",
    "a = [i for i in range(10)]\n",
    "print(a)\n",
    "a = [[i for i in range(10)] for _ in range(5)]\n",
    "print(a)\n",
    "a = [0] * 5\n",
    "print(a)"
   ]
  },
  {
   "cell_type": "code",
   "execution_count": null,
   "metadata": {},
   "outputs": [],
   "source": []
  },
  {
   "cell_type": "code",
   "execution_count": 20,
   "metadata": {},
   "outputs": [
    {
     "name": "stdout",
     "output_type": "stream",
     "text": [
      "[0, 1, 2, 3, 4, 5, 6, 7, 8, 9]\n"
     ]
    }
   ],
   "source": [
    "a = [i for i in range(10)]\n",
    "print(a)"
   ]
  },
  {
   "cell_type": "code",
   "execution_count": 21,
   "metadata": {},
   "outputs": [],
   "source": [
    "a=[]\n",
    "for i in range(10):\n",
    "    a.append(i)"
   ]
  },
  {
   "cell_type": "code",
   "execution_count": 22,
   "metadata": {},
   "outputs": [
    {
     "data": {
      "text/plain": [
       "[0, 1, 2, 3, 4, 5, 6, 7, 8, 9]"
      ]
     },
     "execution_count": 22,
     "metadata": {},
     "output_type": "execute_result"
    }
   ],
   "source": [
    "list(range(10))"
   ]
  },
  {
   "cell_type": "code",
   "execution_count": 23,
   "metadata": {},
   "outputs": [
    {
     "data": {
      "text/plain": [
       "range(3, 20)"
      ]
     },
     "execution_count": 23,
     "metadata": {},
     "output_type": "execute_result"
    }
   ],
   "source": [
    "list(range(3, 8, 2))\n",
    "\n",
    "start = 3\n",
    "step = 1\n",
    "end = 20\n",
    "range(start, end, step)"
   ]
  },
  {
   "cell_type": "code",
   "execution_count": 24,
   "metadata": {},
   "outputs": [
    {
     "name": "stdout",
     "output_type": "stream",
     "text": [
      "[1]\n"
     ]
    }
   ],
   "source": [
    "a = []\n",
    "a.append(1)\n",
    "print(a)"
   ]
  },
  {
   "cell_type": "code",
   "execution_count": 25,
   "metadata": {},
   "outputs": [
    {
     "name": "stdout",
     "output_type": "stream",
     "text": [
      "3\n",
      "[3, 4, 5]\n",
      "3 4 5\n"
     ]
    }
   ],
   "source": [
    "#Вывести массив можно по-разному, как через print, так и преобразовав его\n",
    "a = [3, 4, 5]\n",
    "print(len(a))\n",
    "print(a)\n",
    "print(\" \".join(str(i) for i in a))"
   ]
  },
  {
   "cell_type": "code",
   "execution_count": 26,
   "metadata": {},
   "outputs": [
    {
     "name": "stdout",
     "output_type": "stream",
     "text": [
      "[0, 1, 2, 3, 4, 5, 6, 7, 8, 9]\n",
      "[0, 1, 2, 3]\n",
      "[0, 2, 4, 6, 8]\n",
      "[9, 8, 7, 6, 5, 4, 3, 2, 1, 0]\n"
     ]
    }
   ],
   "source": [
    "#Можно делать срезы списка, указывает list[a:b:c] a-первый индекс, b-последний индекс не включая, c-шаг\n",
    "a = [i for i in range(10)]\n",
    "print(a)\n",
    "print(a[0:4])\n",
    "print(a[::2])\n",
    "print(a[::-1])"
   ]
  },
  {
   "cell_type": "code",
   "execution_count": 27,
   "metadata": {},
   "outputs": [
    {
     "name": "stdout",
     "output_type": "stream",
     "text": [
      "[0, 0.0, 'строка', False]\n"
     ]
    }
   ],
   "source": [
    "#К списку можно добавлять элементы, как в конец так и вставлять в середину\n",
    "a = []\n",
    "a.append(0)\n",
    "a.append(\"строка\")\n",
    "a.append(False)\n",
    "a.insert(1, 0.)\n",
    "print(a)"
   ]
  },
  {
   "cell_type": "code",
   "execution_count": 28,
   "metadata": {},
   "outputs": [
    {
     "name": "stdout",
     "output_type": "stream",
     "text": [
      "[0.0, 1.2, 3.4, 'строка']\n",
      "[0.0, 3.4, 'строка']\n",
      "[0.0, 3.4, 'новое значение']\n"
     ]
    }
   ],
   "source": [
    "#Элементы списка можно удалять, переопределять\n",
    "a = [0., 1.2, 3.4, \"строка\"]\n",
    "print(a)\n",
    "a.remove(1.2)\n",
    "print(a)\n",
    "a[2] = \"новое значение\"\n",
    "print(a)"
   ]
  },
  {
   "cell_type": "code",
   "execution_count": 29,
   "metadata": {},
   "outputs": [
    {
     "name": "stdout",
     "output_type": "stream",
     "text": [
      "[0, 1, 2, 3, 4, 5, 6, 7, 8, 9]\n",
      "[9, 8, 7, 6, 5, 4, 3, 2, 1, 0]\n",
      "[0, 1, 2, 3, 4, 5, 6, 7, 8, 9]\n"
     ]
    }
   ],
   "source": [
    "#Можно сортировать список по ключу, искать индекс элемента по значению\n",
    "a = [i for i in range(10)]\n",
    "print(a)\n",
    "a.reverse()\n",
    "print(a)\n",
    "a.sort()\n",
    "print(a)"
   ]
  },
  {
   "cell_type": "code",
   "execution_count": null,
   "metadata": {},
   "outputs": [],
   "source": []
  },
  {
   "cell_type": "code",
   "execution_count": 30,
   "metadata": {},
   "outputs": [],
   "source": [
    "a = [1,2,3]\n",
    "b = a\n",
    "b[0] = 10\n"
   ]
  },
  {
   "cell_type": "code",
   "execution_count": 31,
   "metadata": {},
   "outputs": [],
   "source": [
    "y = list(range(10))"
   ]
  },
  {
   "cell_type": "code",
   "execution_count": 32,
   "metadata": {},
   "outputs": [
    {
     "name": "stdout",
     "output_type": "stream",
     "text": [
      "[0, 1, 2, 3, 4, 5, 6, 7, 8, 9]\n"
     ]
    }
   ],
   "source": [
    "print(y)"
   ]
  },
  {
   "cell_type": "code",
   "execution_count": 33,
   "metadata": {},
   "outputs": [
    {
     "name": "stdout",
     "output_type": "stream",
     "text": [
      "[1, 2, 3, 4]\n",
      "[1, 2, 3, 4] [1, 2, 3, 1000]\n"
     ]
    }
   ],
   "source": [
    "x = [1,2,3,4]\n",
    "y = x.copy()\n",
    "print(x)\n",
    "y[3] = 1000\n",
    "\n",
    "print(x, y)"
   ]
  },
  {
   "cell_type": "code",
   "execution_count": 34,
   "metadata": {},
   "outputs": [
    {
     "data": {
      "text/plain": [
       "[4]"
      ]
     },
     "execution_count": 34,
     "metadata": {},
     "output_type": "execute_result"
    }
   ],
   "source": [
    "x[3:6]"
   ]
  },
  {
   "cell_type": "code",
   "execution_count": 35,
   "metadata": {},
   "outputs": [
    {
     "name": "stdout",
     "output_type": "stream",
     "text": [
      "[100000000, 2, 3]\n",
      "[100000000, 2, 3]\n",
      "[-1, 2, 3]\n",
      "[100000000, 2, 3]\n",
      "[1, 2, [-1, 4]]\n",
      "[1, 2, [-1, 4]]\n",
      "[1, 2, [-1, -1000]]\n",
      "[1, 2, [-1, 4]]\n"
     ]
    }
   ],
   "source": [
    "#Копирование списков!\n",
    "a = [1, 2, 3]\n",
    "b = a\n",
    "a[0]=100000000\n",
    "print(a)\n",
    "print(b)\n",
    "\n",
    "b = a[::] #аналогично вызову a.copy()\n",
    "a[0] = -1\n",
    "print(a)\n",
    "print(b)\n",
    "\n",
    "a = [1, 2, [3, 4]]\n",
    "b = a[::] \n",
    "a[2][0] = -1\n",
    "print(a)\n",
    "print(b)\n",
    "\n",
    "import copy\n",
    "b = copy.deepcopy(a)\n",
    "a[2][1] = -1000\n",
    "print(a)\n",
    "print(b)"
   ]
  },
  {
   "cell_type": "code",
   "execution_count": null,
   "metadata": {},
   "outputs": [],
   "source": []
  },
  {
   "cell_type": "code",
   "execution_count": 36,
   "metadata": {},
   "outputs": [],
   "source": [
    "class test_class():\n",
    "    def __init__(self, val1, list1):\n",
    "        self.a = val1\n",
    "        self.list1 = list1\n",
    "        "
   ]
  },
  {
   "cell_type": "code",
   "execution_count": 37,
   "metadata": {},
   "outputs": [],
   "source": [
    "a = test_class(1, [1,2,3])"
   ]
  },
  {
   "cell_type": "code",
   "execution_count": 38,
   "metadata": {},
   "outputs": [],
   "source": [
    "b = copy.deepcopy(a)"
   ]
  },
  {
   "cell_type": "code",
   "execution_count": 39,
   "metadata": {},
   "outputs": [
    {
     "data": {
      "text/plain": [
       "{'a': 1, 'list1': [1, 2, 3]}"
      ]
     },
     "execution_count": 39,
     "metadata": {},
     "output_type": "execute_result"
    }
   ],
   "source": [
    "b.__dict__"
   ]
  },
  {
   "cell_type": "code",
   "execution_count": 40,
   "metadata": {},
   "outputs": [
    {
     "data": {
      "text/plain": [
       "<__main__.test_class at 0x7f40bddecf98>"
      ]
     },
     "execution_count": 40,
     "metadata": {},
     "output_type": "execute_result"
    }
   ],
   "source": [
    "a"
   ]
  },
  {
   "cell_type": "code",
   "execution_count": 41,
   "metadata": {},
   "outputs": [
    {
     "name": "stdout",
     "output_type": "stream",
     "text": [
      "[0, 1, 2, 3]\n",
      "[]\n"
     ]
    }
   ],
   "source": [
    "#Очистка списка\n",
    "a = [0, 1, 2, 3]\n",
    "print(a)\n",
    "a.clear()\n",
    "print(a)"
   ]
  },
  {
   "cell_type": "code",
   "execution_count": null,
   "metadata": {},
   "outputs": [],
   "source": []
  },
  {
   "cell_type": "markdown",
   "metadata": {},
   "source": [
    "## Кортежи (tuple)\n",
    "\n",
    "Неизменемые упорядоченные значения"
   ]
  },
  {
   "cell_type": "code",
   "execution_count": 42,
   "metadata": {},
   "outputs": [
    {
     "name": "stdout",
     "output_type": "stream",
     "text": [
      "()\n",
      "(1, 2)\n"
     ]
    }
   ],
   "source": [
    "a = tuple()\n",
    "print(a)\n",
    "a = (1, 2)\n",
    "print(a)"
   ]
  },
  {
   "cell_type": "code",
   "execution_count": 43,
   "metadata": {},
   "outputs": [
    {
     "name": "stdout",
     "output_type": "stream",
     "text": [
      "1 3\n",
      "3\n"
     ]
    }
   ],
   "source": [
    "#С кортежами работают все методы списков, которые не изменяют содержимое\n",
    "a = (1, 2, 3)\n",
    "print(a[0], a[2])\n",
    "print(len(a))"
   ]
  },
  {
   "cell_type": "code",
   "execution_count": 44,
   "metadata": {},
   "outputs": [
    {
     "name": "stdout",
     "output_type": "stream",
     "text": [
      "3\n",
      "1\n"
     ]
    }
   ],
   "source": [
    "#Например, аналогично спискам можем посчитать встречаемость объекта или индекс первого появления объекта\n",
    "t = (1, 2, 4, 1, 3, 2, 1)\n",
    "print(t.count(1))\n",
    "print(t.index(2))"
   ]
  },
  {
   "cell_type": "code",
   "execution_count": 45,
   "metadata": {},
   "outputs": [
    {
     "name": "stdout",
     "output_type": "stream",
     "text": [
      "5 3\n"
     ]
    }
   ],
   "source": [
    "#Легендарный питоновский swap переменных\n",
    "a = 3\n",
    "b = 5\n",
    "a, b = b, a\n",
    "print(a, b)"
   ]
  },
  {
   "cell_type": "markdown",
   "metadata": {},
   "source": [
    "## Словарь (dict)\n",
    "\n",
    "Словарь - это пары неизменяемый ключ и значение"
   ]
  },
  {
   "cell_type": "code",
   "execution_count": 46,
   "metadata": {},
   "outputs": [],
   "source": [
    "#Создадим словарь\n",
    "d = dict(key=\"value\")\n",
    "d = {\"key\": \"value\"}\n",
    "d = dict([(\"key_1\", \"value_1\"), (\"key_2\", \"value_2\")])\n",
    "d = dict.fromkeys(['key_1', 'key_2'], \"value\")"
   ]
  },
  {
   "cell_type": "code",
   "execution_count": 47,
   "metadata": {},
   "outputs": [],
   "source": [
    "def func(a,b,c):\n",
    "    print(a,b,c)\n",
    "    \n",
    "    \n",
    "d = {'a': 1,'b': 5, 'c':3}"
   ]
  },
  {
   "cell_type": "code",
   "execution_count": 48,
   "metadata": {},
   "outputs": [
    {
     "name": "stdout",
     "output_type": "stream",
     "text": [
      "1 5 3\n"
     ]
    }
   ],
   "source": [
    "func(**d)"
   ]
  },
  {
   "cell_type": "code",
   "execution_count": 49,
   "metadata": {},
   "outputs": [
    {
     "name": "stdout",
     "output_type": "stream",
     "text": [
      "dict_keys(['key_0', 'key_1', 'key_2', 'key_3', 'key_4', 'key_5', 'key_6', 'key_7', 'key_8', 'key_9'])\n",
      "dict_values(['value', 'value', 'value', 'value', 'value', 'value', 'value', 'value', 'value', 'value'])\n",
      "dict_items([('key_0', 'value'), ('key_1', 'value'), ('key_2', 'value'), ('key_3', 'value'), ('key_4', 'value'), ('key_5', 'value'), ('key_6', 'value'), ('key_7', 'value'), ('key_8', 'value'), ('key_9', 'value')])\n"
     ]
    }
   ],
   "source": [
    "#Посмотрим на ключи, значения и пары ключ-значение. Позднее мы научимся итерироваться по ним\n",
    "d = {\"key_\" + str(i):\"value\" for i in range(10)}\n",
    "print(d.keys())\n",
    "print(d.values())\n",
    "print(d.items())"
   ]
  },
  {
   "cell_type": "code",
   "execution_count": 50,
   "metadata": {},
   "outputs": [
    {
     "name": "stdout",
     "output_type": "stream",
     "text": [
      "value_non\n",
      "value\n",
      "new_value\n"
     ]
    }
   ],
   "source": [
    "#Если запросить ключ, который не лежит в мапе через d[], то вылетит ошибка. Лучше использовать get(key, \"default_value\")\n",
    "print(d.get(\"no_key\", \"value_non\"))\n",
    "print(d['key_1'])\n",
    "d['key_1'] = 'new_value'\n",
    "print(d['key_1'])"
   ]
  },
  {
   "cell_type": "code",
   "execution_count": 51,
   "metadata": {},
   "outputs": [],
   "source": [
    "#Бывает нужно \"слить\" два словаря. Можно это сделать по-разному\n",
    "d_1 = {\"key_1\":\"value_1\"}\n",
    "d_2 = {\"key_2\":\"value_2\"}\n",
    "d = dict(d_1, **d_2)\n",
    "d = {**d_1, **d_2}"
   ]
  },
  {
   "cell_type": "markdown",
   "metadata": {},
   "source": [
    "## Множества (set)\n",
    "\n",
    "Множества реализованы как хеш-таблицы с заглушками вместо элементов-значений. "
   ]
  },
  {
   "cell_type": "code",
   "execution_count": 52,
   "metadata": {},
   "outputs": [
    {
     "name": "stdout",
     "output_type": "stream",
     "text": [
      "{'h', 'e', 'l', 'o'}\n",
      "{'k_2', 'k_1'}\n"
     ]
    }
   ],
   "source": [
    "#Создадим несколько множеств\n",
    "a = set('hello')\n",
    "print(a)\n",
    "a = set([\"k_1\", \"k_1\", \"k_1\", \"k_2\"])\n",
    "print(a)"
   ]
  },
  {
   "cell_type": "code",
   "execution_count": 53,
   "metadata": {},
   "outputs": [
    {
     "name": "stdout",
     "output_type": "stream",
     "text": [
      "{'a', 't', 'e', 'h', 'c', 'n', 'o', 'm'}\n",
      "{'a', 't', 'e', 'h', 'c', 'n', 'o', 'm'}\n",
      "{'a', 't', 'e', 'h', 'c', 'n', 'y', 'o', 'm'}\n",
      "{'a', 't', 'h', 'c', 'n', 'y', 'o', 'm'}\n",
      "Ошибка\n",
      "Нет ошибки\n"
     ]
    }
   ],
   "source": [
    "#В множество можно добавлять элементы и удалять их оттуда\n",
    "a = set(\"technoatom\")\n",
    "print(a)\n",
    "a.add(\"t\")\n",
    "print(a)\n",
    "a.add(\"y\")\n",
    "print(a)\n",
    "a.remove(\"e\")\n",
    "print(a)\n",
    "try:\n",
    "    a.remove(\"z\")\n",
    "except KeyError:\n",
    "    print(\"Ошибка\")\n",
    "try:\n",
    "    a.discard(\"z\")\n",
    "    print(\"Нет ошибки\")\n",
    "except KeyError:\n",
    "    print(\"Ошибка\")"
   ]
  },
  {
   "cell_type": "code",
   "execution_count": 54,
   "metadata": {},
   "outputs": [
    {
     "name": "stdout",
     "output_type": "stream",
     "text": [
      "{'a', 't', 'e', 'h', 'c', 'n', 'o', 'm'} {'t', 'e', 'l', 'h', 'o'}\n",
      "{'a', 't', 'e', 'l', 'h', 'c', 'n', 'o', 'm'}\n",
      "{'h', 't', 'e', 'o'}\n",
      "False\n",
      "{'a', 'c', 'm', 'n'}\n",
      "{'a', 'l', 'c', 'n', 'm'}\n",
      "True\n"
     ]
    }
   ],
   "source": [
    "#Над множествами работают все теоретико-множественные операции\n",
    "a = set(\"technoatom\")\n",
    "b = set(\"tehello\")\n",
    "print(a, b)\n",
    "#Объединение\n",
    "print(a.union(b))\n",
    "#Пересечение\n",
    "print(a.intersection(b))\n",
    "#Проверка непересечения\n",
    "print(a.isdisjoint(b))\n",
    "#Вычитание\n",
    "print(a.difference(b))\n",
    "#Симметрическая разность\n",
    "print(a.symmetric_difference(b))\n",
    "#Проверка вхождения\n",
    "print(\"h\" in a)"
   ]
  },
  {
   "cell_type": "code",
   "execution_count": 55,
   "metadata": {},
   "outputs": [],
   "source": [
    "# Сравним set с list в случае, если нам нужно проводить проверку наличия в ограниченном списке большого числа элементов\n",
    "num_list = [i for i in range(10000)]\n",
    "num_set = set([i for i in range(10000)])"
   ]
  },
  {
   "cell_type": "code",
   "execution_count": 56,
   "metadata": {},
   "outputs": [
    {
     "name": "stdout",
     "output_type": "stream",
     "text": [
      "5.62 ms ± 907 µs per loop (mean ± std. dev. of 7 runs, 100 loops each)\n"
     ]
    }
   ],
   "source": [
    "%%timeit\n",
    "counter = 0\n",
    "for i in range(100000):\n",
    "    if i in num_set:\n",
    "        counter += 1"
   ]
  },
  {
   "cell_type": "code",
   "execution_count": 57,
   "metadata": {},
   "outputs": [
    {
     "name": "stdout",
     "output_type": "stream",
     "text": [
      "5.99 ms ± 452 µs per loop (mean ± std. dev. of 7 runs, 100 loops each)\n"
     ]
    }
   ],
   "source": [
    "%%timeit\n",
    "counter = 0\n",
    "for i in range(1000):\n",
    "    if i in num_list:\n",
    "        counter += 1"
   ]
  },
  {
   "cell_type": "markdown",
   "metadata": {},
   "source": [
    "## Используйте set, где важен быстрый доступ и быстрые операции теоретика-множественные!!!"
   ]
  },
  {
   "cell_type": "markdown",
   "metadata": {},
   "source": [
    "# Управляющие структуры в Python"
   ]
  },
  {
   "cell_type": "markdown",
   "metadata": {},
   "source": [
    "## Условный оператор\n",
    "\n",
    "    Любое число, не равное 0, или непустой объект - истина.\n",
    "    Числа, равные 0, пустые объекты и значение None - ложь\n",
    "    Операции сравнения применяются к структурам данных рекурсивно\n",
    "    Операции сравнения возвращают True или False\n",
    "    Логические операторы and и or возвращают истинный или ложный объект-операнд"
   ]
  },
  {
   "cell_type": "code",
   "execution_count": null,
   "metadata": {},
   "outputs": [],
   "source": []
  },
  {
   "cell_type": "code",
   "execution_count": 58,
   "metadata": {},
   "outputs": [
    {
     "name": "stdout",
     "output_type": "stream",
     "text": [
      "599\n",
      "Digit detected\n"
     ]
    }
   ],
   "source": [
    "a = input()\n",
    "if a.isdigit():\n",
    "    print(\"Digit detected\")\n",
    "elif a.islower():\n",
    "    print(\"Lowercase string detected\")\n",
    "else:\n",
    "    print(\"I do not know!\")"
   ]
  },
  {
   "cell_type": "code",
   "execution_count": 59,
   "metadata": {},
   "outputs": [
    {
     "name": "stdout",
     "output_type": "stream",
     "text": [
      "True\n"
     ]
    }
   ],
   "source": [
    "a = True if 50 + 50 < 100 or \"собака\" else False\n",
    "print(a)"
   ]
  },
  {
   "cell_type": "markdown",
   "metadata": {},
   "source": [
    "## Циклы"
   ]
  },
  {
   "cell_type": "code",
   "execution_count": 60,
   "metadata": {},
   "outputs": [
    {
     "name": "stdout",
     "output_type": "stream",
     "text": [
      "0\n",
      "1\n",
      "2\n"
     ]
    }
   ],
   "source": [
    "#простейший условный цикл\n",
    "i = 0\n",
    "while i < 3:\n",
    "    print(i) \n",
    "    i += 1\n",
    "    \n",
    "#Как сделать бесконечным???"
   ]
  },
  {
   "cell_type": "code",
   "execution_count": 61,
   "metadata": {},
   "outputs": [
    {
     "name": "stdout",
     "output_type": "stream",
     "text": [
      "w\n",
      "o\n",
      "r\n",
      "d\n",
      "по массиву\n",
      "0\n",
      "1\n",
      "2\n",
      "3\n",
      "по lazy sequence\n",
      "2\n",
      "5\n"
     ]
    }
   ],
   "source": [
    "#Простейший цикл for, по любому итератору/генератору/lazy sequence\n",
    "for let in \"word\":\n",
    "    print(let)\n",
    "print(\"по массиву\")\n",
    "\n",
    "for num in [0, 1, 2, 3]:\n",
    "    print(num)\n",
    "print(\"по lazy sequence\")\n",
    "\n",
    "for i in range(2, 8, 3):\n",
    "    print(i)"
   ]
  },
  {
   "cell_type": "markdown",
   "metadata": {},
   "source": [
    "# Функции"
   ]
  },
  {
   "cell_type": "code",
   "execution_count": 62,
   "metadata": {},
   "outputs": [],
   "source": [
    "def custom_sum(a, b):\n",
    "    return a + b"
   ]
  },
  {
   "cell_type": "code",
   "execution_count": 63,
   "metadata": {},
   "outputs": [
    {
     "name": "stdout",
     "output_type": "stream",
     "text": [
      "30\n"
     ]
    }
   ],
   "source": [
    "a = custom_sum(10, 20)\n",
    "print(a)"
   ]
  },
  {
   "cell_type": "code",
   "execution_count": 64,
   "metadata": {},
   "outputs": [],
   "source": [
    "# Функции могут ничего не возвращать\n",
    "def custom_print(message):\n",
    "    print(message)"
   ]
  },
  {
   "cell_type": "code",
   "execution_count": 65,
   "metadata": {},
   "outputs": [
    {
     "name": "stdout",
     "output_type": "stream",
     "text": [
      "Hello, World!\n"
     ]
    }
   ],
   "source": [
    "custom_print('Hello, World!')"
   ]
  },
  {
   "cell_type": "code",
   "execution_count": 66,
   "metadata": {},
   "outputs": [],
   "source": [
    "# Функции могут возвращать много аргументов\n",
    "def many_returns(a,b,c):\n",
    "    return a, b, c"
   ]
  },
  {
   "cell_type": "code",
   "execution_count": 67,
   "metadata": {},
   "outputs": [],
   "source": [
    "x, y, z = many_returns(1, 2, 3)"
   ]
  },
  {
   "cell_type": "code",
   "execution_count": 68,
   "metadata": {},
   "outputs": [
    {
     "name": "stdout",
     "output_type": "stream",
     "text": [
      "1 2 3\n"
     ]
    }
   ],
   "source": [
    "print(x, y, z)"
   ]
  },
  {
   "cell_type": "code",
   "execution_count": 69,
   "metadata": {},
   "outputs": [],
   "source": [
    "# Функции могут принимать значения по умолчанию\n",
    "def hello(message='World!'):\n",
    "    return f'Hello, {message}'"
   ]
  },
  {
   "cell_type": "code",
   "execution_count": 70,
   "metadata": {},
   "outputs": [],
   "source": [
    "answer = hello('HSE!')"
   ]
  },
  {
   "cell_type": "code",
   "execution_count": 71,
   "metadata": {},
   "outputs": [
    {
     "name": "stdout",
     "output_type": "stream",
     "text": [
      "Hello, HSE!\n"
     ]
    }
   ],
   "source": [
    "print(answer)"
   ]
  },
  {
   "cell_type": "markdown",
   "metadata": {},
   "source": [
    "# Импортирование модулей. Построение графиков."
   ]
  },
  {
   "cell_type": "code",
   "execution_count": 83,
   "metadata": {},
   "outputs": [],
   "source": [
    "import datetime\n",
    "import pandas as pd\n",
    "from tqdm import tqdm_notebook\n",
    "import matplotlib.pyplot as plt\n",
    "%matplotlib inline"
   ]
  },
  {
   "cell_type": "code",
   "execution_count": 129,
   "metadata": {},
   "outputs": [],
   "source": [
    "df = pd.read_csv('../data/hse_university_wall_posts.csv', index_col=0)"
   ]
  },
  {
   "cell_type": "code",
   "execution_count": 130,
   "metadata": {},
   "outputs": [
    {
     "data": {
      "text/html": [
       "<div>\n",
       "<style scoped>\n",
       "    .dataframe tbody tr th:only-of-type {\n",
       "        vertical-align: middle;\n",
       "    }\n",
       "\n",
       "    .dataframe tbody tr th {\n",
       "        vertical-align: top;\n",
       "    }\n",
       "\n",
       "    .dataframe thead th {\n",
       "        text-align: right;\n",
       "    }\n",
       "</style>\n",
       "<table border=\"1\" class=\"dataframe\">\n",
       "  <thead>\n",
       "    <tr style=\"text-align: right;\">\n",
       "      <th></th>\n",
       "      <th>id</th>\n",
       "      <th>text</th>\n",
       "      <th>comments</th>\n",
       "      <th>likes</th>\n",
       "      <th>reposts</th>\n",
       "      <th>timestamp</th>\n",
       "    </tr>\n",
       "  </thead>\n",
       "  <tbody>\n",
       "    <tr>\n",
       "      <th>0</th>\n",
       "      <td>49874</td>\n",
       "      <td>Учеба в Вышке может принять совершенно неожида...</td>\n",
       "      <td>23</td>\n",
       "      <td>264</td>\n",
       "      <td>17</td>\n",
       "      <td>1560964430</td>\n",
       "    </tr>\n",
       "    <tr>\n",
       "      <th>1</th>\n",
       "      <td>51842</td>\n",
       "      <td>На выставочной площадке [club21317467|Школы ди...</td>\n",
       "      <td>0</td>\n",
       "      <td>8</td>\n",
       "      <td>0</td>\n",
       "      <td>1568373843</td>\n",
       "    </tr>\n",
       "    <tr>\n",
       "      <th>2</th>\n",
       "      <td>51841</td>\n",
       "      <td>Работать с большими данными, упростить выполне...</td>\n",
       "      <td>0</td>\n",
       "      <td>29</td>\n",
       "      <td>3</td>\n",
       "      <td>1568366128</td>\n",
       "    </tr>\n",
       "    <tr>\n",
       "      <th>3</th>\n",
       "      <td>51833</td>\n",
       "      <td>«Припудрить носик», уборная или туалет. Мы при...</td>\n",
       "      <td>0</td>\n",
       "      <td>23</td>\n",
       "      <td>1</td>\n",
       "      <td>1568306280</td>\n",
       "    </tr>\n",
       "    <tr>\n",
       "      <th>4</th>\n",
       "      <td>51831</td>\n",
       "      <td>В этом году поддержать студенческие инициативы...</td>\n",
       "      <td>1</td>\n",
       "      <td>8</td>\n",
       "      <td>0</td>\n",
       "      <td>1568302140</td>\n",
       "    </tr>\n",
       "  </tbody>\n",
       "</table>\n",
       "</div>"
      ],
      "text/plain": [
       "      id                                               text  comments  likes  \\\n",
       "0  49874  Учеба в Вышке может принять совершенно неожида...        23    264   \n",
       "1  51842  На выставочной площадке [club21317467|Школы ди...         0      8   \n",
       "2  51841  Работать с большими данными, упростить выполне...         0     29   \n",
       "3  51833  «Припудрить носик», уборная или туалет. Мы при...         0     23   \n",
       "4  51831  В этом году поддержать студенческие инициативы...         1      8   \n",
       "\n",
       "   reposts   timestamp  \n",
       "0       17  1560964430  \n",
       "1        0  1568373843  \n",
       "2        3  1568366128  \n",
       "3        1  1568306280  \n",
       "4        0  1568302140  "
      ]
     },
     "execution_count": 130,
     "metadata": {},
     "output_type": "execute_result"
    }
   ],
   "source": [
    "df.head(5)"
   ]
  },
  {
   "cell_type": "code",
   "execution_count": 131,
   "metadata": {},
   "outputs": [
    {
     "data": {
      "image/png": "[encoded data removed]",
      "text/plain": [
       "<Figure size 432x288 with 1 Axes>"
      ]
     },
     "metadata": {
      "needs_background": "light"
     },
     "output_type": "display_data"
    }
   ],
   "source": [
    "# plt.scatter(df.likes, df.reposts)\n",
    "plt.scatter(df.likes, df.reposts);"
   ]
  },
  {
   "cell_type": "code",
   "execution_count": 88,
   "metadata": {},
   "outputs": [
    {
     "data": {
      "image/png": "[encoded data removed]",
      "text/plain": [
       "<Figure size 432x288 with 1 Axes>"
      ]
     },
     "metadata": {
      "needs_background": "light"
     },
     "output_type": "display_data"
    }
   ],
   "source": [
    "plt.scatter(df.likes, df.comments);"
   ]
  },
  {
   "cell_type": "code",
   "execution_count": 92,
   "metadata": {},
   "outputs": [
    {
     "data": {
      "text/plain": [
       "5.0"
      ]
     },
     "execution_count": 92,
     "metadata": {},
     "output_type": "execute_result"
    }
   ],
   "source": [
    "df.likes.quantile(0.05)"
   ]
  },
  {
   "cell_type": "code",
   "execution_count": 93,
   "metadata": {},
   "outputs": [
    {
     "data": {
      "text/plain": [
       "113.0"
      ]
     },
     "execution_count": 93,
     "metadata": {},
     "output_type": "execute_result"
    }
   ],
   "source": [
    "df.likes.quantile(0.95)"
   ]
  },
  {
   "cell_type": "code",
   "execution_count": 95,
   "metadata": {},
   "outputs": [],
   "source": [
    "index = df.likes.between(5, 113, inclusive=False)\n",
    "likes = df.likes[index]\n",
    "comments = df.comments[index]"
   ]
  },
  {
   "cell_type": "code",
   "execution_count": 96,
   "metadata": {},
   "outputs": [
    {
     "data": {
      "text/plain": [
       "<matplotlib.collections.PathCollection at 0x7f40bc682c18>"
      ]
     },
     "execution_count": 96,
     "metadata": {},
     "output_type": "execute_result"
    },
    {
     "data": {
      "image/png": "[encoded data removed]",
      "text/plain": [
       "<Figure size 432x288 with 1 Axes>"
      ]
     },
     "metadata": {
      "needs_background": "light"
     },
     "output_type": "display_data"
    }
   ],
   "source": [
    "plt.scatter(likes, comments)"
   ]
  },
  {
   "cell_type": "code",
   "execution_count": 97,
   "metadata": {},
   "outputs": [
    {
     "data": {
      "image/png": "[encoded data removed]",
      "text/plain": [
       "<Figure size 432x288 with 1 Axes>"
      ]
     },
     "metadata": {
      "needs_background": "light"
     },
     "output_type": "display_data"
    }
   ],
   "source": [
    "plt.hist(likes, bins=100);"
   ]
  },
  {
   "cell_type": "code",
   "execution_count": 98,
   "metadata": {},
   "outputs": [
    {
     "data": {
      "image/png": "[encoded data removed]",
      "text/plain": [
       "<Figure size 432x288 with 1 Axes>"
      ]
     },
     "metadata": {
      "needs_background": "light"
     },
     "output_type": "display_data"
    }
   ],
   "source": [
    "index = df.comments.between(df.comments.quantile(0.7), df.comments.quantile(0.95), inclusive=True)\n",
    "comments = df.comments[index]\n",
    "plt.hist(comments, bins=8);"
   ]
  },
  {
   "cell_type": "code",
   "execution_count": 116,
   "metadata": {},
   "outputs": [
    {
     "data": {
      "image/png": "[encoded data removed]",
      "text/plain": [
       "<Figure size 432x288 with 1 Axes>"
      ]
     },
     "metadata": {
      "needs_background": "light"
     },
     "output_type": "display_data"
    }
   ],
   "source": [
    "plt.boxplot(df.likes);"
   ]
  },
  {
   "cell_type": "code",
   "execution_count": 118,
   "metadata": {},
   "outputs": [
    {
     "data": {
      "image/png": "[encoded data removed]",
      "text/plain": [
       "<Figure size 432x288 with 1 Axes>"
      ]
     },
     "metadata": {
      "needs_background": "light"
     },
     "output_type": "display_data"
    }
   ],
   "source": [
    "index = df.likes.between(df.likes.quantile(0.1), df.likes.quantile(0.8), inclusive=False)\n",
    "likes = df.likes[index]\n",
    "plt.boxplot(likes);"
   ]
  },
  {
   "cell_type": "code",
   "execution_count": 113,
   "metadata": {},
   "outputs": [],
   "source": [
    "index = df.likes.between(df.likes.quantile(0.1), df.likes.quantile(0.8), inclusive=False)\n",
    "likes = df.likes[index]\n",
    "\n",
    "index = df.comments.between(df.comments.quantile(0.7), df.comments.quantile(0.95), inclusive=True)\n",
    "comments = df.comments[index]\n",
    "\n",
    "index = df.reposts.between(df.reposts.quantile(0.7), df.reposts.quantile(0.95), inclusive=True)\n",
    "reposts = df.reposts[index]"
   ]
  },
  {
   "cell_type": "code",
   "execution_count": 115,
   "metadata": {},
   "outputs": [
    {
     "data": {
      "image/png": "[encoded data removed]",
      "text/plain": [
       "<Figure size 432x288 with 1 Axes>"
      ]
     },
     "metadata": {
      "needs_background": "light"
     },
     "output_type": "display_data"
    }
   ],
   "source": [
    "plt.boxplot([likes, reposts, comments], labels=['likes', 'reposts', 'comments']);"
   ]
  },
  {
   "cell_type": "code",
   "execution_count": 132,
   "metadata": {},
   "outputs": [],
   "source": [
    "df['date'] = df['timestamp'].apply(datetime.datetime.fromtimestamp)"
   ]
  },
  {
   "cell_type": "code",
   "execution_count": 136,
   "metadata": {},
   "outputs": [
    {
     "data": {
      "text/html": [
       "<div>\n",
       "<style scoped>\n",
       "    .dataframe tbody tr th:only-of-type {\n",
       "        vertical-align: middle;\n",
       "    }\n",
       "\n",
       "    .dataframe tbody tr th {\n",
       "        vertical-align: top;\n",
       "    }\n",
       "\n",
       "    .dataframe thead th {\n",
       "        text-align: right;\n",
       "    }\n",
       "</style>\n",
       "<table border=\"1\" class=\"dataframe\">\n",
       "  <thead>\n",
       "    <tr style=\"text-align: right;\">\n",
       "      <th></th>\n",
       "      <th>id</th>\n",
       "      <th>text</th>\n",
       "      <th>comments</th>\n",
       "      <th>likes</th>\n",
       "      <th>reposts</th>\n",
       "      <th>timestamp</th>\n",
       "      <th>date</th>\n",
       "      <th>weekday</th>\n",
       "    </tr>\n",
       "  </thead>\n",
       "  <tbody>\n",
       "    <tr>\n",
       "      <th>0</th>\n",
       "      <td>49874</td>\n",
       "      <td>Учеба в Вышке может принять совершенно неожида...</td>\n",
       "      <td>23</td>\n",
       "      <td>264</td>\n",
       "      <td>17</td>\n",
       "      <td>1560964430</td>\n",
       "      <td>2019-06-19 20:13:50</td>\n",
       "      <td>2</td>\n",
       "    </tr>\n",
       "    <tr>\n",
       "      <th>1</th>\n",
       "      <td>51842</td>\n",
       "      <td>На выставочной площадке [club21317467|Школы ди...</td>\n",
       "      <td>0</td>\n",
       "      <td>8</td>\n",
       "      <td>0</td>\n",
       "      <td>1568373843</td>\n",
       "      <td>2019-09-13 14:24:03</td>\n",
       "      <td>4</td>\n",
       "    </tr>\n",
       "    <tr>\n",
       "      <th>2</th>\n",
       "      <td>51841</td>\n",
       "      <td>Работать с большими данными, упростить выполне...</td>\n",
       "      <td>0</td>\n",
       "      <td>29</td>\n",
       "      <td>3</td>\n",
       "      <td>1568366128</td>\n",
       "      <td>2019-09-13 12:15:28</td>\n",
       "      <td>4</td>\n",
       "    </tr>\n",
       "    <tr>\n",
       "      <th>3</th>\n",
       "      <td>51833</td>\n",
       "      <td>«Припудрить носик», уборная или туалет. Мы при...</td>\n",
       "      <td>0</td>\n",
       "      <td>23</td>\n",
       "      <td>1</td>\n",
       "      <td>1568306280</td>\n",
       "      <td>2019-09-12 19:38:00</td>\n",
       "      <td>3</td>\n",
       "    </tr>\n",
       "    <tr>\n",
       "      <th>4</th>\n",
       "      <td>51831</td>\n",
       "      <td>В этом году поддержать студенческие инициативы...</td>\n",
       "      <td>1</td>\n",
       "      <td>8</td>\n",
       "      <td>0</td>\n",
       "      <td>1568302140</td>\n",
       "      <td>2019-09-12 18:29:00</td>\n",
       "      <td>3</td>\n",
       "    </tr>\n",
       "  </tbody>\n",
       "</table>\n",
       "</div>"
      ],
      "text/plain": [
       "      id                                               text  comments  likes  \\\n",
       "0  49874  Учеба в Вышке может принять совершенно неожида...        23    264   \n",
       "1  51842  На выставочной площадке [club21317467|Школы ди...         0      8   \n",
       "2  51841  Работать с большими данными, упростить выполне...         0     29   \n",
       "3  51833  «Припудрить носик», уборная или туалет. Мы при...         0     23   \n",
       "4  51831  В этом году поддержать студенческие инициативы...         1      8   \n",
       "\n",
       "   reposts   timestamp                date  weekday  \n",
       "0       17  1560964430 2019-06-19 20:13:50        2  \n",
       "1        0  1568373843 2019-09-13 14:24:03        4  \n",
       "2        3  1568366128 2019-09-13 12:15:28        4  \n",
       "3        1  1568306280 2019-09-12 19:38:00        3  \n",
       "4        0  1568302140 2019-09-12 18:29:00        3  "
      ]
     },
     "execution_count": 136,
     "metadata": {},
     "output_type": "execute_result"
    }
   ],
   "source": [
    "df.head()"
   ]
  },
  {
   "cell_type": "code",
   "execution_count": 141,
   "metadata": {},
   "outputs": [],
   "source": [
    "df['weekday'] = df['date'].apply(datetime.datetime.weekday)"
   ]
  },
  {
   "cell_type": "code",
   "execution_count": 155,
   "metadata": {},
   "outputs": [],
   "source": [
    "def return_day(date):\n",
    "    return date.day\n",
    "df['day'] = df['date'].apply(return_day)"
   ]
  },
  {
   "cell_type": "code",
   "execution_count": 158,
   "metadata": {},
   "outputs": [
    {
     "data": {
      "text/html": [
       "<div>\n",
       "<style scoped>\n",
       "    .dataframe tbody tr th:only-of-type {\n",
       "        vertical-align: middle;\n",
       "    }\n",
       "\n",
       "    .dataframe tbody tr th {\n",
       "        vertical-align: top;\n",
       "    }\n",
       "\n",
       "    .dataframe thead th {\n",
       "        text-align: right;\n",
       "    }\n",
       "</style>\n",
       "<table border=\"1\" class=\"dataframe\">\n",
       "  <thead>\n",
       "    <tr style=\"text-align: right;\">\n",
       "      <th></th>\n",
       "      <th>id</th>\n",
       "      <th>text</th>\n",
       "      <th>comments</th>\n",
       "      <th>likes</th>\n",
       "      <th>reposts</th>\n",
       "      <th>timestamp</th>\n",
       "      <th>date</th>\n",
       "      <th>weekday</th>\n",
       "      <th>day</th>\n",
       "    </tr>\n",
       "  </thead>\n",
       "  <tbody>\n",
       "    <tr>\n",
       "      <th>0</th>\n",
       "      <td>49874</td>\n",
       "      <td>Учеба в Вышке может принять совершенно неожида...</td>\n",
       "      <td>23</td>\n",
       "      <td>264</td>\n",
       "      <td>17</td>\n",
       "      <td>1560964430</td>\n",
       "      <td>2019-06-19 20:13:50</td>\n",
       "      <td>2</td>\n",
       "      <td>19</td>\n",
       "    </tr>\n",
       "    <tr>\n",
       "      <th>1</th>\n",
       "      <td>51842</td>\n",
       "      <td>На выставочной площадке [club21317467|Школы ди...</td>\n",
       "      <td>0</td>\n",
       "      <td>8</td>\n",
       "      <td>0</td>\n",
       "      <td>1568373843</td>\n",
       "      <td>2019-09-13 14:24:03</td>\n",
       "      <td>4</td>\n",
       "      <td>13</td>\n",
       "    </tr>\n",
       "    <tr>\n",
       "      <th>2</th>\n",
       "      <td>51841</td>\n",
       "      <td>Работать с большими данными, упростить выполне...</td>\n",
       "      <td>0</td>\n",
       "      <td>29</td>\n",
       "      <td>3</td>\n",
       "      <td>1568366128</td>\n",
       "      <td>2019-09-13 12:15:28</td>\n",
       "      <td>4</td>\n",
       "      <td>13</td>\n",
       "    </tr>\n",
       "    <tr>\n",
       "      <th>3</th>\n",
       "      <td>51833</td>\n",
       "      <td>«Припудрить носик», уборная или туалет. Мы при...</td>\n",
       "      <td>0</td>\n",
       "      <td>23</td>\n",
       "      <td>1</td>\n",
       "      <td>1568306280</td>\n",
       "      <td>2019-09-12 19:38:00</td>\n",
       "      <td>3</td>\n",
       "      <td>12</td>\n",
       "    </tr>\n",
       "    <tr>\n",
       "      <th>4</th>\n",
       "      <td>51831</td>\n",
       "      <td>В этом году поддержать студенческие инициативы...</td>\n",
       "      <td>1</td>\n",
       "      <td>8</td>\n",
       "      <td>0</td>\n",
       "      <td>1568302140</td>\n",
       "      <td>2019-09-12 18:29:00</td>\n",
       "      <td>3</td>\n",
       "      <td>12</td>\n",
       "    </tr>\n",
       "  </tbody>\n",
       "</table>\n",
       "</div>"
      ],
      "text/plain": [
       "      id                                               text  comments  likes  \\\n",
       "0  49874  Учеба в Вышке может принять совершенно неожида...        23    264   \n",
       "1  51842  На выставочной площадке [club21317467|Школы ди...         0      8   \n",
       "2  51841  Работать с большими данными, упростить выполне...         0     29   \n",
       "3  51833  «Припудрить носик», уборная или туалет. Мы при...         0     23   \n",
       "4  51831  В этом году поддержать студенческие инициативы...         1      8   \n",
       "\n",
       "   reposts   timestamp                date  weekday  day  \n",
       "0       17  1560964430 2019-06-19 20:13:50        2   19  \n",
       "1        0  1568373843 2019-09-13 14:24:03        4   13  \n",
       "2        3  1568366128 2019-09-13 12:15:28        4   13  \n",
       "3        1  1568306280 2019-09-12 19:38:00        3   12  \n",
       "4        0  1568302140 2019-09-12 18:29:00        3   12  "
      ]
     },
     "execution_count": 158,
     "metadata": {},
     "output_type": "execute_result"
    }
   ],
   "source": [
    "df.head()"
   ]
  },
  {
   "cell_type": "code",
   "execution_count": 185,
   "metadata": {},
   "outputs": [],
   "source": [
    "weekday, n_posts = np.unique(df.weekday, return_counts=True)"
   ]
  },
  {
   "cell_type": "code",
   "execution_count": 186,
   "metadata": {},
   "outputs": [
    {
     "data": {
      "image/png": "[encoded data removed]",
      "text/plain": [
       "<Figure size 432x288 with 1 Axes>"
      ]
     },
     "metadata": {
      "needs_background": "light"
     },
     "output_type": "display_data"
    }
   ],
   "source": [
    "plt.plot(weekday, n_posts);"
   ]
  },
  {
   "cell_type": "code",
   "execution_count": 165,
   "metadata": {},
   "outputs": [
    {
     "data": {
      "image/png": "[encoded data removed]",
      "text/plain": [
       "<Figure size 432x288 with 1 Axes>"
      ]
     },
     "metadata": {
      "needs_background": "light"
     },
     "output_type": "display_data"
    }
   ],
   "source": [
    "plt.plot(weekday, n_posts);\n",
    "plt.scatter(weekday, n_posts);"
   ]
  },
  {
   "cell_type": "code",
   "execution_count": 187,
   "metadata": {},
   "outputs": [
    {
     "data": {
      "image/png": "[encoded data removed]",
      "text/plain": [
       "<Figure size 720x360 with 1 Axes>"
      ]
     },
     "metadata": {
      "needs_background": "light"
     },
     "output_type": "display_data"
    }
   ],
   "source": [
    "plt.figure(figsize=(10,5))\n",
    "plt.plot(weekday+1, n_posts);\n",
    "plt.scatter(weekday+1, n_posts);\n",
    "plt.xticks([1,2,3,4,5,6,7],\n",
    "           labels=['Понедельник', 'Вторник', 'Среда', 'Четверг', 'Пятница', 'Суббота', 'Воскресенье'],\n",
    "          rotation=30);"
   ]
  },
  {
   "cell_type": "code",
   "execution_count": 192,
   "metadata": {},
   "outputs": [],
   "source": [
    "n_comments = df.groupby('weekday')['comments', 'reposts', 'likes'].sum().comments\n",
    "n_reposts = df.groupby('weekday')['comments', 'reposts', 'likes'].sum().reposts\n",
    "n_likes = df.groupby('weekday')['comments', 'reposts', 'likes'].sum().likes"
   ]
  },
  {
   "cell_type": "code",
   "execution_count": 196,
   "metadata": {},
   "outputs": [
    {
     "data": {
      "image/png": "[encoded data removed]",
      "text/plain": [
       "<Figure size 720x360 with 1 Axes>"
      ]
     },
     "metadata": {
      "needs_background": "light"
     },
     "output_type": "display_data"
    }
   ],
   "source": [
    "plt.figure(figsize=(10,5))\n",
    "plt.plot(list(range(1,8)), n_comments, marker='.', label='#Comments');\n",
    "plt.plot(list(range(1,8)), n_reposts, marker='.', label='#Reposts');\n",
    "plt.plot(list(range(1,8)), n_likes, marker='.', label='#Likes');\n",
    "plt.xticks([1,2,3,4,5,6,7],\n",
    "           labels=['Понедельник', 'Вторник', 'Среда', 'Четверг', 'Пятница', 'Суббота', 'Воскресенье'],\n",
    "          rotation=30)\n",
    "plt.legend();"
   ]
  },
  {
   "cell_type": "code",
   "execution_count": 199,
   "metadata": {},
   "outputs": [],
   "source": [
    "n_comments = df.groupby('weekday')['comments', 'reposts', 'likes'].median().comments\n",
    "n_reposts = df.groupby('weekday')['comments', 'reposts', 'likes'].median().reposts\n",
    "n_likes = df.groupby('weekday')['comments', 'reposts', 'likes'].median().likes"
   ]
  },
  {
   "cell_type": "code",
   "execution_count": 200,
   "metadata": {},
   "outputs": [
    {
     "data": {
      "image/png": "[encoded data removed]",
      "text/plain": [
       "<Figure size 720x360 with 1 Axes>"
      ]
     },
     "metadata": {
      "needs_background": "light"
     },
     "output_type": "display_data"
    }
   ],
   "source": [
    "plt.figure(figsize=(10,5))\n",
    "plt.plot(list(range(1,8)), n_comments, marker='.', label='#Comments');\n",
    "plt.plot(list(range(1,8)), n_reposts, marker='.', label='#Reposts');\n",
    "plt.plot(list(range(1,8)), n_likes, marker='.', label='#Likes');\n",
    "plt.xticks([1,2,3,4,5,6,7],\n",
    "           labels=['Понедельник', 'Вторник', 'Среда', 'Четверг', 'Пятница', 'Суббота', 'Воскресенье'],\n",
    "          rotation=30)\n",
    "plt.legend();"
   ]
  },
  {
   "cell_type": "code",
   "execution_count": null,
   "metadata": {},
   "outputs": [],
   "source": []
  },
  {
   "cell_type": "code",
   "execution_count": null,
   "metadata": {},
   "outputs": [],
   "source": []
  }
 ],
 "metadata": {
  "kernelspec": {
   "display_name": "Python 3",
   "language": "python",
   "name": "python3"
  },
  "language_info": {
   "codemirror_mode": {
    "name": "ipython",
    "version": 3
   },
   "file_extension": ".py",
   "mimetype": "text/x-python",
   "name": "python",
   "nbconvert_exporter": "python",
   "pygments_lexer": "ipython3",
   "version": "3.7.3"
  }
 },
 "nbformat": 4,
 "nbformat_minor": 2
}
