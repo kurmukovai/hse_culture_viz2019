{
 "cells": [
  {
   "cell_type": "code",
   "execution_count": 1,
   "metadata": {},
   "outputs": [],
   "source": [
    "import requests"
   ]
  },
  {
   "cell_type": "raw",
   "metadata": {},
   "source": [
    "'http://regvk.com/id/'\n",
    "'https://vk.com/hse_university'\n",
    "'https://vk.com/hse_overheard'\n",
    "'https://vk.com/dev/wall.get'"
   ]
  },
  {
   "cell_type": "code",
   "execution_count": 3,
   "metadata": {},
   "outputs": [],
   "source": [
    "group_id = 'hse_university' # '25205856'\n",
    "access_token = 'a161b4dca161b4dca161b4dc27a107ebb8aa161a161b4dcfc1acecf46c7682af9752ac8'"
   ]
  },
  {
   "cell_type": "code",
   "execution_count": 99,
   "metadata": {},
   "outputs": [],
   "source": [
    "def get_wall_post(group_id, access_token, count=10, offset=0):\n",
    "    wall_url = \\\n",
    "        f'https://api.vk.com/method/wall.get?domain={group_id}&access_token={access_token}&count={count}&offset={offset}&v=5.8'\n",
    "\n",
    "    json_response = requests.get(wall_url).json()\n",
    "    if json_response.get('error'):\n",
    "        print('json_error')\n",
    "        return list(), wall_url\n",
    "\n",
    "    return json_response[u'response'], wall_url"
   ]
  },
  {
   "cell_type": "code",
   "execution_count": 100,
   "metadata": {},
   "outputs": [],
   "source": [
    "response, _ = get_wall_post(group_id, access_token, count=2)"
   ]
  },
  {
   "cell_type": "code",
   "execution_count": 101,
   "metadata": {},
   "outputs": [
    {
     "data": {
      "text/plain": [
       "dict"
      ]
     },
     "execution_count": 101,
     "metadata": {},
     "output_type": "execute_result"
    }
   ],
   "source": [
    "type(response)"
   ]
  },
  {
   "cell_type": "code",
   "execution_count": 102,
   "metadata": {},
   "outputs": [
    {
     "data": {
      "text/plain": [
       "{'count': 10764,\n",
       " 'items': [{'id': 49874,\n",
       "   'from_id': -25205856,\n",
       "   'owner_id': -25205856,\n",
       "   'date': 1560964430,\n",
       "   'marked_as_ads': 0,\n",
       "   'post_type': 'post',\n",
       "   'text': 'Учеба в Вышке может принять совершенно неожиданный оборот. Курсов по приручению динозавров, конечно, нет в учебных планах на следующий год, но кто знает, что ждет нас в будущем. Потому что ВШЭ — уже давно не только Э!',\n",
       "   'is_pinned': 1,\n",
       "   'attachments': [{'type': 'video',\n",
       "     'video': {'id': 456239666,\n",
       "      'owner_id': -25205856,\n",
       "      'title': 'Высшая школа не только экономики',\n",
       "      'duration': 97,\n",
       "      'description': 'Учеба в Вышке может принять совершенно неожиданный оборот. Курсов по приручению динозавров, конечно, нет в учебных планах на следующий год, но кто знает, что ждет нас в будущем. Потому что ВШЭ — уже давно не только Э! \\n\\nВсё о бакалавриате: ba.hse.ru \\nВсё о магистратуре: ma.hse.ru ',\n",
       "      'date': 1560964399,\n",
       "      'comments': 1,\n",
       "      'views': 1425,\n",
       "      'local_views': 1425,\n",
       "      'photo_130': 'https://sun9-65.userapi.com/c855228/v855228101/72570/CvFFSQG2RL0.jpg',\n",
       "      'photo_320': 'https://sun9-69.userapi.com/c855228/v855228101/72572/gt2E9Yc7Uaw.jpg',\n",
       "      'photo_640': 'https://sun9-64.userapi.com/c855228/v855228101/72573/4UkOS_t4DR4.jpg',\n",
       "      'photo_800': 'https://sun9-64.userapi.com/c855228/v855228101/72573/4UkOS_t4DR4.jpg',\n",
       "      'access_key': '0537bc5b095c70c915',\n",
       "      'platform': 'YouTube',\n",
       "      'track_code': 'video_66ad5848MMltHAz7bWSa2JUOQvab8Loyqqz9XTn3lFthdVIDkWJt7nkWDv1dUaLt'}}],\n",
       "   'post_source': {'type': 'vk'},\n",
       "   'comments': {'count': 23, 'can_post': 1},\n",
       "   'likes': {'count': 264, 'user_likes': 0, 'can_like': 1, 'can_publish': 1},\n",
       "   'reposts': {'count': 17, 'user_reposted': 0}},\n",
       "  {'id': 51842,\n",
       "   'from_id': -25205856,\n",
       "   'owner_id': -25205856,\n",
       "   'date': 1568373843,\n",
       "   'marked_as_ads': 0,\n",
       "   'post_type': 'post',\n",
       "   'text': 'На выставочной площадке [club21317467|Школы дизайна] HSE ART GALLERY открылась первая выставка этого сезона «Утоп-топ-топия» по идее Павла Пепперштейна. На экспозиции второкурсников «Анимации и иллюстрации» можно посмотреть на утопические конструкции – например, советскую квартиру в QR-кодах или вселенную на кончике носа кошки',\n",
       "   'attachments': [{'type': 'link',\n",
       "     'link': {'url': 'https://www.hse.ru/news/life/306173624.html',\n",
       "      'title': '«HSE ART GALLERY — не пространство для семестровых просмотров, а полноценная галерея»',\n",
       "      'description': 'В сентябре исполняется год с открытия галереи современного искусства HSE ART GALLERY — выставочной площадки Школы дизайна НИУ ВШЭ. О первой выставке этого сезона, планах на будущее и студенческом творчестве — в репортаже новостной службы портала.',\n",
       "      'target': 'internal',\n",
       "      'image_src': False,\n",
       "      'image_big': 'https://sun1-30.userapi.com/c852220/v852220189/1cb02c/fSZfWPNhdKY.jpg'}}],\n",
       "   'post_source': {'type': 'vk'},\n",
       "   'comments': {'count': 0, 'can_post': 1},\n",
       "   'likes': {'count': 7, 'user_likes': 0, 'can_like': 1, 'can_publish': 1},\n",
       "   'reposts': {'count': 0, 'user_reposted': 0}}]}"
      ]
     },
     "execution_count": 102,
     "metadata": {},
     "output_type": "execute_result"
    }
   ],
   "source": [
    "response"
   ]
  },
  {
   "cell_type": "code",
   "execution_count": 25,
   "metadata": {},
   "outputs": [
    {
     "data": {
      "text/plain": [
       "list"
      ]
     },
     "execution_count": 25,
     "metadata": {},
     "output_type": "execute_result"
    }
   ],
   "source": [
    "type(response['items'])"
   ]
  },
  {
   "cell_type": "code",
   "execution_count": 26,
   "metadata": {},
   "outputs": [
    {
     "data": {
      "text/plain": [
       "2"
      ]
     },
     "execution_count": 26,
     "metadata": {},
     "output_type": "execute_result"
    }
   ],
   "source": [
    "len(response['items'])"
   ]
  },
  {
   "cell_type": "code",
   "execution_count": 10,
   "metadata": {},
   "outputs": [
    {
     "data": {
      "text/plain": [
       "dict"
      ]
     },
     "execution_count": 10,
     "metadata": {},
     "output_type": "execute_result"
    }
   ],
   "source": [
    "type(response['items'][0])"
   ]
  },
  {
   "cell_type": "code",
   "execution_count": 11,
   "metadata": {},
   "outputs": [],
   "source": [
    "response = response['items'][0]"
   ]
  },
  {
   "cell_type": "code",
   "execution_count": 12,
   "metadata": {},
   "outputs": [
    {
     "data": {
      "text/plain": [
       "{'id': 49874,\n",
       " 'from_id': -25205856,\n",
       " 'owner_id': -25205856,\n",
       " 'date': 1560964430,\n",
       " 'marked_as_ads': 0,\n",
       " 'post_type': 'post',\n",
       " 'text': 'Учеба в Вышке может принять совершенно неожиданный оборот. Курсов по приручению динозавров, конечно, нет в учебных планах на следующий год, но кто знает, что ждет нас в будущем. Потому что ВШЭ — уже давно не только Э!',\n",
       " 'is_pinned': 1,\n",
       " 'attachments': [{'type': 'video',\n",
       "   'video': {'id': 456239666,\n",
       "    'owner_id': -25205856,\n",
       "    'title': 'Высшая школа не только экономики',\n",
       "    'duration': 97,\n",
       "    'description': 'Учеба в Вышке может принять совершенно неожиданный оборот. Курсов по приручению динозавров, конечно, нет в учебных планах на следующий год, но кто знает, что ждет нас в будущем. Потому что ВШЭ — уже давно не только Э! \\n\\nВсё о бакалавриате: ba.hse.ru \\nВсё о магистратуре: ma.hse.ru ',\n",
       "    'date': 1560964399,\n",
       "    'comments': 1,\n",
       "    'views': 1424,\n",
       "    'local_views': 1424,\n",
       "    'photo_130': 'https://sun9-65.userapi.com/c855228/v855228101/72570/CvFFSQG2RL0.jpg',\n",
       "    'photo_320': 'https://sun9-69.userapi.com/c855228/v855228101/72572/gt2E9Yc7Uaw.jpg',\n",
       "    'photo_640': 'https://sun9-64.userapi.com/c855228/v855228101/72573/4UkOS_t4DR4.jpg',\n",
       "    'photo_800': 'https://sun9-64.userapi.com/c855228/v855228101/72573/4UkOS_t4DR4.jpg',\n",
       "    'access_key': '0537bc5b095c70c915',\n",
       "    'platform': 'YouTube',\n",
       "    'track_code': 'video_73e1c07bNwsxgvp6YUHpf1N63s-5Lvps3NyLhKL3863kNwXDQBxqLCWI-HxRdNFK'}}],\n",
       " 'post_source': {'type': 'vk'},\n",
       " 'comments': {'count': 23, 'can_post': 1},\n",
       " 'likes': {'count': 264, 'user_likes': 0, 'can_like': 1, 'can_publish': 1},\n",
       " 'reposts': {'count': 17, 'user_reposted': 0}}"
      ]
     },
     "execution_count": 12,
     "metadata": {},
     "output_type": "execute_result"
    }
   ],
   "source": [
    "response"
   ]
  },
  {
   "cell_type": "code",
   "execution_count": 13,
   "metadata": {},
   "outputs": [
    {
     "data": {
      "text/plain": [
       "dict"
      ]
     },
     "execution_count": 13,
     "metadata": {},
     "output_type": "execute_result"
    }
   ],
   "source": [
    "type(response)"
   ]
  },
  {
   "cell_type": "code",
   "execution_count": 14,
   "metadata": {},
   "outputs": [
    {
     "data": {
      "text/plain": [
       "1560964430"
      ]
     },
     "execution_count": 14,
     "metadata": {},
     "output_type": "execute_result"
    }
   ],
   "source": [
    "response['date']"
   ]
  },
  {
   "cell_type": "code",
   "execution_count": 15,
   "metadata": {},
   "outputs": [
    {
     "data": {
      "text/plain": [
       "'Учеба в Вышке может принять совершенно неожиданный оборот. Курсов по приручению динозавров, конечно, нет в учебных планах на следующий год, но кто знает, что ждет нас в будущем. Потому что ВШЭ — уже давно не только Э!'"
      ]
     },
     "execution_count": 15,
     "metadata": {},
     "output_type": "execute_result"
    }
   ],
   "source": [
    "response['text']"
   ]
  },
  {
   "cell_type": "code",
   "execution_count": 16,
   "metadata": {},
   "outputs": [
    {
     "data": {
      "text/plain": [
       "23"
      ]
     },
     "execution_count": 16,
     "metadata": {},
     "output_type": "execute_result"
    }
   ],
   "source": [
    "response['comments']['count']"
   ]
  },
  {
   "cell_type": "code",
   "execution_count": 17,
   "metadata": {},
   "outputs": [
    {
     "data": {
      "text/plain": [
       "264"
      ]
     },
     "execution_count": 17,
     "metadata": {},
     "output_type": "execute_result"
    }
   ],
   "source": [
    "response['likes']['count']"
   ]
  },
  {
   "cell_type": "code",
   "execution_count": 18,
   "metadata": {},
   "outputs": [
    {
     "data": {
      "text/plain": [
       "17"
      ]
     },
     "execution_count": 18,
     "metadata": {},
     "output_type": "execute_result"
    }
   ],
   "source": [
    "response['reposts']['count']"
   ]
  },
  {
   "cell_type": "markdown",
   "metadata": {},
   "source": [
    "# Какие вопросы можно задать?\n",
    "\n",
    "1. Связь числа лайков, репостов и комментариев\n",
    "2. Популярность слов в постах на стене в сообществе -> анализ тональности\n",
    "3. Частота записей по дням недели\n",
    "4. Еще?"
   ]
  },
  {
   "cell_type": "code",
   "execution_count": 27,
   "metadata": {},
   "outputs": [],
   "source": [
    "import pandas as pd"
   ]
  },
  {
   "cell_type": "code",
   "execution_count": 43,
   "metadata": {},
   "outputs": [],
   "source": [
    "response, _ = get_wall_post(group_id, access_token, count=100)"
   ]
  },
  {
   "cell_type": "code",
   "execution_count": 44,
   "metadata": {},
   "outputs": [],
   "source": [
    "def get_meta_data(response):\n",
    "    meta_data = pd.DataFrame(columns=['id', 'text', 'date', 'comments', 'likes', 'reposts'])\n",
    "    for message in response['items']:\n",
    "        row = {\n",
    "            'id': message['id'],\n",
    "            'text': message['text'],\n",
    "            'date': message['date'],\n",
    "            'comments': message['comments']['count'],\n",
    "            'likes': message['likes']['count'],\n",
    "            'reposts': message['reposts']['count']\n",
    "        }\n",
    "        meta_data = meta_data.append(row, ignore_index=True)\n",
    "    return meta_data"
   ]
  },
  {
   "cell_type": "code",
   "execution_count": 45,
   "metadata": {},
   "outputs": [],
   "source": [
    "df = get_meta_data(response)"
   ]
  },
  {
   "cell_type": "code",
   "execution_count": 69,
   "metadata": {},
   "outputs": [
    {
     "data": {
      "text/html": [
       "<div>\n",
       "<style scoped>\n",
       "    .dataframe tbody tr th:only-of-type {\n",
       "        vertical-align: middle;\n",
       "    }\n",
       "\n",
       "    .dataframe tbody tr th {\n",
       "        vertical-align: top;\n",
       "    }\n",
       "\n",
       "    .dataframe thead th {\n",
       "        text-align: right;\n",
       "    }\n",
       "</style>\n",
       "<table border=\"1\" class=\"dataframe\">\n",
       "  <thead>\n",
       "    <tr style=\"text-align: right;\">\n",
       "      <th></th>\n",
       "      <th>id</th>\n",
       "      <th>text</th>\n",
       "      <th>date</th>\n",
       "      <th>comments</th>\n",
       "      <th>likes</th>\n",
       "      <th>reposts</th>\n",
       "    </tr>\n",
       "  </thead>\n",
       "  <tbody>\n",
       "    <tr>\n",
       "      <th>0</th>\n",
       "      <td>49874</td>\n",
       "      <td>Учеба в Вышке может принять совершенно неожида...</td>\n",
       "      <td>1560964430</td>\n",
       "      <td>23</td>\n",
       "      <td>264</td>\n",
       "      <td>17</td>\n",
       "    </tr>\n",
       "    <tr>\n",
       "      <th>1</th>\n",
       "      <td>51842</td>\n",
       "      <td>На выставочной площадке [club21317467|Школы ди...</td>\n",
       "      <td>1568373843</td>\n",
       "      <td>0</td>\n",
       "      <td>6</td>\n",
       "      <td>0</td>\n",
       "    </tr>\n",
       "    <tr>\n",
       "      <th>2</th>\n",
       "      <td>51841</td>\n",
       "      <td>Работать с большими данными, упростить выполне...</td>\n",
       "      <td>1568366128</td>\n",
       "      <td>0</td>\n",
       "      <td>28</td>\n",
       "      <td>3</td>\n",
       "    </tr>\n",
       "  </tbody>\n",
       "</table>\n",
       "</div>"
      ],
      "text/plain": [
       "      id                                               text        date  \\\n",
       "0  49874  Учеба в Вышке может принять совершенно неожида...  1560964430   \n",
       "1  51842  На выставочной площадке [club21317467|Школы ди...  1568373843   \n",
       "2  51841  Работать с большими данными, упростить выполне...  1568366128   \n",
       "\n",
       "  comments likes reposts  \n",
       "0       23   264      17  \n",
       "1        0     6       0  \n",
       "2        0    28       3  "
      ]
     },
     "execution_count": 69,
     "metadata": {},
     "output_type": "execute_result"
    }
   ],
   "source": [
    "df.head(3)"
   ]
  },
  {
   "cell_type": "code",
   "execution_count": 48,
   "metadata": {},
   "outputs": [],
   "source": [
    "import matplotlib.pyplot as plt\n",
    "%matplotlib inline"
   ]
  },
  {
   "cell_type": "code",
   "execution_count": 66,
   "metadata": {},
   "outputs": [
    {
     "data": {
      "text/plain": [
       "<matplotlib.collections.PathCollection at 0x7f3708084518>"
      ]
     },
     "execution_count": 66,
     "metadata": {},
     "output_type": "execute_result"
    },
    {
     "data": {
      "image/png": "[encoded data removed]",
      "text/plain": [
       "<Figure size 432x288 with 1 Axes>"
      ]
     },
     "metadata": {
      "needs_background": "light"
     },
     "output_type": "display_data"
    }
   ],
   "source": [
    "plt.scatter(df.likes, df.reposts)"
   ]
  },
  {
   "cell_type": "code",
   "execution_count": 67,
   "metadata": {},
   "outputs": [],
   "source": [
    "likes = df.likes[df.likes < 400]\n",
    "reposts = df.reposts[df.likes < 400]"
   ]
  },
  {
   "cell_type": "code",
   "execution_count": 68,
   "metadata": {},
   "outputs": [
    {
     "data": {
      "text/plain": [
       "<matplotlib.collections.PathCollection at 0x7f370812bc88>"
      ]
     },
     "execution_count": 68,
     "metadata": {},
     "output_type": "execute_result"
    },
    {
     "data": {
      "image/png": "[encoded data removed]",
      "text/plain": [
       "<Figure size 432x288 with 1 Axes>"
      ]
     },
     "metadata": {
      "needs_background": "light"
     },
     "output_type": "display_data"
    }
   ],
   "source": [
    "plt.scatter(likes, reposts)"
   ]
  },
  {
   "cell_type": "code",
   "execution_count": 107,
   "metadata": {},
   "outputs": [],
   "source": [
    "import time\n",
    "from tqdm import tqdm_notebook"
   ]
  },
  {
   "cell_type": "code",
   "execution_count": 108,
   "metadata": {},
   "outputs": [
    {
     "data": {
      "application/vnd.jupyter.widget-view+json": {
       "model_id": "80a365d5c6a54970be55c349878c45d3",
       "version_major": 2,
       "version_minor": 0
      },
      "text/plain": [
       "HBox(children=(IntProgress(value=0), HTML(value='')))"
      ]
     },
     "metadata": {},
     "output_type": "display_data"
    },
    {
     "name": "stdout",
     "output_type": "stream",
     "text": [
      "\n"
     ]
    }
   ],
   "source": [
    "meta = pd.DataFrame(columns=['id', 'text', 'date', 'comments', 'likes', 'reposts'])\n",
    "for n in tqdm_notebook(range(100)):\n",
    "    response, _ = get_wall_post(group_id, access_token, count=100, offset=n*100)\n",
    "    df = get_meta_data(response)\n",
    "    meta = pd.concat([meta, df])"
   ]
  },
  {
   "cell_type": "code",
   "execution_count": 109,
   "metadata": {},
   "outputs": [
    {
     "data": {
      "text/html": [
       "<div>\n",
       "<style scoped>\n",
       "    .dataframe tbody tr th:only-of-type {\n",
       "        vertical-align: middle;\n",
       "    }\n",
       "\n",
       "    .dataframe tbody tr th {\n",
       "        vertical-align: top;\n",
       "    }\n",
       "\n",
       "    .dataframe thead th {\n",
       "        text-align: right;\n",
       "    }\n",
       "</style>\n",
       "<table border=\"1\" class=\"dataframe\">\n",
       "  <thead>\n",
       "    <tr style=\"text-align: right;\">\n",
       "      <th></th>\n",
       "      <th>id</th>\n",
       "      <th>text</th>\n",
       "      <th>date</th>\n",
       "      <th>comments</th>\n",
       "      <th>likes</th>\n",
       "      <th>reposts</th>\n",
       "    </tr>\n",
       "  </thead>\n",
       "  <tbody>\n",
       "    <tr>\n",
       "      <th>0</th>\n",
       "      <td>49874</td>\n",
       "      <td>Учеба в Вышке может принять совершенно неожида...</td>\n",
       "      <td>1560964430</td>\n",
       "      <td>23</td>\n",
       "      <td>264</td>\n",
       "      <td>17</td>\n",
       "    </tr>\n",
       "    <tr>\n",
       "      <th>1</th>\n",
       "      <td>51842</td>\n",
       "      <td>На выставочной площадке [club21317467|Школы ди...</td>\n",
       "      <td>1568373843</td>\n",
       "      <td>0</td>\n",
       "      <td>8</td>\n",
       "      <td>0</td>\n",
       "    </tr>\n",
       "    <tr>\n",
       "      <th>2</th>\n",
       "      <td>51841</td>\n",
       "      <td>Работать с большими данными, упростить выполне...</td>\n",
       "      <td>1568366128</td>\n",
       "      <td>0</td>\n",
       "      <td>29</td>\n",
       "      <td>3</td>\n",
       "    </tr>\n",
       "    <tr>\n",
       "      <th>3</th>\n",
       "      <td>51833</td>\n",
       "      <td>«Припудрить носик», уборная или туалет. Мы при...</td>\n",
       "      <td>1568306280</td>\n",
       "      <td>0</td>\n",
       "      <td>23</td>\n",
       "      <td>1</td>\n",
       "    </tr>\n",
       "    <tr>\n",
       "      <th>4</th>\n",
       "      <td>51831</td>\n",
       "      <td>В этом году поддержать студенческие инициативы...</td>\n",
       "      <td>1568302140</td>\n",
       "      <td>1</td>\n",
       "      <td>8</td>\n",
       "      <td>0</td>\n",
       "    </tr>\n",
       "    <tr>\n",
       "      <th>5</th>\n",
       "      <td>51830</td>\n",
       "      <td>«День Вышки – это классно. Здесь лампово, крас...</td>\n",
       "      <td>1568298000</td>\n",
       "      <td>0</td>\n",
       "      <td>46</td>\n",
       "      <td>1</td>\n",
       "    </tr>\n",
       "    <tr>\n",
       "      <th>6</th>\n",
       "      <td>51825</td>\n",
       "      <td>Что делает школу «хорошей»: высокий средний ба...</td>\n",
       "      <td>1568284800</td>\n",
       "      <td>0</td>\n",
       "      <td>17</td>\n",
       "      <td>2</td>\n",
       "    </tr>\n",
       "    <tr>\n",
       "      <th>7</th>\n",
       "      <td>51824</td>\n",
       "      <td>Открылась подача заявок на конкурс научно-иссл...</td>\n",
       "      <td>1568280721</td>\n",
       "      <td>0</td>\n",
       "      <td>11</td>\n",
       "      <td>8</td>\n",
       "    </tr>\n",
       "    <tr>\n",
       "      <th>8</th>\n",
       "      <td>51821</td>\n",
       "      <td>Вышка усилила свои позиции в мировом рейтинге ...</td>\n",
       "      <td>1568276875</td>\n",
       "      <td>0</td>\n",
       "      <td>54</td>\n",
       "      <td>1</td>\n",
       "    </tr>\n",
       "    <tr>\n",
       "      <th>9</th>\n",
       "      <td>51818</td>\n",
       "      <td>Изучаем фотоальбом [club185420171|Дня Вышки 20...</td>\n",
       "      <td>1568219812</td>\n",
       "      <td>0</td>\n",
       "      <td>17</td>\n",
       "      <td>1</td>\n",
       "    </tr>\n",
       "    <tr>\n",
       "      <th>10</th>\n",
       "      <td>51817</td>\n",
       "      <td>Языковая практика, Великая стена и утка по-пек...</td>\n",
       "      <td>1568208943</td>\n",
       "      <td>0</td>\n",
       "      <td>13</td>\n",
       "      <td>0</td>\n",
       "    </tr>\n",
       "    <tr>\n",
       "      <th>11</th>\n",
       "      <td>51816</td>\n",
       "      <td>Научиться доступно рассказывать о научном знан...</td>\n",
       "      <td>1568201646</td>\n",
       "      <td>0</td>\n",
       "      <td>17</td>\n",
       "      <td>1</td>\n",
       "    </tr>\n",
       "    <tr>\n",
       "      <th>12</th>\n",
       "      <td>51815</td>\n",
       "      <td>Присоединяйтесь к команде STUDLIFE</td>\n",
       "      <td>1568194980</td>\n",
       "      <td>0</td>\n",
       "      <td>5</td>\n",
       "      <td>0</td>\n",
       "    </tr>\n",
       "    <tr>\n",
       "      <th>13</th>\n",
       "      <td>51813</td>\n",
       "      <td>На уровень субъективного благополучия влияют м...</td>\n",
       "      <td>1568191334</td>\n",
       "      <td>0</td>\n",
       "      <td>5</td>\n",
       "      <td>0</td>\n",
       "    </tr>\n",
       "    <tr>\n",
       "      <th>14</th>\n",
       "      <td>51811</td>\n",
       "      <td>[club68661738|Лицей НИУ ВШЭ] и ещё 82 российск...</td>\n",
       "      <td>1568128058</td>\n",
       "      <td>0</td>\n",
       "      <td>87</td>\n",
       "      <td>2</td>\n",
       "    </tr>\n",
       "    <tr>\n",
       "      <th>15</th>\n",
       "      <td>51809</td>\n",
       "      <td>Российский фонд фундаментальных исследований п...</td>\n",
       "      <td>1568122168</td>\n",
       "      <td>0</td>\n",
       "      <td>12</td>\n",
       "      <td>1</td>\n",
       "    </tr>\n",
       "    <tr>\n",
       "      <th>16</th>\n",
       "      <td>51806</td>\n",
       "      <td>Ситуация с НКО в России со временем меняется: ...</td>\n",
       "      <td>1568111760</td>\n",
       "      <td>0</td>\n",
       "      <td>9</td>\n",
       "      <td>1</td>\n",
       "    </tr>\n",
       "    <tr>\n",
       "      <th>17</th>\n",
       "      <td>51804</td>\n",
       "      <td>Лимон, апельсин, виноград или арбуз? Гости [cl...</td>\n",
       "      <td>1568104238</td>\n",
       "      <td>1</td>\n",
       "      <td>38</td>\n",
       "      <td>2</td>\n",
       "    </tr>\n",
       "    <tr>\n",
       "      <th>18</th>\n",
       "      <td>51803</td>\n",
       "      <td>Сразу три студента Вышки стали амбассадорами [...</td>\n",
       "      <td>1568057640</td>\n",
       "      <td>0</td>\n",
       "      <td>32</td>\n",
       "      <td>1</td>\n",
       "    </tr>\n",
       "    <tr>\n",
       "      <th>19</th>\n",
       "      <td>51801</td>\n",
       "      <td>Многих наград и премий в науке надо просто дож...</td>\n",
       "      <td>1568039491</td>\n",
       "      <td>0</td>\n",
       "      <td>49</td>\n",
       "      <td>3</td>\n",
       "    </tr>\n",
       "    <tr>\n",
       "      <th>20</th>\n",
       "      <td>51800</td>\n",
       "      <td>В этом году на Покровке откроется обновленный ...</td>\n",
       "      <td>1568033357</td>\n",
       "      <td>0</td>\n",
       "      <td>20</td>\n",
       "      <td>1</td>\n",
       "    </tr>\n",
       "    <tr>\n",
       "      <th>21</th>\n",
       "      <td>51799</td>\n",
       "      <td>Вы знали, как называется ощущение, что вы не н...</td>\n",
       "      <td>1568027280</td>\n",
       "      <td>0</td>\n",
       "      <td>39</td>\n",
       "      <td>3</td>\n",
       "    </tr>\n",
       "    <tr>\n",
       "      <th>22</th>\n",
       "      <td>51797</td>\n",
       "      <td>Если собираетесь уйти во фрилансеры — будьте г...</td>\n",
       "      <td>1568018010</td>\n",
       "      <td>0</td>\n",
       "      <td>19</td>\n",
       "      <td>2</td>\n",
       "    </tr>\n",
       "    <tr>\n",
       "      <th>23</th>\n",
       "      <td>51788</td>\n",
       "      <td>Если вы ещё не успели побывать на Покровке, те...</td>\n",
       "      <td>1567783254</td>\n",
       "      <td>0</td>\n",
       "      <td>101</td>\n",
       "      <td>5</td>\n",
       "    </tr>\n",
       "    <tr>\n",
       "      <th>24</th>\n",
       "      <td>51786</td>\n",
       "      <td>Люди с «гибким» мышлением более склонны к прин...</td>\n",
       "      <td>1567775538</td>\n",
       "      <td>1</td>\n",
       "      <td>59</td>\n",
       "      <td>2</td>\n",
       "    </tr>\n",
       "    <tr>\n",
       "      <th>25</th>\n",
       "      <td>51785</td>\n",
       "      <td>Как научиться различать коммуникативные уловки...</td>\n",
       "      <td>1567767905</td>\n",
       "      <td>1</td>\n",
       "      <td>23</td>\n",
       "      <td>5</td>\n",
       "    </tr>\n",
       "    <tr>\n",
       "      <th>26</th>\n",
       "      <td>51783</td>\n",
       "      <td>Свободы воли в привычном понимании, вероятно, ...</td>\n",
       "      <td>1567758788</td>\n",
       "      <td>1</td>\n",
       "      <td>33</td>\n",
       "      <td>8</td>\n",
       "    </tr>\n",
       "    <tr>\n",
       "      <th>27</th>\n",
       "      <td>51754</td>\n",
       "      <td>Готовимся к главному университетскому праздник...</td>\n",
       "      <td>1567612551</td>\n",
       "      <td>15</td>\n",
       "      <td>36</td>\n",
       "      <td>0</td>\n",
       "    </tr>\n",
       "    <tr>\n",
       "      <th>28</th>\n",
       "      <td>51745</td>\n",
       "      <td>«Музыка на костях», самиздатовские стихи и эст...</td>\n",
       "      <td>1567600981</td>\n",
       "      <td>0</td>\n",
       "      <td>25</td>\n",
       "      <td>0</td>\n",
       "    </tr>\n",
       "    <tr>\n",
       "      <th>29</th>\n",
       "      <td>51742</td>\n",
       "      <td>Начинаем учебный год с партнерства Вышки и [cl...</td>\n",
       "      <td>1567594831</td>\n",
       "      <td>1</td>\n",
       "      <td>57</td>\n",
       "      <td>2</td>\n",
       "    </tr>\n",
       "    <tr>\n",
       "      <th>...</th>\n",
       "      <td>...</td>\n",
       "      <td>...</td>\n",
       "      <td>...</td>\n",
       "      <td>...</td>\n",
       "      <td>...</td>\n",
       "      <td>...</td>\n",
       "    </tr>\n",
       "    <tr>\n",
       "      <th>70</th>\n",
       "      <td>7283</td>\n",
       "      <td>Умер Вячеслав Леонидович Глазычев.\\n\\n6 июня н...</td>\n",
       "      <td>1338989661</td>\n",
       "      <td>0</td>\n",
       "      <td>1</td>\n",
       "      <td>0</td>\n",
       "    </tr>\n",
       "    <tr>\n",
       "      <th>71</th>\n",
       "      <td>7263</td>\n",
       "      <td>Кто является для вас примером для подражания, ...</td>\n",
       "      <td>1338927570</td>\n",
       "      <td>22</td>\n",
       "      <td>8</td>\n",
       "      <td>0</td>\n",
       "    </tr>\n",
       "    <tr>\n",
       "      <th>72</th>\n",
       "      <td>7249</td>\n",
       "      <td>Летняя сессия в 3 словах.</td>\n",
       "      <td>1338918941</td>\n",
       "      <td>1</td>\n",
       "      <td>1875</td>\n",
       "      <td>385</td>\n",
       "    </tr>\n",
       "    <tr>\n",
       "      <th>73</th>\n",
       "      <td>7248</td>\n",
       "      <td>Knowledge Stream. Пол Зак «Молекула высокой мо...</td>\n",
       "      <td>1338918400</td>\n",
       "      <td>1</td>\n",
       "      <td>23</td>\n",
       "      <td>5</td>\n",
       "    </tr>\n",
       "    <tr>\n",
       "      <th>74</th>\n",
       "      <td>7236</td>\n",
       "      <td>Проект «Весенний диалог: политики и студенты» ...</td>\n",
       "      <td>1338908134</td>\n",
       "      <td>23</td>\n",
       "      <td>84</td>\n",
       "      <td>24</td>\n",
       "    </tr>\n",
       "    <tr>\n",
       "      <th>75</th>\n",
       "      <td>7235</td>\n",
       "      <td>Топ-менеджер единого экзамена.\\n\\nСегодня исол...</td>\n",
       "      <td>1338904726</td>\n",
       "      <td>0</td>\n",
       "      <td>3</td>\n",
       "      <td>0</td>\n",
       "    </tr>\n",
       "    <tr>\n",
       "      <th>76</th>\n",
       "      <td>7234</td>\n",
       "      <td>Макроэкономика после кризиса и задолго до него...</td>\n",
       "      <td>1338898777</td>\n",
       "      <td>0</td>\n",
       "      <td>12</td>\n",
       "      <td>2</td>\n",
       "    </tr>\n",
       "    <tr>\n",
       "      <th>77</th>\n",
       "      <td>7230</td>\n",
       "      <td>Прощание со всеобщим бесплатным\\n\\nБудет ли го...</td>\n",
       "      <td>1338893509</td>\n",
       "      <td>3</td>\n",
       "      <td>4</td>\n",
       "      <td>0</td>\n",
       "    </tr>\n",
       "    <tr>\n",
       "      <th>78</th>\n",
       "      <td>7229</td>\n",
       "      <td>Ребят, не забываем, что сегодня проходит день ...</td>\n",
       "      <td>1338886876</td>\n",
       "      <td>0</td>\n",
       "      <td>6</td>\n",
       "      <td>1</td>\n",
       "    </tr>\n",
       "    <tr>\n",
       "      <th>79</th>\n",
       "      <td>7226</td>\n",
       "      <td>Всем вышкинцам привет!\\n\\nПрошли те времена, к...</td>\n",
       "      <td>1338821045</td>\n",
       "      <td>0</td>\n",
       "      <td>5</td>\n",
       "      <td>3</td>\n",
       "    </tr>\n",
       "    <tr>\n",
       "      <th>80</th>\n",
       "      <td>7225</td>\n",
       "      <td>ВШЭ: индексы делового климата приблизились к у...</td>\n",
       "      <td>1338820078</td>\n",
       "      <td>0</td>\n",
       "      <td>3</td>\n",
       "      <td>0</td>\n",
       "    </tr>\n",
       "    <tr>\n",
       "      <th>81</th>\n",
       "      <td>7224</td>\n",
       "      <td>Уроки для обществ с дефектной демократией на г...</td>\n",
       "      <td>1338796430</td>\n",
       "      <td>0</td>\n",
       "      <td>8</td>\n",
       "      <td>1</td>\n",
       "    </tr>\n",
       "    <tr>\n",
       "      <th>82</th>\n",
       "      <td>7219</td>\n",
       "      <td></td>\n",
       "      <td>1338754741</td>\n",
       "      <td>0</td>\n",
       "      <td>368</td>\n",
       "      <td>79</td>\n",
       "    </tr>\n",
       "    <tr>\n",
       "      <th>83</th>\n",
       "      <td>7218</td>\n",
       "      <td>Напоминаем вам, что до 5 июня осуществляется р...</td>\n",
       "      <td>1338744306</td>\n",
       "      <td>0</td>\n",
       "      <td>6</td>\n",
       "      <td>0</td>\n",
       "    </tr>\n",
       "    <tr>\n",
       "      <th>84</th>\n",
       "      <td>7217</td>\n",
       "      <td></td>\n",
       "      <td>1338741316</td>\n",
       "      <td>0</td>\n",
       "      <td>63</td>\n",
       "      <td>7</td>\n",
       "    </tr>\n",
       "    <tr>\n",
       "      <th>85</th>\n",
       "      <td>7214</td>\n",
       "      <td></td>\n",
       "      <td>1338732660</td>\n",
       "      <td>1</td>\n",
       "      <td>58</td>\n",
       "      <td>8</td>\n",
       "    </tr>\n",
       "    <tr>\n",
       "      <th>86</th>\n",
       "      <td>7213</td>\n",
       "      <td>В Высшей школе экономики проходят выборы лучши...</td>\n",
       "      <td>1338726012</td>\n",
       "      <td>0</td>\n",
       "      <td>7</td>\n",
       "      <td>0</td>\n",
       "    </tr>\n",
       "    <tr>\n",
       "      <th>87</th>\n",
       "      <td>7212</td>\n",
       "      <td>For Economists\\n\\n5 июня в 16:30 на Покровке в...</td>\n",
       "      <td>1338723346</td>\n",
       "      <td>0</td>\n",
       "      <td>7</td>\n",
       "      <td>1</td>\n",
       "    </tr>\n",
       "    <tr>\n",
       "      <th>88</th>\n",
       "      <td>7209</td>\n",
       "      <td>С.Лавров посоветовал послу США \"сделать выводы...</td>\n",
       "      <td>1338659496</td>\n",
       "      <td>2</td>\n",
       "      <td>21</td>\n",
       "      <td>4</td>\n",
       "    </tr>\n",
       "    <tr>\n",
       "      <th>89</th>\n",
       "      <td>7208</td>\n",
       "      <td></td>\n",
       "      <td>1338646664</td>\n",
       "      <td>0</td>\n",
       "      <td>5</td>\n",
       "      <td>1</td>\n",
       "    </tr>\n",
       "    <tr>\n",
       "      <th>90</th>\n",
       "      <td>7206</td>\n",
       "      <td>«В целом мы не меняли стоимость платных услуг»...</td>\n",
       "      <td>1338645414</td>\n",
       "      <td>0</td>\n",
       "      <td>5</td>\n",
       "      <td>0</td>\n",
       "    </tr>\n",
       "    <tr>\n",
       "      <th>91</th>\n",
       "      <td>7188</td>\n",
       "      <td>Опрос для абитуриентов!</td>\n",
       "      <td>1338581944</td>\n",
       "      <td>15</td>\n",
       "      <td>7</td>\n",
       "      <td>2</td>\n",
       "    </tr>\n",
       "    <tr>\n",
       "      <th>92</th>\n",
       "      <td>7187</td>\n",
       "      <td>Недавно автор знаменитого логотипа \"Ворона\" - ...</td>\n",
       "      <td>1338579493</td>\n",
       "      <td>2</td>\n",
       "      <td>201</td>\n",
       "      <td>45</td>\n",
       "    </tr>\n",
       "    <tr>\n",
       "      <th>93</th>\n",
       "      <td>7186</td>\n",
       "      <td></td>\n",
       "      <td>1338577428</td>\n",
       "      <td>0</td>\n",
       "      <td>12</td>\n",
       "      <td>1</td>\n",
       "    </tr>\n",
       "    <tr>\n",
       "      <th>94</th>\n",
       "      <td>7185</td>\n",
       "      <td>Индекс предпринимательского сомнения.\\n\\nПромы...</td>\n",
       "      <td>1338553577</td>\n",
       "      <td>0</td>\n",
       "      <td>4</td>\n",
       "      <td>0</td>\n",
       "    </tr>\n",
       "    <tr>\n",
       "      <th>95</th>\n",
       "      <td>7181</td>\n",
       "      <td>Развитие научной школы как сверхзадача.\\n\\n1 и...</td>\n",
       "      <td>1338549252</td>\n",
       "      <td>0</td>\n",
       "      <td>15</td>\n",
       "      <td>0</td>\n",
       "    </tr>\n",
       "    <tr>\n",
       "      <th>96</th>\n",
       "      <td>7174</td>\n",
       "      <td>Любителям испанского языка и ценителям культур...</td>\n",
       "      <td>1338485096</td>\n",
       "      <td>6</td>\n",
       "      <td>42</td>\n",
       "      <td>7</td>\n",
       "    </tr>\n",
       "    <tr>\n",
       "      <th>97</th>\n",
       "      <td>7173</td>\n",
       "      <td>Друзья, ярмарка вакансий продолжается!\\n\\n \\n5...</td>\n",
       "      <td>1338462129</td>\n",
       "      <td>0</td>\n",
       "      <td>26</td>\n",
       "      <td>4</td>\n",
       "    </tr>\n",
       "    <tr>\n",
       "      <th>98</th>\n",
       "      <td>7172</td>\n",
       "      <td>Эксперты: России надо упростить визовую и нало...</td>\n",
       "      <td>1338462012</td>\n",
       "      <td>0</td>\n",
       "      <td>6</td>\n",
       "      <td>1</td>\n",
       "    </tr>\n",
       "    <tr>\n",
       "      <th>99</th>\n",
       "      <td>7171</td>\n",
       "      <td>МКК ВШЭ: встреча в новых обстоятельствах.\\n\\n3...</td>\n",
       "      <td>1338455002</td>\n",
       "      <td>0</td>\n",
       "      <td>3</td>\n",
       "      <td>0</td>\n",
       "    </tr>\n",
       "  </tbody>\n",
       "</table>\n",
       "<p>10000 rows × 6 columns</p>\n",
       "</div>"
      ],
      "text/plain": [
       "       id                                               text        date  \\\n",
       "0   49874  Учеба в Вышке может принять совершенно неожида...  1560964430   \n",
       "1   51842  На выставочной площадке [club21317467|Школы ди...  1568373843   \n",
       "2   51841  Работать с большими данными, упростить выполне...  1568366128   \n",
       "3   51833  «Припудрить носик», уборная или туалет. Мы при...  1568306280   \n",
       "4   51831  В этом году поддержать студенческие инициативы...  1568302140   \n",
       "..    ...                                                ...         ...   \n",
       "95   7181  Развитие научной школы как сверхзадача.\\n\\n1 и...  1338549252   \n",
       "96   7174  Любителям испанского языка и ценителям культур...  1338485096   \n",
       "97   7173  Друзья, ярмарка вакансий продолжается!\\n\\n \\n5...  1338462129   \n",
       "98   7172  Эксперты: России надо упростить визовую и нало...  1338462012   \n",
       "99   7171  МКК ВШЭ: встреча в новых обстоятельствах.\\n\\n3...  1338455002   \n",
       "\n",
       "   comments likes reposts  \n",
       "0        23   264      17  \n",
       "1         0     8       0  \n",
       "2         0    29       3  \n",
       "3         0    23       1  \n",
       "4         1     8       0  \n",
       "..      ...   ...     ...  \n",
       "95        0    15       0  \n",
       "96        6    42       7  \n",
       "97        0    26       4  \n",
       "98        0     6       1  \n",
       "99        0     3       0  \n",
       "\n",
       "[10000 rows x 6 columns]"
      ]
     },
     "execution_count": 109,
     "metadata": {},
     "output_type": "execute_result"
    }
   ],
   "source": [
    "meta"
   ]
  },
  {
   "cell_type": "code",
   "execution_count": 129,
   "metadata": {},
   "outputs": [],
   "source": [
    "meta.index = list(range(10000))"
   ]
  },
  {
   "cell_type": "code",
   "execution_count": 130,
   "metadata": {},
   "outputs": [],
   "source": [
    "meta.to_csv('hse_university_wall_posts.csv')"
   ]
  },
  {
   "cell_type": "code",
   "execution_count": 112,
   "metadata": {},
   "outputs": [],
   "source": [
    "import datetime"
   ]
  },
  {
   "cell_type": "code",
   "execution_count": 118,
   "metadata": {},
   "outputs": [
    {
     "data": {
      "text/plain": [
       "datetime.datetime(2012, 5, 31, 13, 3, 22)"
      ]
     },
     "execution_count": 118,
     "metadata": {},
     "output_type": "execute_result"
    }
   ],
   "source": [
    "datetime.datetime.fromtimestamp(1338455002)"
   ]
  },
  {
   "cell_type": "code",
   "execution_count": 120,
   "metadata": {},
   "outputs": [
    {
     "data": {
      "text/plain": [
       "<matplotlib.collections.PathCollection at 0x7f36ff84e550>"
      ]
     },
     "execution_count": 120,
     "metadata": {},
     "output_type": "execute_result"
    },
    {
     "data": {
      "image/png": "[encoded data removed]",
      "text/plain": [
       "<Figure size 432x288 with 1 Axes>"
      ]
     },
     "metadata": {
      "needs_background": "light"
     },
     "output_type": "display_data"
    }
   ],
   "source": [
    "plt.scatter(meta.likes, meta.reposts)"
   ]
  },
  {
   "cell_type": "code",
   "execution_count": 126,
   "metadata": {},
   "outputs": [],
   "source": [
    "likes = meta.likes[meta.likes > 200]\n",
    "reposts = meta.reposts[meta.likes > 200]"
   ]
  },
  {
   "cell_type": "code",
   "execution_count": 127,
   "metadata": {},
   "outputs": [
    {
     "data": {
      "text/plain": [
       "<matplotlib.collections.PathCollection at 0x7f36ff8676d8>"
      ]
     },
     "execution_count": 127,
     "metadata": {},
     "output_type": "execute_result"
    },
    {
     "data": {
      "image/png": "[encoded data removed]",
      "text/plain": [
       "<Figure size 432x288 with 1 Axes>"
      ]
     },
     "metadata": {
      "needs_background": "light"
     },
     "output_type": "display_data"
    }
   ],
   "source": [
    "plt.scatter(likes, reposts)"
   ]
  },
  {
   "cell_type": "code",
   "execution_count": 133,
   "metadata": {},
   "outputs": [
    {
     "data": {
      "text/plain": [
       "<matplotlib.collections.PathCollection at 0x7f36ff9a4240>"
      ]
     },
     "execution_count": 133,
     "metadata": {},
     "output_type": "execute_result"
    },
    {
     "data": {
      "image/png": "[encoded data removed]",
      "text/plain": [
       "<Figure size 432x288 with 1 Axes>"
      ]
     },
     "metadata": {
      "needs_background": "light"
     },
     "output_type": "display_data"
    }
   ],
   "source": [
    "plt.scatter(meta.likes, meta.comments)"
   ]
  },
  {
   "cell_type": "code",
   "execution_count": 139,
   "metadata": {},
   "outputs": [
    {
     "data": {
      "text/plain": [
       "array([0, 1, 2, 3, 4, 5, 6, 7, 8, 9, 10, 11, 12, 13, 14, 15, 16, 17, 18,\n",
       "       19, 20, 21, 22, 23, 24, 25, 26, 27, 28, 29, 30, 31, 32, 33, 34, 35,\n",
       "       36, 37, 38, 39, 40, 41, 42, 43, 44, 45, 46, 47, 48, 49, 50, 51, 52,\n",
       "       53, 54, 55, 56, 57, 58, 59, 60, 61, 62, 63, 64, 65, 66, 67, 68, 69,\n",
       "       70, 71, 72, 73, 74, 75, 76, 77, 78, 79, 80, 81, 82, 83, 84, 85, 86,\n",
       "       87, 88, 89, 90, 91, 92, 93, 94, 95, 96, 97, 98, 99, 100, 101, 102,\n",
       "       103, 104, 105, 106, 107, 108, 109, 110, 111, 112, 113, 114, 115,\n",
       "       116, 117, 118, 119, 120, 121, 122, 123, 124, 125, 126, 127, 128,\n",
       "       129, 131, 132, 133, 134, 135, 136, 137, 138, 139, 140, 141, 142,\n",
       "       143, 144, 145, 146, 147, 148, 149, 150, 151, 152, 153, 154, 155,\n",
       "       156, 157, 158, 159, 160, 161, 163, 164, 165, 166, 168, 169, 170,\n",
       "       171, 172, 173, 174, 175, 176, 177, 178, 179, 181, 182, 183, 184,\n",
       "       185, 186, 187, 188, 190, 192, 193, 194, 196, 197, 200, 201, 202,\n",
       "       203, 204, 205, 206, 207, 209, 210, 213, 214, 215, 216, 217, 218,\n",
       "       219, 220, 221, 222, 223, 226, 227, 228, 229, 231, 232, 233, 235,\n",
       "       237, 238, 244, 246, 247, 250, 252, 256, 257, 260, 261, 262, 264,\n",
       "       265, 266, 268, 271, 277, 279, 280, 284, 286, 287, 294, 297, 298,\n",
       "       299, 300, 303, 305, 307, 309, 310, 311, 313, 314, 316, 320, 321,\n",
       "       322, 328, 333, 336, 338, 343, 345, 347, 357, 359, 360, 361, 364,\n",
       "       368, 369, 371, 372, 373, 378, 390, 398, 399, 416, 419, 428, 440,\n",
       "       442, 444, 460, 462, 463, 464, 480, 481, 490, 508, 538, 545, 556,\n",
       "       557, 571, 585, 587, 588, 630, 657, 678, 686, 705, 793, 806, 824,\n",
       "       825, 832, 837, 844, 852, 909, 910, 916, 919, 925, 950, 953, 967,\n",
       "       1019, 1045, 1056, 1067, 1076, 1098, 1101, 1110, 1143, 1159, 1164,\n",
       "       1167, 1175, 1187, 1189, 1206, 1313, 1324, 1327, 1344, 1346, 1382,\n",
       "       1407, 1411, 1412, 1466, 1469, 1499, 1508, 1511, 1521, 1530, 1657,\n",
       "       1730, 1733, 1817, 1826, 1875, 1959, 2019, 2041, 2097, 2099, 2317,\n",
       "       2546, 2556, 2575, 2598, 2616, 2623, 2645, 2733, 2766, 3123, 3142,\n",
       "       3177, 3355, 3661, 3874, 4452, 4940, 6898, 7465, 8296, 9874],\n",
       "      dtype=object)"
      ]
     },
     "execution_count": 139,
     "metadata": {},
     "output_type": "execute_result"
    }
   ],
   "source": [
    "np.unique(meta.likes)"
   ]
  },
  {
   "cell_type": "code",
   "execution_count": 145,
   "metadata": {},
   "outputs": [
    {
     "data": {
      "text/plain": [
       "113.0"
      ]
     },
     "execution_count": 145,
     "metadata": {},
     "output_type": "execute_result"
    }
   ],
   "source": [
    "meta.likes.quantile(0.95)"
   ]
  },
  {
   "cell_type": "code",
   "execution_count": 144,
   "metadata": {},
   "outputs": [
    {
     "data": {
      "text/plain": [
       "5.0"
      ]
     },
     "execution_count": 144,
     "metadata": {},
     "output_type": "execute_result"
    }
   ],
   "source": [
    "meta.likes.quantile(0.05)"
   ]
  },
  {
   "cell_type": "code",
   "execution_count": 149,
   "metadata": {},
   "outputs": [],
   "source": [
    "index = meta.likes.between(5, 113, inclusive=False)\n",
    "likes = meta.likes[index]\n",
    "comments = meta.comments[index]"
   ]
  },
  {
   "cell_type": "code",
   "execution_count": 150,
   "metadata": {},
   "outputs": [
    {
     "data": {
      "text/plain": [
       "<matplotlib.collections.PathCollection at 0x7f36fdc1e320>"
      ]
     },
     "execution_count": 150,
     "metadata": {},
     "output_type": "execute_result"
    },
    {
     "data": {
      "image/png": "[encoded data removed]",
      "text/plain": [
       "<Figure size 432x288 with 1 Axes>"
      ]
     },
     "metadata": {
      "needs_background": "light"
     },
     "output_type": "display_data"
    }
   ],
   "source": [
    "plt.scatter(likes, comments)"
   ]
  },
  {
   "cell_type": "code",
   "execution_count": 152,
   "metadata": {},
   "outputs": [
    {
     "data": {
      "image/png": "[encoded data removed]",
      "text/plain": [
       "<Figure size 432x288 with 1 Axes>"
      ]
     },
     "metadata": {
      "needs_background": "light"
     },
     "output_type": "display_data"
    }
   ],
   "source": [
    "plt.hist(likes, bins=100);"
   ]
  },
  {
   "cell_type": "code",
   "execution_count": 169,
   "metadata": {},
   "outputs": [],
   "source": [
    "index = meta.comments.between(meta.comments.quantile(0.05), meta.comments.quantile(0.95), inclusive=True)\n",
    "comments = meta.comments[index]"
   ]
  },
  {
   "cell_type": "code",
   "execution_count": 174,
   "metadata": {},
   "outputs": [
    {
     "data": {
      "text/plain": [
       "1.0"
      ]
     },
     "execution_count": 174,
     "metadata": {},
     "output_type": "execute_result"
    }
   ],
   "source": [
    "meta.comments.quantile(0.7)"
   ]
  },
  {
   "cell_type": "code",
   "execution_count": 171,
   "metadata": {},
   "outputs": [
    {
     "data": {
      "image/png": "[encoded data removed]",
      "text/plain": [
       "<Figure size 432x288 with 1 Axes>"
      ]
     },
     "metadata": {
      "needs_background": "light"
     },
     "output_type": "display_data"
    }
   ],
   "source": [
    "plt.hist(comments);"
   ]
  },
  {
   "cell_type": "code",
   "execution_count": 178,
   "metadata": {},
   "outputs": [
    {
     "data": {
      "image/png": "[encoded data removed]",
      "text/plain": [
       "<Figure size 432x288 with 1 Axes>"
      ]
     },
     "metadata": {
      "needs_background": "light"
     },
     "output_type": "display_data"
    }
   ],
   "source": [
    "index = meta.comments.between(meta.comments.quantile(0.7), meta.comments.quantile(0.95), inclusive=True)\n",
    "comments = meta.comments[index]\n",
    "plt.hist(comments, bins=8);"
   ]
  },
  {
   "cell_type": "code",
   "execution_count": 164,
   "metadata": {},
   "outputs": [
    {
     "data": {
      "text/plain": [
       "(array([0, 1, 2, 3, 4, 5, 6, 7, 8, 9, 10, 11, 12, 13, 14, 15, 16, 17, 18,\n",
       "        19, 20, 21, 22, 23, 24, 25, 26, 27, 28, 29, 30, 31, 32, 33, 34, 35,\n",
       "        36, 37, 39, 40, 41, 42, 44, 45, 46, 47, 50, 51, 56, 57, 58, 59, 64,\n",
       "        65, 72, 73, 76, 77, 78, 82, 85, 86, 90, 93, 96, 105, 108, 129, 132,\n",
       "        147, 185, 204, 213, 319, 377, 597, 611], dtype=object),\n",
       " array([6233, 1094,  678,  493,  359,  223,  174,  135,   83,   77,   65,\n",
       "          48,   48,   35,   22,   16,   19,   17,   15,   11,   13,    8,\n",
       "           7,   14,    3,    3,   12,    3,    4,    6,    4,    6,    4,\n",
       "           4,    3,    4,    4,    1,    4,    1,    1,    4,    1,    1,\n",
       "           2,    3,    3,    1,    1,    1,    1,    2,    1,    1,    1,\n",
       "           1,    1,    1,    1,    1,    1,    2,    1,    1,    1,    1,\n",
       "           1,    1,    1,    1,    1,    1,    1,    1,    1,    1,    1]))"
      ]
     },
     "execution_count": 164,
     "metadata": {},
     "output_type": "execute_result"
    }
   ],
   "source": [
    "np.unique(meta.comments, return_counts=True)"
   ]
  },
  {
   "cell_type": "code",
   "execution_count": 132,
   "metadata": {},
   "outputs": [
    {
     "data": {
      "text/plain": [
       "<matplotlib.collections.PathCollection at 0x7f36ff557a58>"
      ]
     },
     "execution_count": 132,
     "metadata": {},
     "output_type": "execute_result"
    },
    {
     "data": {
      "image/png": "[encoded data removed]",
      "text/plain": [
       "<Figure size 432x288 with 1 Axes>"
      ]
     },
     "metadata": {
      "needs_background": "light"
     },
     "output_type": "display_data"
    }
   ],
   "source": [
    "plt.scatter(np.log1p(meta.likes.values.astype(float)), meta.comments)"
   ]
  },
  {
   "cell_type": "code",
   "execution_count": 180,
   "metadata": {},
   "outputs": [
    {
     "data": {
      "application/vnd.jupyter.widget-view+json": {
       "model_id": "01a993e37e814960a9861c42772f1815",
       "version_major": 2,
       "version_minor": 0
      },
      "text/plain": [
       "HBox(children=(IntProgress(value=0), HTML(value='')))"
      ]
     },
     "metadata": {},
     "output_type": "display_data"
    },
    {
     "name": "stdout",
     "output_type": "stream",
     "text": [
      "\n"
     ]
    }
   ],
   "source": [
    "group_id = 'hse_overheard'\n",
    "\n",
    "meta2 = pd.DataFrame(columns=['id', 'text', 'date', 'comments', 'likes', 'reposts'])\n",
    "for n in tqdm_notebook(range(100)):\n",
    "    response, _ = get_wall_post(group_id, access_token, count=100, offset=n*100)\n",
    "    df = get_meta_data(response)\n",
    "    meta2 = pd.concat([meta2, df])"
   ]
  },
  {
   "cell_type": "code",
   "execution_count": 181,
   "metadata": {},
   "outputs": [
    {
     "data": {
      "text/html": [
       "<div>\n",
       "<style scoped>\n",
       "    .dataframe tbody tr th:only-of-type {\n",
       "        vertical-align: middle;\n",
       "    }\n",
       "\n",
       "    .dataframe tbody tr th {\n",
       "        vertical-align: top;\n",
       "    }\n",
       "\n",
       "    .dataframe thead th {\n",
       "        text-align: right;\n",
       "    }\n",
       "</style>\n",
       "<table border=\"1\" class=\"dataframe\">\n",
       "  <thead>\n",
       "    <tr style=\"text-align: right;\">\n",
       "      <th></th>\n",
       "      <th>id</th>\n",
       "      <th>text</th>\n",
       "      <th>date</th>\n",
       "      <th>comments</th>\n",
       "      <th>likes</th>\n",
       "      <th>reposts</th>\n",
       "    </tr>\n",
       "  </thead>\n",
       "  <tbody>\n",
       "    <tr>\n",
       "      <th>0</th>\n",
       "      <td>425359</td>\n",
       "      <td>Анонимно) \\nРебята, кто изучает и очень любит ...</td>\n",
       "      <td>1568376600</td>\n",
       "      <td>0</td>\n",
       "      <td>0</td>\n",
       "      <td>0</td>\n",
       "    </tr>\n",
       "    <tr>\n",
       "      <th>1</th>\n",
       "      <td>425357</td>\n",
       "      <td>Ищу учебник English file ELEMENTARY</td>\n",
       "      <td>1568374800</td>\n",
       "      <td>0</td>\n",
       "      <td>0</td>\n",
       "      <td>0</td>\n",
       "    </tr>\n",
       "    <tr>\n",
       "      <th>2</th>\n",
       "      <td>425355</td>\n",
       "      <td>Ребята с майноров психология и современное иск...</td>\n",
       "      <td>1568373000</td>\n",
       "      <td>2</td>\n",
       "      <td>0</td>\n",
       "      <td>0</td>\n",
       "    </tr>\n",
       "    <tr>\n",
       "      <th>3</th>\n",
       "      <td>425348</td>\n",
       "      <td>анонимно) \\nкто с уб первый курс и тоже ищет д...</td>\n",
       "      <td>1568371200</td>\n",
       "      <td>1</td>\n",
       "      <td>0</td>\n",
       "      <td>0</td>\n",
       "    </tr>\n",
       "    <tr>\n",
       "      <th>4</th>\n",
       "      <td>425343</td>\n",
       "      <td>Анон. Продам учебник Ready For IELTS в электро...</td>\n",
       "      <td>1568369400</td>\n",
       "      <td>9</td>\n",
       "      <td>1</td>\n",
       "      <td>0</td>\n",
       "    </tr>\n",
       "    <tr>\n",
       "      <th>5</th>\n",
       "      <td>425340</td>\n",
       "      <td>До 20 сентября первый покур 500 рублей на любо...</td>\n",
       "      <td>1568365740</td>\n",
       "      <td>0</td>\n",
       "      <td>0</td>\n",
       "      <td>0</td>\n",
       "    </tr>\n",
       "    <tr>\n",
       "      <th>6</th>\n",
       "      <td>425302</td>\n",
       "      <td>Кто может отдать/продать учебник по французско...</td>\n",
       "      <td>1568362200</td>\n",
       "      <td>0</td>\n",
       "      <td>0</td>\n",
       "      <td>0</td>\n",
       "    </tr>\n",
       "    <tr>\n",
       "      <th>7</th>\n",
       "      <td>425294</td>\n",
       "      <td>Кто хочет на майнор \"Менеджмент\", напишите в Л...</td>\n",
       "      <td>1568358709</td>\n",
       "      <td>0</td>\n",
       "      <td>0</td>\n",
       "      <td>0</td>\n",
       "    </tr>\n",
       "    <tr>\n",
       "      <th>8</th>\n",
       "      <td>425287</td>\n",
       "      <td>Ребят, кто нибудь учится на факультете \"Управл...</td>\n",
       "      <td>1568340600</td>\n",
       "      <td>1</td>\n",
       "      <td>0</td>\n",
       "      <td>0</td>\n",
       "    </tr>\n",
       "    <tr>\n",
       "      <th>9</th>\n",
       "      <td>425286</td>\n",
       "      <td>Кто хочет на майнор Human Rights? Обменяю на н...</td>\n",
       "      <td>1568338800</td>\n",
       "      <td>0</td>\n",
       "      <td>1</td>\n",
       "      <td>0</td>\n",
       "    </tr>\n",
       "    <tr>\n",
       "      <th>10</th>\n",
       "      <td>425285</td>\n",
       "      <td>Привет! Куплю учебник «Ready for IELTS» (!!sec...</td>\n",
       "      <td>1568337000</td>\n",
       "      <td>0</td>\n",
       "      <td>0</td>\n",
       "      <td>0</td>\n",
       "    </tr>\n",
       "    <tr>\n",
       "      <th>11</th>\n",
       "      <td>425284</td>\n",
       "      <td>Магистры \"Бизнес-информатики\", отзовитесь в ко...</td>\n",
       "      <td>1568335200</td>\n",
       "      <td>1</td>\n",
       "      <td>0</td>\n",
       "      <td>0</td>\n",
       "    </tr>\n",
       "    <tr>\n",
       "      <th>12</th>\n",
       "      <td>425283</td>\n",
       "      <td>Анон.\\nКто живет в общаге в дубках? Интересует...</td>\n",
       "      <td>1568333400</td>\n",
       "      <td>0</td>\n",
       "      <td>0</td>\n",
       "      <td>0</td>\n",
       "    </tr>\n",
       "    <tr>\n",
       "      <th>13</th>\n",
       "      <td>425280</td>\n",
       "      <td>Все, кто хочет уйти с ИАДа - лайк</td>\n",
       "      <td>1568331600</td>\n",
       "      <td>0</td>\n",
       "      <td>0</td>\n",
       "      <td>0</td>\n",
       "    </tr>\n",
       "    <tr>\n",
       "      <th>14</th>\n",
       "      <td>425279</td>\n",
       "      <td>Ready for ielts только учебник (с диском). 100...</td>\n",
       "      <td>1568329800</td>\n",
       "      <td>0</td>\n",
       "      <td>0</td>\n",
       "      <td>0</td>\n",
       "    </tr>\n",
       "    <tr>\n",
       "      <th>15</th>\n",
       "      <td>425277</td>\n",
       "      <td>Кто-нибудь собирается уходить с майнора по пси...</td>\n",
       "      <td>1568328000</td>\n",
       "      <td>0</td>\n",
       "      <td>0</td>\n",
       "      <td>0</td>\n",
       "    </tr>\n",
       "    <tr>\n",
       "      <th>16</th>\n",
       "      <td>425274</td>\n",
       "      <td>Всем привет!! Студенты с майнора менеджмент! М...</td>\n",
       "      <td>1568326200</td>\n",
       "      <td>0</td>\n",
       "      <td>0</td>\n",
       "      <td>0</td>\n",
       "    </tr>\n",
       "    <tr>\n",
       "      <th>17</th>\n",
       "      <td>425271</td>\n",
       "      <td>Привет. Ни у кого нет \"Высшей математики для э...</td>\n",
       "      <td>1568324400</td>\n",
       "      <td>1</td>\n",
       "      <td>0</td>\n",
       "      <td>0</td>\n",
       "    </tr>\n",
       "    <tr>\n",
       "      <th>18</th>\n",
       "      <td>425264</td>\n",
       "      <td>Возможно ли перевестись с другого вуза в ВШЭ п...</td>\n",
       "      <td>1568322600</td>\n",
       "      <td>5</td>\n",
       "      <td>0</td>\n",
       "      <td>0</td>\n",
       "    </tr>\n",
       "    <tr>\n",
       "      <th>19</th>\n",
       "      <td>425261</td>\n",
       "      <td>Люди, проживающие в трилистнике в двушке или т...</td>\n",
       "      <td>1568320800</td>\n",
       "      <td>0</td>\n",
       "      <td>0</td>\n",
       "      <td>0</td>\n",
       "    </tr>\n",
       "    <tr>\n",
       "      <th>20</th>\n",
       "      <td>425259</td>\n",
       "      <td>Привет, магистр Управления Проектов!\\nПодскажи...</td>\n",
       "      <td>1568319000</td>\n",
       "      <td>1</td>\n",
       "      <td>3</td>\n",
       "      <td>0</td>\n",
       "    </tr>\n",
       "    <tr>\n",
       "      <th>21</th>\n",
       "      <td>425253</td>\n",
       "      <td>Поменяю свой майнор нейросети на любой ваш (по...</td>\n",
       "      <td>1568317200</td>\n",
       "      <td>1</td>\n",
       "      <td>5</td>\n",
       "      <td>0</td>\n",
       "    </tr>\n",
       "    <tr>\n",
       "      <th>22</th>\n",
       "      <td>425249</td>\n",
       "      <td>Продам учебники Кузьменковой!</td>\n",
       "      <td>1568315400</td>\n",
       "      <td>0</td>\n",
       "      <td>0</td>\n",
       "      <td>0</td>\n",
       "    </tr>\n",
       "    <tr>\n",
       "      <th>23</th>\n",
       "      <td>425246</td>\n",
       "      <td>Ребят, никто на днях в Нидерланды случайно не ...</td>\n",
       "      <td>1568313600</td>\n",
       "      <td>1</td>\n",
       "      <td>3</td>\n",
       "      <td>0</td>\n",
       "    </tr>\n",
       "    <tr>\n",
       "      <th>24</th>\n",
       "      <td>425243</td>\n",
       "      <td>Поменяю свой майнор \"безопасность предпринимат...</td>\n",
       "      <td>1568311800</td>\n",
       "      <td>0</td>\n",
       "      <td>0</td>\n",
       "      <td>0</td>\n",
       "    </tr>\n",
       "    <tr>\n",
       "      <th>25</th>\n",
       "      <td>425237</td>\n",
       "      <td>Привет! Отпишитесь в комментариях, если у вас ...</td>\n",
       "      <td>1568310000</td>\n",
       "      <td>0</td>\n",
       "      <td>1</td>\n",
       "      <td>0</td>\n",
       "    </tr>\n",
       "    <tr>\n",
       "      <th>26</th>\n",
       "      <td>425233</td>\n",
       "      <td>Поменяю отличный майнор \"Менеджмент\" на какой-...</td>\n",
       "      <td>1568308200</td>\n",
       "      <td>2</td>\n",
       "      <td>0</td>\n",
       "      <td>0</td>\n",
       "    </tr>\n",
       "    <tr>\n",
       "      <th>27</th>\n",
       "      <td>425230</td>\n",
       "      <td>подскажите, по каким дням и где факультатив Ли...</td>\n",
       "      <td>1568306400</td>\n",
       "      <td>0</td>\n",
       "      <td>0</td>\n",
       "      <td>0</td>\n",
       "    </tr>\n",
       "    <tr>\n",
       "      <th>28</th>\n",
       "      <td>425226</td>\n",
       "      <td>Куплю или приму в дар тетрадь ready for ielts</td>\n",
       "      <td>1568304600</td>\n",
       "      <td>1</td>\n",
       "      <td>0</td>\n",
       "      <td>0</td>\n",
       "    </tr>\n",
       "    <tr>\n",
       "      <th>29</th>\n",
       "      <td>425207</td>\n",
       "      <td>Спорите с одногруппниками, куда пойти между па...</td>\n",
       "      <td>1568300940</td>\n",
       "      <td>0</td>\n",
       "      <td>1</td>\n",
       "      <td>0</td>\n",
       "    </tr>\n",
       "    <tr>\n",
       "      <th>...</th>\n",
       "      <td>...</td>\n",
       "      <td>...</td>\n",
       "      <td>...</td>\n",
       "      <td>...</td>\n",
       "      <td>...</td>\n",
       "      <td>...</td>\n",
       "    </tr>\n",
       "    <tr>\n",
       "      <th>70</th>\n",
       "      <td>351926</td>\n",
       "      <td>Я иностранный студент, не пришла стипендия за ...</td>\n",
       "      <td>1517947800</td>\n",
       "      <td>9</td>\n",
       "      <td>2</td>\n",
       "      <td>0</td>\n",
       "    </tr>\n",
       "    <tr>\n",
       "      <th>71</th>\n",
       "      <td>351923</td>\n",
       "      <td>Кто был на комиссии по линалу у Бурмистровой? ...</td>\n",
       "      <td>1517944200</td>\n",
       "      <td>1</td>\n",
       "      <td>1</td>\n",
       "      <td>0</td>\n",
       "    </tr>\n",
       "    <tr>\n",
       "      <th>72</th>\n",
       "      <td>351920</td>\n",
       "      <td>Вопрос из серии #ядебил\\nВ вшэ чуть ли не самы...</td>\n",
       "      <td>1517940600</td>\n",
       "      <td>2</td>\n",
       "      <td>2</td>\n",
       "      <td>0</td>\n",
       "    </tr>\n",
       "    <tr>\n",
       "      <th>73</th>\n",
       "      <td>351911</td>\n",
       "      <td>Ребята, кто заканчивал магистратуру по направл...</td>\n",
       "      <td>1517937000</td>\n",
       "      <td>0</td>\n",
       "      <td>0</td>\n",
       "      <td>0</td>\n",
       "    </tr>\n",
       "    <tr>\n",
       "      <th>74</th>\n",
       "      <td>351897</td>\n",
       "      <td>Есть ли кто-нибудь, готовый обменять общежитие...</td>\n",
       "      <td>1517933400</td>\n",
       "      <td>3</td>\n",
       "      <td>0</td>\n",
       "      <td>0</td>\n",
       "    </tr>\n",
       "    <tr>\n",
       "      <th>75</th>\n",
       "      <td>351894</td>\n",
       "      <td>Светловолосый парень с востоковедения, который...</td>\n",
       "      <td>1517931600</td>\n",
       "      <td>6</td>\n",
       "      <td>0</td>\n",
       "      <td>0</td>\n",
       "    </tr>\n",
       "    <tr>\n",
       "      <th>76</th>\n",
       "      <td>351893</td>\n",
       "      <td>Ребят, а какого числа вступительные проходят в...</td>\n",
       "      <td>1517929800</td>\n",
       "      <td>6</td>\n",
       "      <td>1</td>\n",
       "      <td>0</td>\n",
       "    </tr>\n",
       "    <tr>\n",
       "      <th>77</th>\n",
       "      <td>351889</td>\n",
       "      <td></td>\n",
       "      <td>1517926140</td>\n",
       "      <td>2</td>\n",
       "      <td>0</td>\n",
       "      <td>0</td>\n",
       "    </tr>\n",
       "    <tr>\n",
       "      <th>78</th>\n",
       "      <td>351883</td>\n",
       "      <td>Расскажите про кейс-клуб, какие требования и к...</td>\n",
       "      <td>1517922600</td>\n",
       "      <td>0</td>\n",
       "      <td>2</td>\n",
       "      <td>0</td>\n",
       "    </tr>\n",
       "    <tr>\n",
       "      <th>79</th>\n",
       "      <td>351876</td>\n",
       "      <td>Ребят, отличникам стипендию повышают или нет?</td>\n",
       "      <td>1517917200</td>\n",
       "      <td>2</td>\n",
       "      <td>1</td>\n",
       "      <td>0</td>\n",
       "    </tr>\n",
       "    <tr>\n",
       "      <th>80</th>\n",
       "      <td>351874</td>\n",
       "      <td>А можно летнюю практику пройти весной? \\nБез о...</td>\n",
       "      <td>1517911800</td>\n",
       "      <td>1</td>\n",
       "      <td>1</td>\n",
       "      <td>0</td>\n",
       "    </tr>\n",
       "    <tr>\n",
       "      <th>81</th>\n",
       "      <td>351870</td>\n",
       "      <td>Хочу сказать спасибо! (Хоть и с опозданием).\\n...</td>\n",
       "      <td>1517906400</td>\n",
       "      <td>0</td>\n",
       "      <td>16</td>\n",
       "      <td>0</td>\n",
       "    </tr>\n",
       "    <tr>\n",
       "      <th>82</th>\n",
       "      <td>351858</td>\n",
       "      <td></td>\n",
       "      <td>1517901000</td>\n",
       "      <td>0</td>\n",
       "      <td>129</td>\n",
       "      <td>0</td>\n",
       "    </tr>\n",
       "    <tr>\n",
       "      <th>83</th>\n",
       "      <td>351840</td>\n",
       "      <td>Кто поступал в магистратуру на международное т...</td>\n",
       "      <td>1517865000</td>\n",
       "      <td>0</td>\n",
       "      <td>0</td>\n",
       "      <td>0</td>\n",
       "    </tr>\n",
       "    <tr>\n",
       "      <th>84</th>\n",
       "      <td>351836</td>\n",
       "      <td>Всем привет. Люди, учащиеся в Школе дизайна (п...</td>\n",
       "      <td>1517861400</td>\n",
       "      <td>1</td>\n",
       "      <td>0</td>\n",
       "      <td>0</td>\n",
       "    </tr>\n",
       "    <tr>\n",
       "      <th>85</th>\n",
       "      <td>351822</td>\n",
       "      <td>Собираюсь поступать на факультет государственн...</td>\n",
       "      <td>1517857800</td>\n",
       "      <td>2</td>\n",
       "      <td>0</td>\n",
       "      <td>0</td>\n",
       "    </tr>\n",
       "    <tr>\n",
       "      <th>86</th>\n",
       "      <td>351808</td>\n",
       "      <td>Здравствуйте, расскажите, пожалуйста, про пост...</td>\n",
       "      <td>1517854200</td>\n",
       "      <td>7</td>\n",
       "      <td>0</td>\n",
       "      <td>0</td>\n",
       "    </tr>\n",
       "    <tr>\n",
       "      <th>87</th>\n",
       "      <td>351796</td>\n",
       "      <td>Расскажите, про жизнь в Москве.\\nПрожиточный м...</td>\n",
       "      <td>1517850600</td>\n",
       "      <td>31</td>\n",
       "      <td>3</td>\n",
       "      <td>1</td>\n",
       "    </tr>\n",
       "    <tr>\n",
       "      <th>88</th>\n",
       "      <td>351787</td>\n",
       "      <td>Почему у нас такая унизительная низкая стипенд...</td>\n",
       "      <td>1517847000</td>\n",
       "      <td>12</td>\n",
       "      <td>3</td>\n",
       "      <td>0</td>\n",
       "    </tr>\n",
       "    <tr>\n",
       "      <th>89</th>\n",
       "      <td>351784</td>\n",
       "      <td>Кто вчера писал высшую пробу по психологии 11 ...</td>\n",
       "      <td>1517843400</td>\n",
       "      <td>0</td>\n",
       "      <td>0</td>\n",
       "      <td>0</td>\n",
       "    </tr>\n",
       "    <tr>\n",
       "      <th>90</th>\n",
       "      <td>351777</td>\n",
       "      <td>Спасибо большое ребятам (двум девушкам и парню...</td>\n",
       "      <td>1517839800</td>\n",
       "      <td>0</td>\n",
       "      <td>8</td>\n",
       "      <td>0</td>\n",
       "    </tr>\n",
       "    <tr>\n",
       "      <th>91</th>\n",
       "      <td>351775</td>\n",
       "      <td>Уважаемые студенты, \\n \\nв студенческие годы м...</td>\n",
       "      <td>1517836140</td>\n",
       "      <td>3</td>\n",
       "      <td>3</td>\n",
       "      <td>0</td>\n",
       "    </tr>\n",
       "    <tr>\n",
       "      <th>92</th>\n",
       "      <td>351772</td>\n",
       "      <td>Ребята с факультета права, кто-нибудь участвов...</td>\n",
       "      <td>1517832600</td>\n",
       "      <td>2</td>\n",
       "      <td>2</td>\n",
       "      <td>0</td>\n",
       "    </tr>\n",
       "    <tr>\n",
       "      <th>93</th>\n",
       "      <td>351768</td>\n",
       "      <td>Надоели подвалы?❌\\nНадоело искать вход гуляя п...</td>\n",
       "      <td>1517828940</td>\n",
       "      <td>2</td>\n",
       "      <td>4</td>\n",
       "      <td>0</td>\n",
       "    </tr>\n",
       "    <tr>\n",
       "      <th>94</th>\n",
       "      <td>351764</td>\n",
       "      <td>Здравствуйте! Мог бы кто-нибудь рассказать про...</td>\n",
       "      <td>1517825400</td>\n",
       "      <td>6</td>\n",
       "      <td>6</td>\n",
       "      <td>0</td>\n",
       "    </tr>\n",
       "    <tr>\n",
       "      <th>95</th>\n",
       "      <td>351758</td>\n",
       "      <td>Почему вышкинцы не поддержали студентов-летчик...</td>\n",
       "      <td>1517821800</td>\n",
       "      <td>4</td>\n",
       "      <td>0</td>\n",
       "      <td>0</td>\n",
       "    </tr>\n",
       "    <tr>\n",
       "      <th>96</th>\n",
       "      <td>351755</td>\n",
       "      <td>Есть ли тут добрые люди с маги бизнес-информат...</td>\n",
       "      <td>1517818200</td>\n",
       "      <td>0</td>\n",
       "      <td>0</td>\n",
       "      <td>0</td>\n",
       "    </tr>\n",
       "    <tr>\n",
       "      <th>97</th>\n",
       "      <td>351753</td>\n",
       "      <td></td>\n",
       "      <td>1517815185</td>\n",
       "      <td>1</td>\n",
       "      <td>49</td>\n",
       "      <td>1</td>\n",
       "    </tr>\n",
       "    <tr>\n",
       "      <th>98</th>\n",
       "      <td>351716</td>\n",
       "      <td>Есть кто учится на образовательной программе \"...</td>\n",
       "      <td>1517776800</td>\n",
       "      <td>9</td>\n",
       "      <td>5</td>\n",
       "      <td>0</td>\n",
       "    </tr>\n",
       "    <tr>\n",
       "      <th>99</th>\n",
       "      <td>351710</td>\n",
       "      <td>Всем привет) Такой вопрос: можно ли, поступив ...</td>\n",
       "      <td>1517771400</td>\n",
       "      <td>3</td>\n",
       "      <td>0</td>\n",
       "      <td>0</td>\n",
       "    </tr>\n",
       "  </tbody>\n",
       "</table>\n",
       "<p>10000 rows × 6 columns</p>\n",
       "</div>"
      ],
      "text/plain": [
       "        id                                               text        date  \\\n",
       "0   425359  Анонимно) \\nРебята, кто изучает и очень любит ...  1568376600   \n",
       "1   425357                Ищу учебник English file ELEMENTARY  1568374800   \n",
       "2   425355  Ребята с майноров психология и современное иск...  1568373000   \n",
       "3   425348  анонимно) \\nкто с уб первый курс и тоже ищет д...  1568371200   \n",
       "4   425343  Анон. Продам учебник Ready For IELTS в электро...  1568369400   \n",
       "..     ...                                                ...         ...   \n",
       "95  351758  Почему вышкинцы не поддержали студентов-летчик...  1517821800   \n",
       "96  351755  Есть ли тут добрые люди с маги бизнес-информат...  1517818200   \n",
       "97  351753                                                     1517815185   \n",
       "98  351716  Есть кто учится на образовательной программе \"...  1517776800   \n",
       "99  351710  Всем привет) Такой вопрос: можно ли, поступив ...  1517771400   \n",
       "\n",
       "   comments likes reposts  \n",
       "0         0     0       0  \n",
       "1         0     0       0  \n",
       "2         2     0       0  \n",
       "3         1     0       0  \n",
       "4         9     1       0  \n",
       "..      ...   ...     ...  \n",
       "95        4     0       0  \n",
       "96        0     0       0  \n",
       "97        1    49       1  \n",
       "98        9     5       0  \n",
       "99        3     0       0  \n",
       "\n",
       "[10000 rows x 6 columns]"
      ]
     },
     "execution_count": 181,
     "metadata": {},
     "output_type": "execute_result"
    }
   ],
   "source": [
    "meta2"
   ]
  },
  {
   "cell_type": "code",
   "execution_count": 183,
   "metadata": {},
   "outputs": [
    {
     "data": {
      "text/plain": [
       "datetime.datetime(2018, 2, 4, 22, 10)"
      ]
     },
     "execution_count": 183,
     "metadata": {},
     "output_type": "execute_result"
    }
   ],
   "source": [
    "\n",
    "datetime.datetime.fromtimestamp(1517771400)"
   ]
  },
  {
   "cell_type": "code",
   "execution_count": 184,
   "metadata": {},
   "outputs": [],
   "source": [
    "meta2.index = list(range(10000))"
   ]
  },
  {
   "cell_type": "code",
   "execution_count": 185,
   "metadata": {},
   "outputs": [],
   "source": [
    "meta2.to_csv('hse_overheard_wall_posts.csv')"
   ]
  },
  {
   "cell_type": "code",
   "execution_count": null,
   "metadata": {},
   "outputs": [],
   "source": []
  }
 ],
 "metadata": {
  "kernelspec": {
   "display_name": "Python 3",
   "language": "python",
   "name": "python3"
  },
  "language_info": {
   "codemirror_mode": {
    "name": "ipython",
    "version": 3
   },
   "file_extension": ".py",
   "mimetype": "text/x-python",
   "name": "python",
   "nbconvert_exporter": "python",
   "pygments_lexer": "ipython3",
   "version": "3.7.3"
  }
 },
 "nbformat": 4,
 "nbformat_minor": 2
}
