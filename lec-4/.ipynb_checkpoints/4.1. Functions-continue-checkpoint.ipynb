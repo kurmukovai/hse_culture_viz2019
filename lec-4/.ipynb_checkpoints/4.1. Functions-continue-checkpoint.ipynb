{
 "cells": [
  {
   "cell_type": "markdown",
   "metadata": {},
   "source": [
    "## Recap"
   ]
  },
  {
   "cell_type": "markdown",
   "metadata": {},
   "source": [
    "## Типы\n",
    "\n",
    "- integer\n",
    "- float\n",
    "- bool\n",
    "- string\n",
    "\n",
    "## Контейнеры\n",
    "\n",
    "- list\n",
    "- tuple\n",
    "- set\n",
    "- dictionary\n",
    "\n",
    "## Условный оператор\n",
    "\n",
    "- if\n",
    "\n",
    "## Циклы\n",
    "\n",
    "- for loop\n",
    "\n",
    "## Функции\n",
    "\n",
    "- def\n",
    "- return\n",
    "- \\*args\n",
    "- \\*\\*kwargs"
   ]
  },
  {
   "cell_type": "code",
   "execution_count": null,
   "metadata": {
    "scrolled": true
   },
   "outputs": [],
   "source": [
    "# !pip install tutormagic"
   ]
  },
  {
   "cell_type": "code",
   "execution_count": null,
   "metadata": {},
   "outputs": [],
   "source": [
    "%load_ext tutormagic"
   ]
  },
  {
   "cell_type": "markdown",
   "metadata": {},
   "source": [
    "## Recap Python functions"
   ]
  },
  {
   "cell_type": "code",
   "execution_count": null,
   "metadata": {},
   "outputs": [],
   "source": [
    "def rectangle_area(a, b):\n",
    "    return a * b\n",
    "\n",
    "x = 10\n",
    "y = 20\n",
    "\n",
    "s = rectangle_area(x, y)\n",
    "\n",
    "print(s)"
   ]
  },
  {
   "cell_type": "code",
   "execution_count": null,
   "metadata": {},
   "outputs": [],
   "source": [
    "%%tutor --lang python3\n",
    "\n",
    "def rectangle_area(a, b):\n",
    "    return a * b\n",
    "\n",
    "x = 10\n",
    "y = 20\n",
    "\n",
    "s = rectangle_area(x, y)\n",
    "\n",
    "print(s)"
   ]
  },
  {
   "cell_type": "markdown",
   "metadata": {},
   "source": [
    "Представьте что у вас есть схема предложения:\n",
    "- Подлежащее сказуемое\n",
    "\n",
    "Существуеют множество предложений удовлетворяющих это схеме:\n",
    "- Девочка ест.\n",
    "- Люди изобретают.\n",
    "- Студенты учатся.\n",
    "- ...\n",
    "\n",
    "так и аргументы в определении функции это всего лишь **placeholders**, лишь обозначение,\n",
    "для того что будет передано внутрь функции.\n",
    "\n",
    "`\n",
    "def Составить_предложение(подлежащее, сказуемое):\n",
    "    return f'{подлежащее.capitalize()} {сказуемое}'\n",
    "`"
   ]
  },
  {
   "cell_type": "code",
   "execution_count": null,
   "metadata": {},
   "outputs": [],
   "source": [
    "def Составить_предложение(подлежащее, сказуемое):\n",
    "    return f'{подлежащее.capitalize()} {сказуемое}'"
   ]
  },
  {
   "cell_type": "code",
   "execution_count": null,
   "metadata": {},
   "outputs": [],
   "source": [
    "name = 'девочка'\n",
    "action = 'ест'\n",
    "\n",
    "sentence = Составить_предложение(name, action)\n",
    "print(sentence)"
   ]
  },
  {
   "cell_type": "code",
   "execution_count": null,
   "metadata": {},
   "outputs": [],
   "source": [
    "def rectangle_area(a, b):\n",
    "    return a * b"
   ]
  },
  {
   "cell_type": "code",
   "execution_count": null,
   "metadata": {},
   "outputs": [],
   "source": [
    "x = 5\n",
    "y = 3\n",
    "area = rectangle_area(x, y)\n",
    "print(area)"
   ]
  },
  {
   "cell_type": "code",
   "execution_count": null,
   "metadata": {},
   "outputs": [],
   "source": [
    "u = 4.2\n",
    "v = 2\n",
    "area = rectangle_area(u, v)\n",
    "print(area)"
   ]
  },
  {
   "cell_type": "code",
   "execution_count": null,
   "metadata": {},
   "outputs": [],
   "source": [
    "width = 3\n",
    "length = 6.0\n",
    "area = rectangle_area(a = width, b = length)\n",
    "print(area)"
   ]
  },
  {
   "cell_type": "code",
   "execution_count": null,
   "metadata": {},
   "outputs": [],
   "source": [
    "area = rectangle_area(1, 2)\n",
    "print(area)"
   ]
  },
  {
   "cell_type": "code",
   "execution_count": null,
   "metadata": {},
   "outputs": [],
   "source": []
  },
  {
   "cell_type": "code",
   "execution_count": null,
   "metadata": {},
   "outputs": [],
   "source": [
    "true_answers = {\n",
    "    'Question 1': 17.5,\n",
    "    'Question 2': 'Square',\n",
    "    'Question 3': 3.1415,\n",
    "    'Question 4': 'Moon',\n",
    "    'Question 5': True\n",
    "}\n",
    "\n",
    "Alex_answers = {\n",
    "    'Question 1': 5,\n",
    "    'Question 2': 'Square',\n",
    "    'Question 4': 'Moon',\n",
    "    'Question 5': True\n",
    "}\n",
    "\n",
    "Linda_answers = {\n",
    "    'Question 1': 17.5,\n",
    "    'Question 2': 'Square',\n",
    "    'Question 3': 3.1415,\n",
    "    'Question 4': 'Earth',\n",
    "    'Question 5': True\n",
    "}\n"
   ]
  },
  {
   "cell_type": "code",
   "execution_count": null,
   "metadata": {},
   "outputs": [],
   "source": [
    "def check_answers(student_answers, right_answers=true_answers):\n",
    "    '''\n",
    "    Check student's answers\n",
    "    '''\n",
    "    total_right_answers = 0\n",
    "    for key,value in student_answers.items():\n",
    "        if student_answers[key] == right_answers[key]:\n",
    "            total_right_answers = total_right_answers + 1\n",
    "    return total_right_answers"
   ]
  },
  {
   "cell_type": "code",
   "execution_count": null,
   "metadata": {},
   "outputs": [],
   "source": [
    "check_answers(Linda_answers, true_answers)"
   ]
  },
  {
   "cell_type": "code",
   "execution_count": null,
   "metadata": {},
   "outputs": [],
   "source": [
    "def check_answers(student_answers, right_answers=true_answers):\n",
    "    '''\n",
    "    Check student's answers\n",
    "    '''\n",
    "    total_right_answers = 0\n",
    "    n_answers = len(right_answers)\n",
    "    \n",
    "    for key,value in student_answers.items():\n",
    "        if student_answers[key] == right_answers[key]:\n",
    "            total_right_answers = total_right_answers + 1\n",
    "    \n",
    "    result = total_right_answers / n_answers * 100\n",
    "    print(f'{result} %')\n",
    "    return result"
   ]
  },
  {
   "cell_type": "code",
   "execution_count": null,
   "metadata": {},
   "outputs": [],
   "source": [
    "result = check_answers(Linda_answers, true_answers)"
   ]
  },
  {
   "cell_type": "code",
   "execution_count": null,
   "metadata": {},
   "outputs": [],
   "source": []
  },
  {
   "cell_type": "markdown",
   "metadata": {},
   "source": [
    "## Рассмотрим чуть более интересную функцию \n",
    "\n",
    "VK API https://vk.com/dev/users.get"
   ]
  },
  {
   "cell_type": "code",
   "execution_count": null,
   "metadata": {},
   "outputs": [],
   "source": [
    "def get_user_info(user_id, access_token):\n",
    "    url = f'https://api.vk.com/method/users.get?user_ids={user_id}&access_token={access_token}&v=5.8'\n",
    "    return url"
   ]
  },
  {
   "cell_type": "code",
   "execution_count": null,
   "metadata": {},
   "outputs": [],
   "source": [
    "access_token = 'a161b4dca161b4dca161b4dc27a107ebb8aa161a161b4dcfc1acecf46c7682af9752ac8'\n",
    "\n",
    "get_user_info('11986950', access_token)"
   ]
  },
  {
   "cell_type": "markdown",
   "metadata": {},
   "source": [
    "## Добавим какие нибудь поля (пол и дату рождения)"
   ]
  },
  {
   "cell_type": "code",
   "execution_count": null,
   "metadata": {},
   "outputs": [],
   "source": [
    "def get_user_info(user_id, access_token):\n",
    "    url = f'https://api.vk.com/method/users.get?user_ids={user_id}&access_token={access_token}&v=5.8&fields=sex,bdate'\n",
    "    return url"
   ]
  },
  {
   "cell_type": "code",
   "execution_count": null,
   "metadata": {},
   "outputs": [],
   "source": [
    "get_user_info('11986950', access_token)"
   ]
  },
  {
   "cell_type": "markdown",
   "metadata": {},
   "source": [
    "## Добавим еще какие нибудь поля (образование)"
   ]
  },
  {
   "cell_type": "code",
   "execution_count": null,
   "metadata": {},
   "outputs": [],
   "source": [
    "def get_user_info(user_id, access_token):\n",
    "    url = f'https://api.vk.com/method/users.get?user_ids={user_id}&access_token={access_token}&v=5.8&fields=sex,bdate,education,universities'\n",
    "    return url"
   ]
  },
  {
   "cell_type": "code",
   "execution_count": null,
   "metadata": {},
   "outputs": [],
   "source": [
    "get_user_info('11986950', access_token)"
   ]
  },
  {
   "cell_type": "markdown",
   "metadata": {},
   "source": [
    "## Достанем это все из под Python"
   ]
  },
  {
   "cell_type": "code",
   "execution_count": null,
   "metadata": {},
   "outputs": [],
   "source": [
    "import requests"
   ]
  },
  {
   "cell_type": "code",
   "execution_count": null,
   "metadata": {},
   "outputs": [],
   "source": [
    "def get_user_info(user_id, access_token):\n",
    "    url = f'https://api.vk.com/method/users.get?user_ids={user_id}&access_token={access_token}&v=5.8&fields=sex,bdate,education'\n",
    "    json_response = requests.get(url).json()\n",
    "    return url, json_response['response']"
   ]
  },
  {
   "cell_type": "code",
   "execution_count": null,
   "metadata": {},
   "outputs": [],
   "source": [
    "url, result = get_user_info('11986950', access_token)"
   ]
  },
  {
   "cell_type": "code",
   "execution_count": null,
   "metadata": {},
   "outputs": [],
   "source": [
    "result"
   ]
  },
  {
   "cell_type": "markdown",
   "metadata": {},
   "source": [
    "## Обобщим, чтобы доставать произвольные поля"
   ]
  },
  {
   "cell_type": "code",
   "execution_count": null,
   "metadata": {},
   "outputs": [],
   "source": [
    "fields = ['sex',\n",
    "          'bdate',\n",
    "          'education',\n",
    "          'city',\n",
    "          'country',\n",
    "          'home_town',\n",
    "          'has_photo',\n",
    "          'photo_50']\n",
    "\n",
    "def get_user_info(user_id, fields, access_token):\n",
    "    fields_to_add = ','.join(fields)\n",
    "    url = f'https://api.vk.com/method/users.get?user_ids={user_id}&access_token={access_token}&v=5.8&fields={fields_to_add}'\n",
    "    json_response = requests.get(url).json()\n",
    "    return url, json_response['response']"
   ]
  },
  {
   "cell_type": "code",
   "execution_count": null,
   "metadata": {},
   "outputs": [],
   "source": [
    "url, result = get_user_info('11986950', fields, access_token)"
   ]
  },
  {
   "cell_type": "code",
   "execution_count": null,
   "metadata": {},
   "outputs": [],
   "source": [
    "url, result = get_user_info('1', fields, access_token)"
   ]
  },
  {
   "cell_type": "code",
   "execution_count": null,
   "metadata": {},
   "outputs": [],
   "source": [
    "url, result = get_user_info('13123444', fields, access_token)"
   ]
  },
  {
   "cell_type": "code",
   "execution_count": null,
   "metadata": {},
   "outputs": [],
   "source": [
    "result"
   ]
  },
  {
   "cell_type": "markdown",
   "metadata": {},
   "source": [
    "### Какой тип у возвращаемого результата?"
   ]
  },
  {
   "cell_type": "markdown",
   "metadata": {},
   "source": [
    "### Какой длины возвращаемый результат?"
   ]
  },
  {
   "cell_type": "code",
   "execution_count": null,
   "metadata": {},
   "outputs": [],
   "source": []
  },
  {
   "cell_type": "markdown",
   "metadata": {},
   "source": [
    "### Как получить доступ к элементам?\n",
    "\n",
    "- из какого города\n",
    "- на каком факультете учился\n",
    "- как зовут"
   ]
  },
  {
   "cell_type": "code",
   "execution_count": null,
   "metadata": {},
   "outputs": [],
   "source": []
  },
  {
   "cell_type": "markdown",
   "metadata": {},
   "source": [
    "# VK API\n",
    "\n",
    "Получить свой access_token можно здесь\n",
    "`https://vk.com/apps?act=manage`\n",
    "\n",
    "Для этого нужно создать приложение и в разделе `Настройки` найти `Сервисный ключ доступа`\n",
    "\n",
    "После использования ключа, обновляйте его, и не выкладывайте в публичный доступ.\n",
    "\n",
    "# C помощью access_token можно получить полный доступ к вашему аккаунту!"
   ]
  },
  {
   "cell_type": "code",
   "execution_count": null,
   "metadata": {},
   "outputs": [],
   "source": []
  },
  {
   "cell_type": "code",
   "execution_count": null,
   "metadata": {},
   "outputs": [],
   "source": []
  }
 ],
 "metadata": {
  "kernelspec": {
   "display_name": "Python 3",
   "language": "python",
   "name": "python3"
  },
  "language_info": {
   "codemirror_mode": {
    "name": "ipython",
    "version": 3
   },
   "file_extension": ".py",
   "mimetype": "text/x-python",
   "name": "python",
   "nbconvert_exporter": "python",
   "pygments_lexer": "ipython3",
   "version": "3.7.3"
  }
 },
 "nbformat": 4,
 "nbformat_minor": 2
}
